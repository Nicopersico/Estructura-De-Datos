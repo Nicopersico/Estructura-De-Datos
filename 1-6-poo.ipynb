{
 "cells": [
  {
   "cell_type": "markdown",
   "id": "d923f630",
   "metadata": {},
   "source": [
    "# Programación Orientada a Objetos (POO)\n",
    "\n",
    "La Programación Orientada a Objetos (POO) es un paradigma de programación que utiliza \"objetos\" para representar datos y comportamientos. En Python, la POO se implementa a través de clases e instancias de esas clases, los objetos.\n",
    "\n",
    "Las clases permiten definir nuevos tipos de datos, encapsulando atributos (datos) y métodos (funciones) que operan sobre esos datos. Esto facilita la organización del código, la reutilización y la creación de programas más complejos de manera estructurada.\n",
    "\n",
    "## Algunos concptos clave de la POO\n",
    "\n",
    "Atributos\n",
    ": Son variables que pertenecen a una clase y representan el estado del objeto. Los atributos pueden ser de diferentes tipos, como enteros, cadenas, listas, etc. Cada objeto en memoria tiene sus propios valores para estos atributos. Estos atributos determinan el estado del objeto.\n",
    "\n",
    "Métodos de Instancia\n",
    ": Son funciones definidas dentro de una clase que operan sobre los atributos del objeto.\n",
    "\n",
    "Métodos de Clase\n",
    ": Son métodos que pertenecen a la clase en sí, no a las instancias de la clase. Es decir, son funciones que pueden ser llamadas sin necesidad de crear un objeto de la clase.\n",
    "\n",
    "Comportamiento\n",
    ": Se refiere al conjunto de métodos a los que puede responder un objeto. Los métodos definen cómo interactúa el objeto con otros objetos y cómo se comporta en diferentes situaciones.\n",
    "\n",
    "Herencia\n",
    ": Permite que una clase herede atributos y métodos de otra clase, lo que facilita la reutilización de código y la creación de jerarquías de clases. La clase que hereda se llama \"subclase\" o \"clase derivada\", mientras que la clase de la que hereda se llama \"superclase\" o \"clase base\". Python soporta herencia múltiple, lo que significa que una clase puede heredar de múltiples clases al mismo tiempo.\n",
    "\n",
    "Constructor\n",
    ": Es un método especial que se llama automáticamente cuando se crea un objeto de la clase. La finalidad del constructor es inicializar los atributos del objeto.\n",
    "\n",
    "## Clases y Objetos\n",
    "\n",
    "En Python, una clase es una plantilla para crear objetos, similar a los `struct`{l=python} de Go, una clase permite definir nuevos tipos de datos. Un objeto, en cambio, es una instancia de una clase y puede tener atributos (datos) y métodos (funciones). Pueden existir múltiples objetos de la misma clase, cada uno con sus propios valores para los atributos."
   ]
  },
  {
   "cell_type": "code",
   "execution_count": 1,
   "id": "b16e2f8c",
   "metadata": {
    "tags": [
     "hide-output"
    ]
   },
   "outputs": [
    {
     "name": "stdout",
     "output_type": "stream",
     "text": [
      "Hola, mi nombre es Alice y tengo 30 años.\n",
      "<class '__main__.Persona'>\n"
     ]
    }
   ],
   "source": [
    "class Persona:\n",
    "    def __init__(self, nombre, edad):\n",
    "        self.nombre = nombre\n",
    "        self.edad = edad\n",
    "\n",
    "    def saludar(self):\n",
    "        print(f\"Hola, mi nombre es {self.nombre} y tengo {self.edad} años.\")\n",
    "\n",
    "\n",
    "# Crear un objeto de la clase Persona\n",
    "persona1 = Persona(\"Alice\", 30)\n",
    "persona1.saludar()\n",
    "print(type(persona1))"
   ]
  },
  {
   "cell_type": "markdown",
   "id": "4287dac9",
   "metadata": {},
   "source": [
    "En el fragmento de código anterior, se define una clase `Persona`{l=python} con un constructor (`__init__`{l=python}) que inicializa los atributos `nombre`{l=python} y `edad`{l=python}. También se define un método `saludar`{l=python} que imprime un saludo. Luego, se crea un objeto `persona1`{l=python} de la clase `Persona`{l=python} y se llama al método `saludar`{l=python}.\n",
    "\n",
    "El constructor en Python siempre es `__init__`{l=python} y se utiliza para inicializar los atributos del objeto. Si no se declara explícitamente, Python proporcionará un constructor por defecto que no hace nada.\n",
    "\n",
    "El primer parámetro de los métodos de instancia es siempre `self`{l=python}, que se refiere a la instancia actual del objeto. Esto permite acceder a los atributos y métodos del objeto dentro de la clase. Es similar al `this`{l=python} de Java.\n",
    "\n",
    "## Herencia\n",
    "\n",
    "Una clase puede heredar de otra clase, o dicho de otra manera, puede extender otra clase. Esto permite que una clase herede atributos y métodos de su ancestro, y los pueda utilizar directamente sin tener que declararlos nuevamente, lo que facilita la reutilización de código y la creación de jerarquías de clases."
   ]
  },
  {
   "cell_type": "code",
   "execution_count": 2,
   "id": "c9d22a5c",
   "metadata": {
    "mystnb": {
     "number_source_lines": true
    },
    "tags": [
     "hide-output"
    ]
   },
   "outputs": [
    {
     "name": "stdout",
     "output_type": "stream",
     "text": [
      "Hola, mi nombre es Juan y tengo 25 años.\n",
      "Soy docente de Algoritmos y Programación.\n",
      "<class '__main__.Docente'>\n"
     ]
    }
   ],
   "source": [
    "class Docente(Persona):\n",
    "    def __init__(self, nombre, edad, materia):\n",
    "        super().__init__(nombre, edad)  # Llama al constructor de la clase base\n",
    "        self.materia = materia\n",
    "\n",
    "    def presentar(self):\n",
    "        self.saludar()  # Usa método heredado\n",
    "        print(f\"Soy docente de {self.materia}.\")\n",
    "\n",
    "\n",
    "# Crear un objeto de la clase Docente\n",
    "docente1 = Docente(\"Juan\", 25, \"Algoritmos y Programación\")\n",
    "docente1.presentar()\n",
    "print(type(docente1))"
   ]
  },
  {
   "cell_type": "markdown",
   "id": "7a54712d",
   "metadata": {},
   "source": [
    "En el ejemplo anterior, la clase `Docente`{l=python} hereda de la clase `Persona`{l=python}. Es decir un `Docente`{l=python} ***es una*** `Persona`{l=python} y por lo tanto tiene todos los atributos y métodos de cualquier `Persona`{l=python} y además tiene nuevos atributos y métodos como `Docente`\n",
    "\n",
    "El constructor de la clase `Docente`{l=python} espera todos los parámetros para poder instanciar un nuevo objeto del tipo `Docente`{l=python}, esto es el `nombre`{l=python} y la `edad`{l=python} de la `Persona`{l=python} y la `materia`{l=python} de la que es `Docente`{l=python}.\n",
    "\n",
    "Lo primero que hace el constructor de la clase `Docente`{l=python} es llamar al constructor de la clase base `Persona`{l=python} (línea 3) utilizando `super().__init__(nombre, edad)`. Esto asegura que los atributos `nombre`{l=python} y `edad`{l=python} se inicialicen correctamente en el objeto `Docente`{l=python}.\n",
    "\n",
    "`super()` es una función que permite llamar a métodos de la clase base desde una subclase. Cuando se invoca `super().__init__(nombre, edad)`, se está llamando al constructor de la clase base `Persona`{l=python}.\n",
    "\n",
    "En este caso como tanto `Docente`{l=python} como `Persona`{l=python} tienen un constructor, `__init__`{l=python}, es necesario usar `super()` para llamar al constructor de la clase base, caso contrario, se estaría llamando al constructor de la clase `Docente`{l=python}.\n",
    "\n",
    "Con esta estrategia se evita la duplicación de código y se asegura que los atributos de la clase base se inicialicen correctamente. Además, si por algún motivo hay que modificar el constructor de la clase base, no es necesario cambiar el código de la subclase.\n",
    "\n",
    "En el método `presentar`{l=python}, se llama al método `saludar`{l=python} de la clase base `Persona`{l=python} utilizando `self.saludar()`, lo que permite reutilizar el comportamiento definido en la clase base. En este caso como el método `saludar`{l=python} no fue ***sobreescrito*** en la clase `Docente`{l=python}, directamente se puede utilizar `self.saludar()` para llamar al método de la clase base, sin problemas.\n",
    "\n",
    "### Herencia Múltiple\n",
    "\n",
    "Python va más allá que otros lenguajes de programación orientados a objetos y permite la herencia múltiple, lo que significa que una clase puede heredar de múltiples clases al mismo tiempo. Esto se logra especificando múltiples clases base en la definición de la clase."
   ]
  },
  {
   "cell_type": "code",
   "execution_count": 4,
   "id": "489239f6",
   "metadata": {
    "mystnb": {
     "number_source_lines": true
    },
    "tags": [
     "hide-output"
    ]
   },
   "outputs": [
    {
     "name": "stdout",
     "output_type": "stream",
     "text": [
      "Hola, mi nombre es Juan y tengo 30 años\n",
      "Soy docente de Algoritmos y Programación\n",
      "\n",
      "Hola, mi nombre es Ana y tengo 20 años\n",
      "Soy estudiante de Ingeniería en Computación\n",
      "\n",
      "Hola, mi nombre es Luis y tengo 23 años\n",
      "Soy docente de Algoritmos y Programación\n",
      "\n",
      "<class '__main__.Ayudante'>\n",
      "Pagar a docentes\n",
      "Pago realizado al docente Juan, con legajo 64781.\n",
      "Pago realizado al docente Luis, con legajo 29478.\n",
      "\n",
      "Mostrar legajo de estudiantes\n",
      "Legajo: 30415, Nombre: Ana.\n",
      "Legajo: 29478, Nombre: Luis.\n",
      "\n",
      "Legajo actualizado a: 12345\n",
      "Pago realizado al docente Luis, con legajo 12345.\n"
     ]
    }
   ],
   "source": [
    "class Persona:\n",
    "    def __init__(self, nombre, edad):\n",
    "        self.nombre = nombre\n",
    "        self.edad = edad\n",
    "\n",
    "    def saludar(self):\n",
    "        print(f\"Hola, mi nombre es {self.nombre} y tengo {self.edad} años\")\n",
    "\n",
    "\n",
    "class Docente(Persona):\n",
    "    def __init__(self, legajo, nombre, edad, materia):\n",
    "        Persona.__init__(self, nombre, edad)\n",
    "        self.legajo = legajo  # legajo del Docente como Empleado\n",
    "        self.materia = materia\n",
    "\n",
    "    def presentar(self):\n",
    "        self.saludar()\n",
    "        print(f\"Soy docente de {self.materia}\")\n",
    "\n",
    "    def pagar(self):\n",
    "        print(f\"Pago realizado al docente {self.nombre}, con legajo {self.legajo}.\")\n",
    "\n",
    "\n",
    "class Estudiante(Persona):\n",
    "    def __init__(self, legajo, nombre, edad, carrera):\n",
    "        Persona.__init__(self, nombre, edad)\n",
    "        self.legajo = legajo  # legajo del Estudiante como Alumno\n",
    "        self.carrera = carrera\n",
    "\n",
    "    def presentar(self):\n",
    "        self.saludar()\n",
    "        print(f\"Soy estudiante de {self.carrera}\")\n",
    "\n",
    "    def mostrar_legajo(self):\n",
    "        print(f\"Legajo: {self.legajo}, Nombre: {self.nombre}.\")\n",
    "\n",
    "    def actualizar_legajo(self, nuevo_legajo):\n",
    "        self.legajo = nuevo_legajo\n",
    "        print(f\"Legajo actualizado a: {self.legajo}\")\n",
    "\n",
    "\n",
    "class Ayudante(Docente,Estudiante):\n",
    "    def __init__(self, legajo, nombre, edad, materia, carrera):\n",
    "        Docente.__init__(self, legajo, nombre, edad, materia)\n",
    "        Estudiante.__init__(self, legajo, nombre, edad, carrera)\n",
    "\n",
    "    \n",
    "\n",
    "# Crear un objeto de la clase Docente\n",
    "docente1 = Docente(64781, \"Juan\", 30, \"Algoritmos y Programación\")\n",
    "docente1.presentar()\n",
    "print()\n",
    "\n",
    "# Crear un objeto de la clase Estudiante\n",
    "estudiante1 = Estudiante(30415, \"Ana\", 20, \"Ingeniería en Computación\")\n",
    "estudiante1.presentar()\n",
    "print()\n",
    "\n",
    "# Crear un objeto de la clase Ayudante\n",
    "ayudante1 = Ayudante(\n",
    "    29478, \"Luis\", 23, \"Algoritmos y Programación\", \"Ingeniería en Sonido\"\n",
    ")\n",
    "ayudante1.presentar()\n",
    "print()\n",
    "print(type(ayudante1))\n",
    "\n",
    "print(\"Pagar a docentes\")\n",
    "for docente in [docente1, ayudante1]:\n",
    "    docente.pagar()  # Llama al método pagar de Docente\n",
    "print()\n",
    "\n",
    "print(\"Mostrar legajo de estudiantes\")\n",
    "for estudiante in [estudiante1, ayudante1]:\n",
    "    estudiante.mostrar_legajo()\n",
    "print()\n",
    "\n",
    "# Actualizamos el legajo del ayudante\n",
    "ayudante1.actualizar_legajo(12345)\n",
    "ayudante1.pagar()"
   ]
  },
  {
   "cell_type": "markdown",
   "id": "e17e0a0b",
   "metadata": {},
   "source": [
    "En el fragmento anterior se definen cuatro clases: `Persona`{l=python}, `Docente`{l=python}, `Estudiante`{l=python} y `Ayudante`{l=python}. `Docente`{l=python} y `Estudiante`{l=python} heredan de `Persona`{l=python}, mientras que `Ayudante`{l=python} hereda de `Estudiante`{l=python} y `Docente`{l=python} a través de la herencia múltiple. Lo que le permite a un `Ayudante`{l=python} heredar el comportamiento de ambas clases además de sumar sus propios atributos y métodos.\n",
    "\n",
    "En el siguiente *diagrama de clases* se puede observar la relación entre las clases y los atributos y métodos de cada una.\n",
    "\n",
    "```{figure} ../assets/images/diagrama_ayudante.png\n",
    "---\n",
    "name: ayudante-diagrama\n",
    "---\n",
    "Diagrama de clases de Ayudante\n",
    "```\n",
    "\n",
    "```{Note}\n",
    "Un ***diagrama de clases***, es un diagrama estático que muestra la estructura de un sistema mediante las clases que lo componen y sus relaciones. Una flecha con una línea continua y un triángulo en la punta indica herencia, y en cada clase se pueden ver los atributos y métodos que se definen en cada una. En general no se muestran los atributos y métodos heredados, ni los constructores, pero si los métodos que se sobrescriben, es decir, que se redefinen en una subclase. En el diagrama anterior el método `presentar`{l=python} de la clase `Ayudante`{l=python} sobrescribe el método `presentar`{l=python} de las clases `Docente`{l=python} y `Estudiante`{l=python}.\n",
    "```\n",
    "\n",
    "Cuando hay herencia múltiple se recomienda utilizar el nombre de la clase base explícitamente en el constructor de la subclase en lugar de `super()`. En la clase `Docente`{l=python}, línea 12 se utiliza directamente `Persona`{l=python} en lugar de usar `super()`, y en la línea 26 de la clase `Estudiante`{l=python} también, para evitar ambigüedades en la resolución de métodos y atributos.\n",
    "\n",
    "En el ejemplo anterior, tanto `Docente`{l=python} como `Estudiante`{l=python} tienen un atributo `legajo`{l=python}, por lo que al crear un objeto de la clase `Ayudante`{l=python}, se debe especificar explícitamente a qué clase base se está llamando.\n",
    "\n",
    "`Ayudante`{l=python} hereda de ambas clases que tienen un atributo `legajo`{l=python}, sin embargo el atributo `legajo`{l=python} no se duplica en un objeto de la clase `Ayudante`{l=python}. Lo que permite que con el mismo `legajo`{l=python} de `Estudiante`{l=python} se pueda pagar al `Docente`{l=python}.\n",
    "\n",
    "El siguiente fragmento de código inspecciona los atributos del objeto `ayudante1`{l=python} y los imprime en la consola (En [Instrospección](1-8-introspeccion.md) veremos más en detalle como los objetos pueden observarse y modificarse a si mismos en tiempo de ejecución)"
   ]
  },
  {
   "cell_type": "code",
   "execution_count": 4,
   "id": "63902ff8",
   "metadata": {
    "tags": [
     "hide-output"
    ]
   },
   "outputs": [
    {
     "name": "stdout",
     "output_type": "stream",
     "text": [
      "Atributos de ayudante1:\n",
      "nombre: Luis\n",
      "edad: 23\n",
      "legajo: 12345\n",
      "carrera: Ingeniería en Sonido\n",
      "materia: Algoritmos y Programación\n"
     ]
    }
   ],
   "source": [
    "print(\"Atributos de ayudante1:\")\n",
    "atributos = vars(ayudante1)\n",
    "for key, value in atributos.items():\n",
    "    print(f\"{key}: {value}\")"
   ]
  },
  {
   "cell_type": "markdown",
   "id": "0aa1518a",
   "metadata": {},
   "source": [
    "## Polimorfismo\n",
    "\n",
    "El polimorfismo es un concepto clave en la POO que permite que diferentes clases implementen métodos con el mismo nombre, pero con comportamientos diferentes. Esto significa que se puede tratar a objetos de diferentes clases de manera uniforme, utilizando el mismo nombre de método.\n",
    "\n",
    "En el ejemplo anterior el método `presentar`{l=python} se define tanto en `Docente`{l=python} como en `Estudiante`{l=python}. La clase `Ayudante`{l=python} hereda ambos métodos y además lo sobreescribe.\n",
    "\n",
    "Cuando hay herencia múltiple se debe tener cuidado como se resuelve el polimorfismo, ya que puede haber ambigüedades si dos clases base tienen un método con el mismo nombre. En Python, se utiliza el **Orden de Resolución de Métodos (MRO)** para determinar qué método se llama en caso de ambigüedad."
   ]
  },
  {
   "cell_type": "code",
   "execution_count": 5,
   "id": "90f9abe1",
   "metadata": {
    "tags": [
     "hide-output"
    ]
   },
   "outputs": [
    {
     "name": "stdout",
     "output_type": "stream",
     "text": [
      "Orden de Resolución de Métodos (MRO) de Ayudante:\n",
      "Ayudante\n",
      "Estudiante\n",
      "Docente\n",
      "Persona\n",
      "object\n"
     ]
    }
   ],
   "source": [
    "print(\"Orden de Resolución de Métodos (MRO) de Ayudante:\")\n",
    "orden = Ayudante.__mro__\n",
    "for cls in orden:\n",
    "    print(cls.__name__)"
   ]
  },
  {
   "cell_type": "markdown",
   "id": "f1f8188b",
   "metadata": {},
   "source": [
    "Es decir cuando se invoca un método cualquier de un objeto de la clase `Ayudante`{l=python}, Python primero busca el método en la propia clase `Ayudante`{l=python}, luego en `Estudiante`{l=python}, luego en `Docente`{l=python}, luego en `Persona`{l=python} y finalmente en `object`{l=python}.\n",
    "\n",
    "Por ese motivo no se puede usar `super()` en el constructor de la clase `Estudiante`{l=python} ya que si se hiciera, se generaría una ambigüedad en la resolución del método a llamar, ya que `super()` buscaría el siguiente método en la jerarquía de clases, que en este caso sería el constructor de `Docente`{l=python}, lo que no es lo que se desea.\n",
    "\n",
    "```{Note}\n",
    "`object`{l=python} es la clase base de todas las clases en Python. Todas las clases heredan de `object`{l=python}, lo que significa que todas las instancias de clases en Python son también instancias de `object`{l=python}. Esto proporciona una serie de métodos y atributos comunes a todas las clases.\n",
    "\n",
    "Por eso cuando se dice que en Python todo es un objeto, se refiere a que todas las clases heredan de `object`{l=python}, y por lo tanto, todas las instancias de clases son también instancias de `object`{l=python}. Esto permite que todas las clases tengan un comportamiento común, como la capacidad de ser comparadas, impresas, etc.\n",
    "```\n",
    "\n",
    "### Duck Typing\n",
    "\n",
    "El **Duck Typing** es un concepto en Python que se basa en la idea de que el tipo de un objeto se determina por su comportamiento en lugar de su clase. Es decir, si un objeto tiene los métodos y atributos necesarios para realizar una tarea, se puede tratar como si fuera de un tipo específico, sin necesidad de verificar su clase.\n",
    "\n",
    "```{epigraph}\n",
    "\"Si camina como un pato, nada como un pato y grazna como un pato, entonces probablemente sea un pato.\"\n",
    "---\n",
    "Principio fundamental del Duck Typing en Python\n",
    "```\n",
    "\n",
    "Este concepto es muy poderoso en Python, ya que permite que diferentes objetos puedan ser utilizados de manera intercambiable si cumplen con la interfaz esperada, sin necesidad de heredar de una clase específica. Todo ocurre de manera implícita, sin necesidad de declarar explícitamente que un objeto es de un tipo específico y sin necesidad de especificar interfaces o clases abstractas como en Java o Go. Esta versatilidad es gracias al sistema de tipos dinámico de Python.\n",
    "\n",
    "### Ejemplo\n",
    "\n",
    "En el siguiente ejemplo, cuyo diagrama de clases se muestra a continuación. Primero se define `Punto`{l=python} que representa un punto en el plano cartesiano y luego se definen las Figuras Geométricas `Cuadrado`{l=python}, `Punto`{l=python} `Elipse`{l=python}y `Punto`{l=python} que están ***compuestas*** por `Punto`{l=python}. Cada figura tiene un método `area`{l=python} que calcula su área, pero cada figura lo implementa de manera diferente.\n",
    "\n",
    "```{figure} ../assets/images/diagrama_figuras.png\n",
    "---\n",
    "name: figuras-diagrama\n",
    "---\n",
    "Diagrama de clases de Figuras Geométricas\n",
    "```\n",
    "\n",
    "```{literalinclude} ../_static/code/figuras/main.py\n",
    "---\n",
    "language: python\n",
    "name: figuras\n",
    "caption: Programación Orientada a Objetos - Figuras Geométricas\n",
    "---\n",
    "```"
   ]
  },
  {
   "cell_type": "code",
   "execution_count": 6,
   "id": "97251a97",
   "metadata": {
    "tags": [
     "hide-input",
     "remove-input",
     "hide-output"
    ]
   },
   "outputs": [
    {
     "name": "stdout",
     "output_type": "stream",
     "text": [
      "=== Demostración de Polimorfismo con Figuras ===\n",
      "\n",
      "--- Figura 1 ---\n",
      "Figura: Rectangulo((0.0, 0.0), (3.0, 4.0))\n",
      "  Perímetro: 14.00\n",
      "  Área: 12.00\n",
      "\n",
      "--- Figura 2 ---\n",
      "Figura: Cuadrado((1.0, 1.0), lado=5.0)\n",
      "  Perímetro: 20.00\n",
      "  Área: 25.00\n",
      "\n",
      "--- Figura 3 ---\n",
      "Figura: Circulo(centro=(2.0, 2.0), radio=3.0)\n",
      "  Perímetro: 18.85\n",
      "  Área: 28.27\n",
      "\n",
      "--- Figura 4 ---\n",
      "Figura: Elipse(centro=(0.0, 0.0), radio_a=4.0, radio_b=2.0)\n",
      "  Perímetro: 19.38\n",
      "  Área: 25.13\n",
      "\n",
      "--- Figura 5 ---\n",
      "Figura: Triangulo((0.0, 0.0), (3.0, 0.0), (0.0, 4.0))\n",
      "  Perímetro: 12.00\n",
      "  Área: 6.00\n",
      "\n",
      "--- Figura 6 ---\n",
      "Figura: Triangulo((0.0, 0.0), (2.0, 0.0), (1.0, 1.732))\n",
      "  Perímetro: 6.00\n",
      "  Área: 1.73\n",
      "\n",
      "==================================================\n",
      "Total de figuras: 6\n",
      "Perímetro total: 90.23\n",
      "Área total: 98.14\n",
      "\n",
      "=== Demostración de Herencia ===\n",
      "\n",
      "Relaciones de herencia:\n",
      "¿Cuadrado es instancia de Rectángulo? True\n",
      "¿Círculo es instancia de Elipse? True\n",
      "¿Rectángulo es instancia de Cuadrado? False\n",
      "\n",
      "Jerarquías de clases:\n",
      "Cuadrado MRO: ['Cuadrado', 'Rectangulo', 'object']\n",
      "Círculo MRO: ['Circulo', 'Elipse', 'object']\n",
      "\n",
      "=== Casos Especiales ===\n",
      "\n",
      "Figuras con valores por defecto:\n",
      "Rectangulo((0.0, 0.0), (1.0, 1.0)) -> Área: 1.00\n",
      "Cuadrado((0.0, 0.0), lado=1.0) -> Área: 1.00\n",
      "Circulo(centro=(0.0, 0.0), radio=1.0) -> Área: 3.14\n",
      "Elipse(centro=(0.0, 0.0), radio_a=1.0, radio_b=1.0) -> Área: 3.14\n",
      "Triangulo((0.0, 0.0), (1.0, 0.0), (0.0, 1.0)) -> Área: 0.50\n",
      "\n",
      "Casos límite:\n",
      "Triángulo degenerado: Triangulo((0.0, 0.0), (1.0, 0.0), (2.0, 0.0))\n",
      "Área: 0.00\n",
      "Círculo pequeño: Circulo(centro=(0.0, 0.0), radio=0.001)\n",
      "Área: 0.000003\n"
     ]
    }
   ],
   "source": [
    "%run ../_static/code/figuras/main.py"
   ]
  },
  {
   "cell_type": "markdown",
   "id": "1cd2b6ba",
   "metadata": {},
   "source": [
    "[Descargar código completo de Figuras Geométricas](https://github.com/untref-edd/apuntes/tree/main/contenidos/_static/code/figuras){target=\"\\_blank\"}\n",
    "\n",
    "## Recursos para profundizar\n",
    "\n",
    "- [Tutorial de Python - Clases](https://docs.python.org/es/3.13/tutorial/classes.html){target=\"\\_blank\"}\n",
    "- [Programación Orientada a Objetos (Hektor Profe)](https://hektorprofe.github.io/python/programacion-orientada-a-objetos/){target=\"\\_blank\"}\n",
    "- [Python - Clases y Objetos (W3Schools)](https://www.w3schools.com/python/python_classes.asp){target=\"\\_blank\"}"
   ]
  }
 ],
 "metadata": {
  "jupytext": {
   "formats": "md:myst",
   "text_representation": {
    "extension": ".md",
    "format_name": "myst"
   }
  },
  "kernelspec": {
   "display_name": "Python 3 (ipykernel)",
   "language": "python",
   "name": "python3"
  },
  "language_info": {
   "codemirror_mode": {
    "name": "ipython",
    "version": 3
   },
   "file_extension": ".py",
   "mimetype": "text/x-python",
   "name": "python",
   "nbconvert_exporter": "python",
   "pygments_lexer": "ipython3",
   "version": "3.13.7"
  },
  "source_map": [
   11,
   43,
   60,
   72,
   93,
   113,
   202,
   227,
   235,
   245,
   253,
   296,
   301
  ]
 },
 "nbformat": 4,
 "nbformat_minor": 5
}
