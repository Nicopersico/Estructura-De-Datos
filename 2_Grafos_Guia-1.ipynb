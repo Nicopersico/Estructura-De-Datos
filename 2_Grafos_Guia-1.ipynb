{
 "cells": [
  {
   "cell_type": "markdown",
   "id": "f05b7e77-8842-4ff5-bf9f-7433e68ccb68",
   "metadata": {
    "editable": false,
    "slideshow": {
     "slide_type": ""
    },
    "tags": []
   },
   "source": [
    "<p style=\"text-align: center\">\n",
    "    <img src=\"data:image/svg+xml,%3Csvg%20version%3D%221.2%22%20baseProfile%3D%22tiny%22%20id%3D%22Capa_1%22%20xmlns%3D%22http%3A%2F%2Fwww.w3.org%2F2000%2Fsvg%22%20xmlns%3Axlink%3D%22http%3A%2F%2Fwww.w3.org%2F1999%2Fxlink%22%20x%3D%220px%22%20y%3D%220px%22%20viewBox%3D%220%200%20136.5%2058%22%20overflow%3D%22visible%22%20xml%3Aspace%3D%22preserve%22%3E%3Cstyle%20type%3D%22text%2Fcss%22%3Epath%2Cpolygon%2Crect%7Bfill%3A%231e1f1d%21important%7D%40media%20%28prefers-color-scheme%3Adark%29%7Bpath%2Cpolygon%2Crect%7Bfill%3A%23e1e0e2%21important%7D%7D%3C%2Fstyle%3E%3Cg%3E%3Cpath%20d%3D%22M0%2C33.4h1v6.3c0%2C1.1%2C0.5%2C1.7%2C1.7%2C1.7s1.7-0.5%2C1.7-1.7v-6.3h1v6.3c0%2C1.8-1%2C2.5-2.7%2C2.5C1%2C42.3%2C0%2C41.5%2C0%2C39.7%20V33.4z%22%3E%3C%2Fpath%3E%3Cpolygon%20points%3D%228.1%2C42.2%208.1%2C33.4%209.4%2C33.4%2012.6%2C40.4%2012.7%2C40.4%2012.7%2C33.4%2013.7%2C33.4%2013.7%2C42.2%2012.4%2C42.2%209.1%2C34.9%209%2C34.9%209%2C42.2%22%3E%3C%2Fpolygon%3E%3Crect%20x%3D%2216.5%22%20width%3D%221%22%20y%3D%2233.4%22%20height%3D%228.7%22%3E%3C%2Frect%3E%3Cpolygon%20points%3D%2224.4%2C33.4%2025.4%2C33.4%2023.1%2C42.2%2021.7%2C42.2%2019.4%2C33.4%2020.5%2C33.4%2022.4%2C40.9%2022.5%2C40.9%22%3E%3C%2Fpolygon%3E%3Cpolygon%20points%3D%2227.4%2C42.2%2027.4%2C33.4%2032.1%2C33.4%2032.1%2C34.3%2028.4%2C34.3%2028.4%2C37.2%2031.6%2C37.2%2031.6%2C38.1%2028.4%2C38.1%2028.4%2C41.3%2032.3%2C41.3%2032.3%2C42.2%22%3E%3C%2Fpolygon%3E%3Cpath%20d%3D%22M35.3%2C37.6h1.8c1.1%2C0%2C1.6-0.5%2C1.6-1.6c0-1.1-0.5-1.6-1.6-1.6h-1.8V37.6z%20M35.3%2C42.2h-1v-8.7h3%20c1.6%2C0%2C2.5%2C0.9%2C2.5%2C2.5c0%2C1.3-0.6%2C2-1.2%2C2.3l1.3%2C3.9h-1.1l-1.2-3.6h-2.3V42.2z%22%3E%3C%2Fpath%3E%3Cpath%20d%3D%22M46.7%2C35.6c-0.1-1-0.6-1.4-1.7-1.4c-1%2C0-1.7%2C0.4-1.7%2C1.4c0%2C1%2C0.8%2C1.2%2C1.9%2C1.6c1.4%2C0.4%2C2.7%2C0.9%2C2.7%2C2.6%20c0%2C1.7-1.1%2C2.5-2.8%2C2.5c-1.8%2C0-2.8-0.8-2.9-2.5l1-0.1c0.1%2C1.2%2C0.7%2C1.7%2C1.9%2C1.7c1.1%2C0%2C1.8-0.5%2C1.8-1.5c0-1-0.6-1.3-1.9-1.7%20c-1.4-0.4-2.6-0.8-2.6-2.5c0-1.7%2C1.1-2.4%2C2.8-2.4c1.6%2C0%2C2.6%2C0.6%2C2.8%2C2.2L46.7%2C35.6z%22%3E%3C%2Fpath%3E%3Crect%20x%3D%2250.2%22%20width%3D%221%22%20y%3D%2233.4%22%20height%3D%228.7%22%3E%3C%2Frect%3E%3Cpath%20d%3D%22M55%2C41.3h1.9c1%2C0%2C1.7-0.5%2C1.7-1.5v-4c0-1-0.6-1.5-1.7-1.5H55V41.3z%20M54%2C33.4h2.8c1.8%2C0%2C2.8%2C0.7%2C2.8%2C2.5v3.7%20c0%2C1.8-1%2C2.5-2.8%2C2.5H54V33.4z%22%3E%3C%2Fpath%3E%3Cpath%20d%3D%22M63.2%2C39.1H66l-1.3-4.6h-0.1L63.2%2C39.1z%20M62.4%2C42.2h-1.1l2.6-8.7h1.5l2.6%2C8.7h-1.1L66.3%2C40H63L62.4%2C42.2z%22%3E%3C%2Fpath%3E%3Cpath%20d%3D%22M70.9%2C41.3h1.9c1%2C0%2C1.7-0.5%2C1.7-1.5v-4c0-1-0.6-1.5-1.7-1.5h-1.9V41.3z%20M69.8%2C33.4h2.8%20c1.8%2C0%2C2.8%2C0.7%2C2.8%2C2.5v3.7c0%2C1.8-1%2C2.5-2.8%2C2.5h-2.8V33.4z%22%3E%3C%2Fpath%3E%3Cpolygon%20points%3D%2281.3%2C42.2%2081.3%2C33.4%2082.6%2C33.4%2085.8%2C40.4%2085.9%2C40.4%2085.9%2C33.4%2086.9%2C33.4%2086.9%2C42.2%2085.6%2C42.2%2082.3%2C34.9%2082.2%2C34.9%2082.2%2C42.2%22%3E%3C%2Fpolygon%3E%3Cpath%20d%3D%22M90.7%2C39.1h2.8l-1.3-4.6H92L90.7%2C39.1z%20M89.8%2C42.2h-1.1l2.6-8.7h1.5l2.6%2C8.7h-1.1L93.7%2C40h-3.3L89.8%2C42.2z%22%3E%3C%2Fpath%3E%3Cpath%20d%3D%22M101.2%2C36.1v-0.4c0-1.1-0.5-1.5-1.7-1.5c-1.1%2C0-1.8%2C0.4-1.8%2C1.5v4.1c0%2C1.1%2C0.6%2C1.5%2C1.8%2C1.5%20c1.1%2C0%2C1.7-0.5%2C1.7-1.5v-0.4l1%2C0.1v0.1c0%2C1.8-0.9%2C2.6-2.7%2C2.6c-1.8%2C0-2.8-0.7-2.8-2.5v-4c0-1.8%2C1-2.5%2C2.8-2.5%20c1.8%2C0%2C2.7%2C0.7%2C2.7%2C2.6V36L101.2%2C36.1z%22%3E%3C%2Fpath%3E%3Crect%20x%3D%22104.7%22%20width%3D%221%22%20y%3D%2233.4%22%20height%3D%228.7%22%3E%3C%2Frect%3E%3Cpath%20d%3D%22M109.3%2C39.9c0%2C1.1%2C0.7%2C1.5%2C1.8%2C1.5c1.1%2C0%2C1.8-0.4%2C1.8-1.5v-4.1c0-1.1-0.7-1.5-1.8-1.5%20c-1.1%2C0-1.8%2C0.4-1.8%2C1.5V39.9z%20M108.3%2C35.8c0-1.9%2C1-2.5%2C2.8-2.5c1.8%2C0%2C2.8%2C0.7%2C2.8%2C2.5v3.9c0%2C1.9-1%2C2.5-2.8%2C2.5%20c-1.8%2C0-2.8-0.7-2.8-2.5V35.8z%22%3E%3C%2Fpath%3E%3Cpolygon%20points%3D%22116.5%2C42.2%20116.5%2C33.4%20117.8%2C33.4%20121%2C40.4%20121.1%2C40.4%20121.1%2C33.4%20122%2C33.4%20122%2C42.2%20120.8%2C42.2%20117.5%2C34.9%20117.4%2C34.9%20117.4%2C42.2%22%3E%3C%2Fpolygon%3E%3Cpath%20d%3D%22M125.9%2C39.1h2.8l-1.3-4.6h-0.1L125.9%2C39.1z%20M125%2C42.2h-1.1l2.6-8.7h1.5l2.6%2C8.7h-1.1l-0.6-2.1h-3.3%20L125%2C42.2z%22%3E%3C%2Fpath%3E%3Cpolygon%20points%3D%22132.5%2C42.2%20132.5%2C33.4%20133.5%2C33.4%20133.5%2C41.3%20136.5%2C41.3%20136.5%2C42.2%22%3E%3C%2Fpolygon%3E%3Cpath%20d%3D%22M1.2%2C57h1.9c1%2C0%2C1.7-0.5%2C1.7-1.5v-4c0-1-0.6-1.5-1.7-1.5H1.2V57z%20M0.1%2C49.1H3c1.8%2C0%2C2.8%2C0.7%2C2.8%2C2.5v3.7%20c0%2C1.8-1%2C2.5-2.8%2C2.5H0.1V49.1z%22%3E%3C%2Fpath%3E%3Cpolygon%20points%3D%228.3%2C57.9%208.3%2C49.1%2013%2C49.1%2013%2C50%209.3%2C50%209.3%2C52.9%2012.6%2C52.9%2012.6%2C53.8%209.3%2C53.8%209.3%2C57%2013.2%2C57%2013.2%2C57.9%22%3E%3C%2Fpolygon%3E%3Cpolygon%20points%3D%2219.7%2C50.1%2017.6%2C50.1%2017.6%2C49.1%2022.7%2C49.1%2022.7%2C50.1%2020.7%2C50.1%2020.7%2C57.9%2019.7%2C57.9%22%3E%3C%2Fpolygon%3E%3Cpath%20d%3D%22M25.6%2C53.3h1.8c1.1%2C0%2C1.6-0.5%2C1.6-1.6c0-1.1-0.5-1.6-1.6-1.6h-1.8V53.3z%20M25.6%2C57.9h-1v-8.7h3%20c1.6%2C0%2C2.5%2C0.9%2C2.5%2C2.5c0%2C1.3-0.6%2C2-1.2%2C2.3l1.3%2C3.9h-1.1l-1.2-3.6h-2.3V57.9z%22%3E%3C%2Fpath%3E%3Cpolygon%20points%3D%2232.8%2C57.9%2032.8%2C49.1%2037.5%2C49.1%2037.5%2C50%2033.8%2C50%2033.8%2C52.9%2037%2C52.9%2037%2C53.8%2033.8%2C53.8%2033.8%2C57%2037.7%2C57%2037.7%2C57.9%22%3E%3C%2Fpolygon%3E%3Cpath%20d%3D%22M44%2C51.3c-0.1-1-0.6-1.4-1.7-1.4c-1%2C0-1.7%2C0.4-1.7%2C1.4c0%2C1%2C0.8%2C1.2%2C1.9%2C1.6c1.4%2C0.4%2C2.7%2C0.9%2C2.7%2C2.6%20c0%2C1.7-1.1%2C2.5-2.8%2C2.5c-1.8%2C0-2.8-0.8-2.9-2.5l1-0.1c0.1%2C1.2%2C0.7%2C1.7%2C1.9%2C1.7c1.1%2C0%2C1.8-0.5%2C1.8-1.5c0-1-0.6-1.3-1.9-1.7%20c-1.4-0.4-2.6-0.8-2.6-2.5c0-1.7%2C1.1-2.4%2C2.8-2.4c1.6%2C0%2C2.6%2C0.6%2C2.8%2C2.2L44%2C51.3z%22%3E%3C%2Fpath%3E%3Cpath%20d%3D%22M51.8%2C57h1.9c1.1%2C0%2C1.7-0.5%2C1.7-1.5v-4c0-1-0.6-1.5-1.7-1.5h-1.9V57z%20M50.8%2C49.1h2.8c1.8%2C0%2C2.8%2C0.7%2C2.8%2C2.5%20v3.7c0%2C1.8-1%2C2.5-2.8%2C2.5h-2.8V49.1z%22%3E%3C%2Fpath%3E%3Cpolygon%20points%3D%2258.9%2C57.9%2058.9%2C49.1%2063.6%2C49.1%2063.6%2C50%2059.9%2C50%2059.9%2C52.9%2063.2%2C52.9%2063.2%2C53.8%2059.9%2C53.8%2059.9%2C57%2063.8%2C57%2063.8%2C57.9%22%3E%3C%2Fpolygon%3E%3Cpolygon%20points%3D%2269.2%2C57.9%2069.2%2C49.1%2073.6%2C49.1%2073.6%2C50%2070.2%2C50%2070.2%2C52.9%2073.2%2C52.9%2073.2%2C53.8%2070.2%2C53.8%2070.2%2C57.9%22%3E%3C%2Fpolygon%3E%3Cpolygon%20points%3D%2275.6%2C57.9%2075.6%2C49.1%2080.3%2C49.1%2080.3%2C50%2076.6%2C50%2076.6%2C52.9%2079.8%2C52.9%2079.8%2C53.8%2076.6%2C53.8%2076.6%2C57%2080.5%2C57%2080.5%2C57.9%22%3E%3C%2Fpolygon%3E%3Cpath%20d%3D%22M83.5%2C57h2.1c1.1%2C0%2C1.7-0.6%2C1.7-1.6c0-1.1-0.6-1.6-1.7-1.6h-2V57z%20M83.5%2C52.9h2c1%2C0%2C1.5-0.5%2C1.5-1.4%20c0-1-0.5-1.4-1.5-1.4h-2V52.9z%20M82.5%2C49.1h3.3c1.6%2C0%2C2.3%2C0.7%2C2.3%2C2.2c0%2C1-0.3%2C1.6-1%2C1.9v0.1c0.6%2C0.2%2C1.2%2C0.9%2C1.2%2C2.1%20c0%2C1.5-0.7%2C2.4-2.4%2C2.4h-3.4V49.1z%22%3E%3C%2Fpath%3E%3Cpath%20d%3D%22M91.9%2C53.3h1.8c1.1%2C0%2C1.6-0.5%2C1.6-1.6c0-1.1-0.5-1.6-1.6-1.6h-1.8V53.3z%20M91.9%2C57.9h-1v-8.7h3%20c1.6%2C0%2C2.5%2C0.9%2C2.5%2C2.5c0%2C1.3-0.6%2C2-1.2%2C2.3l1.3%2C3.9h-1.1l-1.2-3.6h-2.3V57.9z%22%3E%3C%2Fpath%3E%3Cpolygon%20points%3D%2299%2C57.9%2099%2C49.1%20103.7%2C49.1%20103.7%2C50%20100%2C50%20100%2C52.9%20103.3%2C52.9%20103.3%2C53.8%20100%2C53.8%20100%2C57%20103.9%2C57%20103.9%2C57.9%22%3E%3C%2Fpolygon%3E%3Cpath%20d%3D%22M107%2C53.3h1.8c1.1%2C0%2C1.6-0.5%2C1.6-1.6c0-1.1-0.5-1.6-1.6-1.6H107V53.3z%20M107%2C57.9h-1v-8.7h3%20c1.6%2C0%2C2.5%2C0.9%2C2.5%2C2.5c0%2C1.3-0.6%2C2-1.2%2C2.3l1.3%2C3.9h-1.1l-1.2-3.6H107V57.9z%22%3E%3C%2Fpath%3E%3Cpath%20d%3D%22M114.9%2C55.6c0%2C1.1%2C0.7%2C1.5%2C1.8%2C1.5c1.1%2C0%2C1.8-0.4%2C1.8-1.5v-4.1c0-1.1-0.7-1.5-1.8-1.5%20c-1.1%2C0-1.8%2C0.4-1.8%2C1.5V55.6z%20M113.9%2C51.5c0-1.9%2C1-2.5%2C2.8-2.5c1.8%2C0%2C2.8%2C0.7%2C2.8%2C2.5v3.9c0%2C1.9-1%2C2.5-2.8%2C2.5%20c-1.8%2C0-2.8-0.7-2.8-2.5V51.5z%22%3E%3C%2Fpath%3E%3Crect%20y%3D%2223.7%22%20width%3D%2296.4%22%20height%3D%223.6%22%3E%3C%2Frect%3E%3Cpath%20d%3D%22M69.1%2C17.5V0h11.5v2.9h-8V7h7.3v2.9h-7.3v4.7H81v2.9H69.1z%20M85.3%2C17.5V0h11v2.9h-7.6V7h6.9v2.9h-6.9v7.6%20H85.3z%20M54.5%2C17.5H51V0h7.2C62.1%2C0%2C64%2C1.8%2C64%2C5.3c0%2C2.8-1.4%2C4.1-2.7%2C4.6l2.9%2C7.6h-3.8L58%2C10.5h-3.5V17.5z%20M54.5%2C7.7h2.9%20c2%2C0%2C3-0.6%2C3-2.5c0-1.9-1-2.5-3-2.5h-2.9V7.7z%20M39.9%2C2.9h-4.4V0h12.4v2.9h-4.4v14.6h-3.5V2.9z%20M18.8%2C17.5V0h4.1l5.8%2C11.7h0.2V0h3.4%20v17.5h-4L22.2%2C5.3h-0.2v12.2H18.8z%20M0.1%2C0h3.5v12.1c0%2C2%2C1%2C2.8%2C3%2C2.8c2%2C0%2C3-0.8%2C3-2.8V0h3.5v12.1c0%2C3.8-2.3%2C5.7-6.5%2C5.7%20c-4.2%2C0-6.5-1.9-6.5-5.7V0z%22%3E%3C%2Fpath%3E%3C%2Fg%3E%3C%2Fsvg%3E\" style=\"height: 50px;\" />\n",
    "</p>\n",
    "\n",
    "<h3 style=\"text-align: center\">Estructura de Datos</h3>\n",
    "\n",
    "<h2 style=\"text-align: center\">Guía Grafos (Primera Parte)</h3>"
   ]
  },
  {
   "cell_type": "markdown",
   "id": "bb37ddd9-6839-4872-bcaf-a8e7ca3c3552",
   "metadata": {
    "editable": false,
    "slideshow": {
     "slide_type": ""
    },
    "tags": []
   },
   "source": [
    "**Ej 1**: Implemete la clase `Grafo` sobre una matríz de adyacencias. Se debe poder representar grafos dirigidos, no dirigidos, con pesos y sin pesos. El grafo debe soportar las siguientes operaciones:\n",
    "- Agregar un nodo\n",
    "- Eliminar un nodo\n",
    "- Agregar una arista (si los nodos no existen, se deben crear)\n",
    "- Eliminar una arista\n",
    "- Obtener los nodos adyacentes a un nodo\n",
    "- Obtener el peso de una arista\n",
    "- Obtener el grado de entrada de un nodo\n",
    "- Obtener el grado de salida de un nodo\n",
    "- Mostrar la matríz de adyacencias"
   ]
  },
  {
   "cell_type": "code",
   "execution_count": 3,
   "id": "5d2b5ac0-0b95-4c51-b5dd-8205d7f958b8",
   "metadata": {
    "editable": true,
    "slideshow": {
     "slide_type": ""
    },
    "tags": []
   },
   "outputs": [],
   "source": [
    "class Grafo:\n",
    "    def __init__(self,dirigido=True, con_pesos=False):\n",
    "        self.dirigido=dirigido\n",
    "        self.con_pesos=con_pesos\n",
    "        self.nodos=[]\n",
    "        self.matriz=[]\n",
    "        \n",
    "    def agregar_nodo(self,nodo):\n",
    "        self.nodos.append(nodo)\n",
    "        \n",
    "        for fila in self.matriz:\n",
    "            fila.append(None)\n",
    "        \n",
    "        t=len(self.nodos)*[None]\n",
    "        \n",
    "        self.matriz.append(t)\n",
    "        print(self.matriz)\n",
    "        \n",
    "    def agregar_arista(self,origen,destino,peso=1):\n",
    "        if origen not in self.nodos:\n",
    "            self.agregar_nodo(origen)\n",
    "\n",
    "        if destino not in self.nodos:\n",
    "            self.agregar_nodo(destino)\n",
    "        indice_origen=self.nodos.index(origen)\n",
    "        indice_destino=self.nodos.index(destino)\n",
    "        self.matriz[indice_origen][indice_destino]=peso\n",
    "    \n",
    "        if not self.dirigido and indice_destino!=indice_origen:\n",
    "            self.matriz[indice_destino][indice_origen]=peso\n",
    "        \n",
    "        #print(self.matriz)\n",
    "        \n",
    "    def mostrar_matriz(self):\n",
    "        for fila in self.matriz:\n",
    "            print(f\"{fila}\")\n",
    "            \n",
    "    def eliminar_arista(self,origen,destino):\n",
    "        \n",
    "        if origen not in self.nodos or destino not in self.nodos:\n",
    "            return\n",
    "        \n",
    "        indice_origen=self.nodos.index(origen)\n",
    "        indice_destino=self.nodos.index(destino)\n",
    "        self.matriz[indice_origen][indice_destino]=None\n",
    "\n",
    "    \n",
    "    def adyacentes(self,nodo):\n",
    "\n",
    "        indice_nodo=self.nodos.index(nodo)\n",
    "        adyacentes=[self.nodos[indice] for indice,valor in enumerate(self.matriz[indice_nodo]) if valor!=None]\n",
    "        \n",
    "        return adyacentes\n",
    "\n",
    "        \n",
    "    def grado_entrada(self,nodo):\n",
    "\n",
    "        contador=0\n",
    "        indice_nodo=self.nodos.index(nodo)\n",
    "        for fila in self.matriz:\n",
    "            if fila[indice_nodo]:\n",
    "                contador+=1\n",
    "        return contador\n",
    "\n",
    "    def grado_salida(self,nodo):\n",
    "        contador=0\n",
    "        indice_nodo=self.nodos.index(nodo)\n",
    "        \n",
    "        for peso in self.matriz[indice_nodo]:\n",
    "            if peso:\n",
    "                contador+=1\n",
    "\n",
    "        if not self.dirigido:\n",
    "            contador=contador//2\n",
    "        return contador\n",
    "    \n",
    "    def eliminar_nodo(self,nodo):\n",
    "\n",
    "        if nodo not in self.nodos:\n",
    "            return\n",
    "        indice_nodo=self.nodos.index(nodo)\n",
    "        for fila in self.matriz:\n",
    "            fila.pop(indice_nodo)\n",
    "        self.matriz.pop(indice_nodo)\n",
    "        self.nodos.pop(indice_nodo)\n",
    "\n",
    "        \n",
    "        \n",
    "    \n",
    "    \n",
    "\n"
   ]
  },
  {
   "cell_type": "code",
   "execution_count": 4,
   "id": "c2c8ba18-528f-4548-a12d-6ffa4726e6d2",
   "metadata": {
    "editable": true,
    "slideshow": {
     "slide_type": ""
    },
    "tags": []
   },
   "outputs": [
    {
     "name": "stdout",
     "output_type": "stream",
     "text": [
      "[[None]]\n"
     ]
    }
   ],
   "source": [
    "# Ejemplo de uso\n",
    "g = Grafo(dirigido=False, con_pesos=False)\n",
    "g.agregar_nodo('A')\n",
    "#g.agregar_nodo('B')\n",
    "#g.agregar_nodo('C')\n",
    "#g.agregar_arista('A', 'B')\n",
    "#g.agregar_arista('A', 'C')\n",
    "#g.agregar_arista('B', 'C')\n",
    "#g.mostrar_matriz()\n",
    "#print('Adyacentes de A:', g.adyacentes('A'))\n",
    "#print('Grado entrada de C:', g.grado_entrada('C'))\n",
    "#print('Grado salida de B:', g.grado_salida('B'))\n",
    "#g.eliminar_arista('A', 'B')\n",
    "#print(\"-\"*10)\n",
    "#g.mostrar_matriz()\n",
    "#g.eliminar_nodo('C')\n",
    "#print(\"-\"*10)\n",
    "#g.mostrar_matriz()"
   ]
  },
  {
   "cell_type": "code",
   "execution_count": 1,
   "id": "cefc79b7",
   "metadata": {},
   "outputs": [
    {
     "name": "stderr",
     "output_type": "stream",
     "text": [
      "test_adyacentes (__main__.TestGrafo.test_adyacentes) ... ERROR\n",
      "test_agregar_arista (__main__.TestGrafo.test_agregar_arista) ... ERROR\n",
      "test_agregar_nodo (__main__.TestGrafo.test_agregar_nodo) ... ERROR\n",
      "test_eliminar_arista (__main__.TestGrafo.test_eliminar_arista) ... ERROR\n",
      "test_eliminar_nodo (__main__.TestGrafo.test_eliminar_nodo) ... ERROR\n",
      "\n",
      "======================================================================\n",
      "ERROR: test_adyacentes (__main__.TestGrafo.test_adyacentes)\n",
      "----------------------------------------------------------------------\n",
      "Traceback (most recent call last):\n",
      "  File \"C:\\Users\\Nicolas\\AppData\\Local\\Temp\\ipykernel_14924\\3140550503.py\", line 5, in setUp\n",
      "    self.grafo_dirigido = Grafo(dirigido=True, con_pesos=False)\n",
      "                          ^^^^^\n",
      "NameError: name 'Grafo' is not defined\n",
      "\n",
      "======================================================================\n",
      "ERROR: test_agregar_arista (__main__.TestGrafo.test_agregar_arista)\n",
      "----------------------------------------------------------------------\n",
      "Traceback (most recent call last):\n",
      "  File \"C:\\Users\\Nicolas\\AppData\\Local\\Temp\\ipykernel_14924\\3140550503.py\", line 5, in setUp\n",
      "    self.grafo_dirigido = Grafo(dirigido=True, con_pesos=False)\n",
      "                          ^^^^^\n",
      "NameError: name 'Grafo' is not defined\n",
      "\n",
      "======================================================================\n",
      "ERROR: test_agregar_nodo (__main__.TestGrafo.test_agregar_nodo)\n",
      "----------------------------------------------------------------------\n",
      "Traceback (most recent call last):\n",
      "  File \"C:\\Users\\Nicolas\\AppData\\Local\\Temp\\ipykernel_14924\\3140550503.py\", line 5, in setUp\n",
      "    self.grafo_dirigido = Grafo(dirigido=True, con_pesos=False)\n",
      "                          ^^^^^\n",
      "NameError: name 'Grafo' is not defined\n",
      "\n",
      "======================================================================\n",
      "ERROR: test_eliminar_arista (__main__.TestGrafo.test_eliminar_arista)\n",
      "----------------------------------------------------------------------\n",
      "Traceback (most recent call last):\n",
      "  File \"C:\\Users\\Nicolas\\AppData\\Local\\Temp\\ipykernel_14924\\3140550503.py\", line 5, in setUp\n",
      "    self.grafo_dirigido = Grafo(dirigido=True, con_pesos=False)\n",
      "                          ^^^^^\n",
      "NameError: name 'Grafo' is not defined\n",
      "\n",
      "======================================================================\n",
      "ERROR: test_eliminar_nodo (__main__.TestGrafo.test_eliminar_nodo)\n",
      "----------------------------------------------------------------------\n",
      "Traceback (most recent call last):\n",
      "  File \"C:\\Users\\Nicolas\\AppData\\Local\\Temp\\ipykernel_14924\\3140550503.py\", line 5, in setUp\n",
      "    self.grafo_dirigido = Grafo(dirigido=True, con_pesos=False)\n",
      "                          ^^^^^\n",
      "NameError: name 'Grafo' is not defined\n",
      "\n",
      "----------------------------------------------------------------------\n",
      "Ran 5 tests in 0.004s\n",
      "\n",
      "FAILED (errors=5)\n"
     ]
    },
    {
     "data": {
      "text/plain": [
       "True"
      ]
     },
     "execution_count": 1,
     "metadata": {},
     "output_type": "execute_result"
    }
   ],
   "source": [
    "from unittest import TestCase, main\n",
    "\n",
    "class TestGrafo(TestCase):\n",
    "    def setUp(self):\n",
    "        self.grafo_dirigido = Grafo(dirigido=True, con_pesos=False)\n",
    "        self.grafo_no_dirigido = Grafo(dirigido=False, con_pesos=False)\n",
    "        self.grafo_pesado = Grafo(dirigido=True, con_pesos=True)\n",
    "\n",
    "    def test_agregar_nodo(self):\n",
    "        self.grafo_dirigido.agregar_nodo('A')\n",
    "        self.assertIn('A', self.grafo_dirigido.nodos)\n",
    "        self.assertEqual(len(self.grafo_dirigido.matriz), 1)\n",
    "        self.assertEqual(len(self.grafo_dirigido.matriz[0]), 1)\n",
    "\n",
    "    def test_eliminar_nodo(self):\n",
    "        self.grafo_dirigido.agregar_nodo('A')\n",
    "        self.grafo_dirigido.eliminar_nodo('A')\n",
    "        self.assertNotIn('A', self.grafo_dirigido.nodos)\n",
    "        self.assertEqual(len(self.grafo_dirigido.matriz), 0)\n",
    "\n",
    "    def test_agregar_arista(self):\n",
    "        self.grafo_dirigido.agregar_arista('A', 'B')\n",
    "        self.assertIn('A', self.grafo_dirigido.nodos)\n",
    "        self.assertIn('B', self.grafo_dirigido.nodos)\n",
    "        i, j = self.grafo_dirigido.nodos.index('A'), self.grafo_dirigido.nodos.index('B')\n",
    "        self.assertEqual(self.grafo_dirigido.matriz[i][j], 1)\n",
    "        self.assertIsNone(self.grafo_dirigido.matriz[j][i])\n",
    "\n",
    "    def test_eliminar_arista(self):\n",
    "        self.grafo_dirigido.agregar_arista('A', 'B')\n",
    "        self.grafo_dirigido.eliminar_arista('A', 'B')\n",
    "        i, j = self.grafo_dirigido.nodos.index('A'), self.grafo_dirigido.nodos.index('B')\n",
    "        self.assertIsNone(self.grafo_dirigido.matriz[i][j])\n",
    "\n",
    "    def test_adyacentes(self):\n",
    "        self.grafo_no_dirigido.agregar_arista('A', 'B')\n",
    "        self.grafo_no_dirigido.agregar_arista('A', 'C')\n",
    "        adyacentes_A = self.grafo_no_dirigido.adyacentes('A')\n",
    "        self\n",
    "        \n",
    "test = main(argv=[\"\"], defaultTest=\"TestGrafo\", verbosity=2, exit=False)\n",
    "len(test.result.failures) == 0"
   ]
  },
  {
   "cell_type": "markdown",
   "id": "e95d3910-dbf5-4e1c-81ee-2e4e98835747",
   "metadata": {
    "editable": false,
    "slideshow": {
     "slide_type": ""
    },
    "tags": []
   },
   "source": [
    "**Ej 2**: Implementar el algoritmo de Kahn para calcular el orden topológico de un grafo dirigido acíclico (DAG). Si el grafo no es un DAG, se debe lanzar una excepción. Implementar sobre la clase `Grafo` del ejercicio anterior."
   ]
  },
  {
   "cell_type": "code",
   "execution_count": null,
   "id": "84b59fae-873f-4867-a13e-43ac5cee14d6",
   "metadata": {
    "editable": true,
    "slideshow": {
     "slide_type": ""
    },
    "tags": []
   },
   "outputs": [],
   "source": [
    "# Algoritmo de Kahn para orden topológico\n",
    "\n",
    "def orden_topologico_kahn(grafo):\n",
    "    cola=[]\n",
    "    for v in g.nodos :\n",
    "        if v.grado_entrada==0:\n",
    "            q.append(v)\n",
    "    \n",
    "    pass\n"
   ]
  },
  {
   "cell_type": "code",
   "execution_count": null,
   "id": "77536d64",
   "metadata": {},
   "outputs": [],
   "source": [
    "# Ejemplo de uso del algoritmo de Kahn\n",
    "g2 = Grafo(dirigido=True)\n",
    "g2.agregar_nodo('A')\n",
    "g2.agregar_nodo('B')\n",
    "g2.agregar_nodo('C')\n",
    "g2.agregar_nodo('D')\n",
    "g2.agregar_arista('A', 'B')\n",
    "g2.agregar_arista('A', 'C')\n",
    "g2.agregar_arista('B', 'D')\n",
    "g2.agregar_arista('C', 'D')\n",
    "print('Matriz de adyacencia:')\n",
    "g2.mostrar_matriz()\n",
    "print('Orden topológico:', orden_topologico_kahn(g2))\n",
    "\n",
    "# Test de ciclo\n",
    "g2.agregar_arista('D', 'A')\n",
    "try:\n",
    "    orden_topologico_kahn(g2)\n",
    "except Exception as e:\n",
    "    print('Excepción esperada por ciclo:', e)\n"
   ]
  },
  {
   "cell_type": "code",
   "execution_count": 14,
   "id": "e43e9f56",
   "metadata": {},
   "outputs": [],
   "source": [
    "from unittest import TestCase, main\n",
    "\n",
    "class TestOrdenTopologico(TestCase):\n",
    "    def setUp(self):\n",
    "        self.grafo = Grafo(dirigido=True)\n",
    "        self.grafo.agregar_nodo('A')\n",
    "        self.grafo.agregar_nodo('B')\n",
    "        self.grafo.agregar_nodo('C')\n",
    "        self.grafo.agregar_arista('A', 'B')\n",
    "        self.grafo.agregar_arista('B', 'C')\n",
    "\n",
    "    def test_orden_topologico(self):\n",
    "        resultado = orden_topologico_kahn(self.grafo)\n",
    "        self.assertEqual(resultado, ['A', 'B', 'C'])\n",
    "\n",
    "    def test_orden_topologico_con_ciclo(self):\n",
    "        self.grafo.agregar_arista('C', 'A')\n",
    "        with self.assertRaises(Exception):\n",
    "            orden_topologico_kahn(self.grafo)\n"
   ]
  },
  {
   "cell_type": "markdown",
   "id": "a7ab65bc-e4d1-4930-8f53-ea37a80aff94",
   "metadata": {
    "editable": false,
    "slideshow": {
     "slide_type": ""
    },
    "tags": []
   },
   "source": [
    "**Ej 3**: Implementar el algoritmo de Kahn sobre NetworkX."
   ]
  },
  {
   "cell_type": "code",
   "execution_count": 1,
   "id": "ca54119b",
   "metadata": {},
   "outputs": [
    {
     "name": "stdout",
     "output_type": "stream",
     "text": [
      "Requirement already satisfied: networkx in e:\\facultad programacion\\estructura-de-datos-env\\.venv\\lib\\site-packages (3.5)\n"
     ]
    }
   ],
   "source": [
    "# Para instalar networkx en Jupyter Notebook si todavía no está instalado ejecutar:\n",
    "!pip install networkx"
   ]
  },
  {
   "cell_type": "code",
   "execution_count": 1,
   "id": "38e930bc-4f88-4e47-9f08-bca5ad1d0539",
   "metadata": {},
   "outputs": [
    {
     "data": {
      "text/plain": [
       "['C:\\\\Users\\\\Nicolas\\\\AppData\\\\Local\\\\Programs\\\\Python\\\\Python313\\\\python313.zip',\n",
       " 'C:\\\\Users\\\\Nicolas\\\\AppData\\\\Local\\\\Programs\\\\Python\\\\Python313\\\\DLLs',\n",
       " 'C:\\\\Users\\\\Nicolas\\\\AppData\\\\Local\\\\Programs\\\\Python\\\\Python313\\\\Lib',\n",
       " 'C:\\\\Users\\\\Nicolas\\\\AppData\\\\Local\\\\Programs\\\\Python\\\\Python313',\n",
       " '',\n",
       " 'C:\\\\Users\\\\Nicolas\\\\AppData\\\\Local\\\\Programs\\\\Python\\\\Python313\\\\Lib\\\\site-packages',\n",
       " 'C:\\\\Users\\\\Nicolas\\\\AppData\\\\Local\\\\Programs\\\\Python\\\\Python313\\\\Lib\\\\site-packages\\\\win32',\n",
       " 'C:\\\\Users\\\\Nicolas\\\\AppData\\\\Local\\\\Programs\\\\Python\\\\Python313\\\\Lib\\\\site-packages\\\\win32\\\\lib',\n",
       " 'C:\\\\Users\\\\Nicolas\\\\AppData\\\\Local\\\\Programs\\\\Python\\\\Python313\\\\Lib\\\\site-packages\\\\Pythonwin']"
      ]
     },
     "execution_count": 1,
     "metadata": {},
     "output_type": "execute_result"
    }
   ],
   "source": [
    "import sys\n",
    "sys.path"
   ]
  },
  {
   "cell_type": "code",
   "execution_count": 2,
   "id": "cd927141-66e8-4d61-9598-15720d8c73a6",
   "metadata": {
    "editable": true,
    "slideshow": {
     "slide_type": ""
    },
    "tags": []
   },
   "outputs": [],
   "source": [
    "# Ejercicio 3: Algoritmo de Kahn usando NetworkX\n",
    "import networkx as nx\n",
    "\n",
    "def orden_topologico_kahn_nx(G):\n",
    "    \n",
    "    cola=[]\n",
    "    resultado=[]\n",
    "    for nodo in G.nodes:\n",
    "        if G.in_degree(nodo)==0:\n",
    "            cola.append(nodo)\n",
    "            \n",
    "    while cola:\n",
    "        v= cola.popleft()\n",
    "        resultado.append(v)\n",
    "        \n",
    "        for w in G.succesors(v):\n",
    "            grado_w=G.in_degree(w)-1\n",
    "            if grado_w==0:\n",
    "                cola.append(w)\n",
    "                \n",
    "    if len(resultado) != len(G.nodes):\n",
    "        raise ValueError(\"El grafo tiene ciclos, no se puede hacer orden topológico\")\n",
    "\n",
    "    return resultado\n",
    "    \n"
   ]
  },
  {
   "cell_type": "code",
   "execution_count": 3,
   "id": "4207d51f-4c68-4dd0-a554-8fa34a52ee18",
   "metadata": {
    "editable": true,
    "slideshow": {
     "slide_type": ""
    },
    "tags": []
   },
   "outputs": [
    {
     "ename": "AttributeError",
     "evalue": "'list' object has no attribute 'popleft'",
     "output_type": "error",
     "traceback": [
      "\u001b[31m---------------------------------------------------------------------------\u001b[39m",
      "\u001b[31mAttributeError\u001b[39m                            Traceback (most recent call last)",
      "\u001b[36mCell\u001b[39m\u001b[36m \u001b[39m\u001b[32mIn[3]\u001b[39m\u001b[32m, line 11\u001b[39m\n\u001b[32m      2\u001b[39m G = nx.DiGraph()\n\u001b[32m      3\u001b[39m G.add_edges_from([\n\u001b[32m      4\u001b[39m     (\u001b[33m'\u001b[39m\u001b[33mA\u001b[39m\u001b[33m'\u001b[39m, \u001b[33m'\u001b[39m\u001b[33mB\u001b[39m\u001b[33m'\u001b[39m),\n\u001b[32m      5\u001b[39m     (\u001b[33m'\u001b[39m\u001b[33mA\u001b[39m\u001b[33m'\u001b[39m, \u001b[33m'\u001b[39m\u001b[33mC\u001b[39m\u001b[33m'\u001b[39m),\n\u001b[32m   (...)\u001b[39m\u001b[32m      9\u001b[39m     (\u001b[33m'\u001b[39m\u001b[33mE\u001b[39m\u001b[33m'\u001b[39m, \u001b[33m'\u001b[39m\u001b[33mF\u001b[39m\u001b[33m'\u001b[39m)\n\u001b[32m     10\u001b[39m ])\n\u001b[32m---> \u001b[39m\u001b[32m11\u001b[39m \u001b[38;5;28mprint\u001b[39m(\u001b[33m'\u001b[39m\u001b[33mOrden topológico NetworkX:\u001b[39m\u001b[33m'\u001b[39m, \u001b[43morden_topologico_kahn_nx\u001b[49m\u001b[43m(\u001b[49m\u001b[43mG\u001b[49m\u001b[43m)\u001b[49m)\n\u001b[32m     13\u001b[39m \u001b[38;5;66;03m# Test de ciclo\u001b[39;00m\n\u001b[32m     14\u001b[39m G.add_edge(\u001b[33m'\u001b[39m\u001b[33mF\u001b[39m\u001b[33m'\u001b[39m, \u001b[33m'\u001b[39m\u001b[33mA\u001b[39m\u001b[33m'\u001b[39m)\n",
      "\u001b[36mCell\u001b[39m\u001b[36m \u001b[39m\u001b[32mIn[2]\u001b[39m\u001b[32m, line 13\u001b[39m, in \u001b[36morden_topologico_kahn_nx\u001b[39m\u001b[34m(G)\u001b[39m\n\u001b[32m     10\u001b[39m         cola.append(nodo)\n\u001b[32m     12\u001b[39m \u001b[38;5;28;01mwhile\u001b[39;00m cola:\n\u001b[32m---> \u001b[39m\u001b[32m13\u001b[39m     v= \u001b[43mcola\u001b[49m\u001b[43m.\u001b[49m\u001b[43mpopleft\u001b[49m()\n\u001b[32m     14\u001b[39m     resultado.append(v)\n\u001b[32m     16\u001b[39m     \u001b[38;5;28;01mfor\u001b[39;00m w \u001b[38;5;129;01min\u001b[39;00m G.succesors(v):\n",
      "\u001b[31mAttributeError\u001b[39m: 'list' object has no attribute 'popleft'"
     ]
    }
   ],
   "source": [
    "# Ejemplo de uso del algoritmo de Kahn con NetworkX\n",
    "G = nx.DiGraph()\n",
    "G.add_edges_from([\n",
    "    ('A', 'B'),\n",
    "    ('A', 'C'),\n",
    "    ('B', 'D'),\n",
    "    ('C', 'D'),\n",
    "    ('C', 'E'),\n",
    "    ('E', 'F')\n",
    "])\n",
    "print('Orden topológico NetworkX:', orden_topologico_kahn_nx(G))\n",
    "\n",
    "# Test de ciclo\n",
    "G.add_edge('F', 'A')\n",
    "try:\n",
    "    orden_topologico_kahn_nx(G)\n",
    "except Exception as e:\n",
    "    print('Excepción esperada por ciclo:', e)\n"
   ]
  },
  {
   "cell_type": "code",
   "execution_count": 19,
   "id": "fdcfa777",
   "metadata": {},
   "outputs": [],
   "source": [
    "from unittest import TestCase, main\n",
    "\n",
    "class TestOrdenTopologicoNX(TestCase):\n",
    "    def setUp(self):\n",
    "        self.G = nx.DiGraph()\n",
    "        self.G.add_edges_from([\n",
    "            ('A', 'B'),\n",
    "            ('B', 'C')\n",
    "        ])\n",
    "\n",
    "    def test_orden_topologico_nx(self):\n",
    "        resultado = orden_topologico_kahn_nx(self.G)\n",
    "        self.assertEqual(resultado, ['A', 'B', 'C'])\n",
    "\n",
    "    def test_orden_topologico_nx_con_ciclo(self):\n",
    "        self.G.add_edge('C', 'A')\n",
    "        with self.assertRaises(Exception):\n",
    "            orden_topologico_kahn_nx(self.G)"
   ]
  },
  {
   "cell_type": "markdown",
   "id": "2a92157f-8da8-43b4-957d-9ef1beb05ff2",
   "metadata": {
    "editable": false,
    "slideshow": {
     "slide_type": ""
    },
    "tags": []
   },
   "source": [
    "**Ej 4**: Mostrar paso a paso el algoritmo de Kahn sobre el siguiente grafo:\n",
    "```plaintext\n",
    "    A → B → D\n",
    "    ↓   ↓\n",
    "    C → E → F\n",
    "```"
   ]
  },
  {
   "cell_type": "markdown",
   "id": "bdc4c4be-7482-49a4-bd24-3571ee054284",
   "metadata": {
    "editable": true,
    "slideshow": {
     "slide_type": ""
    },
    "tags": []
   },
   "source": [
    "**Resolución Ejercicio 4**\n"
   ]
  },
  {
   "cell_type": "markdown",
   "id": "5d4f7ec7-e0ad-49e5-9e75-655895599660",
   "metadata": {
    "editable": false,
    "slideshow": {
     "slide_type": ""
    },
    "tags": []
   },
   "source": [
    "**Ej 5**: Dada la implementación de grafos sobre matriz de adyacencias del primer ejercicio, implementar el algoritmo de Orden Topológico usando una pila en lugar de una cola. ¿Qué diferencias hay entre usar una pila o una cola para implementar el algoritmo?"
   ]
  },
  {
   "cell_type": "code",
   "execution_count": null,
   "id": "e5655f09-fae9-4344-a77f-83123da44bdd",
   "metadata": {
    "editable": true,
    "slideshow": {
     "slide_type": ""
    },
    "tags": []
   },
   "outputs": [],
   "source": [
    "# Ejercicio 5: Orden topológico usando pila\n",
    "import networkx as nx\n",
    "\n",
    "\"\"\"falta ver como hacer el stack\"\"\"\n",
    "def orden_topologico_pila(grafo):\n",
    "    pass\n",
    "    \n",
    "    stack=[]\n",
    "    resultado=[]\n",
    "    for nodo in G.nodes:\n",
    "        if G.in_degree(nodo)==0:\n",
    "            stack.append(nodo)\n",
    "            \n",
    "    while stack:\n",
    "        v= stack.pop()\n",
    "        resultado.append(v)\n",
    "        \n",
    "        for w in G.succesors(v):\n",
    "            grado_w=G.in_degree(w)-1\n",
    "            if grado_w==0:\n",
    "                cola.append(w)\n",
    "                \n",
    "    if len(resultado) != len(G.nodes):\n",
    "        raise ValueError(\"El grafo tiene ciclos, no se puede hacer orden topológico\")\n",
    "\n",
    "    return resultado"
   ]
  },
  {
   "cell_type": "code",
   "execution_count": null,
   "id": "3129b56f",
   "metadata": {},
   "outputs": [],
   "source": [
    "# Ejemplo de uso del algoritmo de Kahn con pila\n",
    "g3 = Grafo(dirigido=True)\n",
    "g3.agregar_nodo('A')\n",
    "g3.agregar_nodo('B')\n",
    "g3.agregar_nodo('C')\n",
    "g3.agregar_nodo('D')\n",
    "g3.agregar_arista('A', 'B')\n",
    "g3.agregar_arista('A', 'C')\n",
    "g3.agregar_arista('B', 'D')\n",
    "g3.agregar_arista('C', 'D')\n",
    "print('Matriz de adyacencia (pila):')\n",
    "g3.mostrar_matriz()\n",
    "print('Orden topológico (pila):', orden_topologico_pila(g3))\n",
    "print('Orden topológico (cola):', orden_topologico_kahn(g3))"
   ]
  },
  {
   "cell_type": "code",
   "execution_count": 23,
   "id": "7c3a1240-25a7-429e-9a6f-3bd2f794048e",
   "metadata": {
    "editable": true,
    "slideshow": {
     "slide_type": ""
    },
    "tags": []
   },
   "outputs": [],
   "source": [
    "from unittest import TestCase, main\n",
    "\n",
    "class TestOrdenTopologicoPila(TestCase):\n",
    "    def setUp(self):\n",
    "        self.grafo = Grafo(dirigido=True)\n",
    "        self.grafo.agregar_nodo('A')\n",
    "        self.grafo.agregar_nodo('B')\n",
    "        self.grafo.agregar_nodo('C')\n",
    "        self.grafo.agregar_arista('A', 'B')\n",
    "        self.grafo.agregar_arista('B', 'C')\n",
    "\n",
    "    def test_orden_topologico_pila(self):\n",
    "        resultado = orden_topologico_pila(self.grafo)\n",
    "        self.assertEqual(resultado, ['A', 'B', 'C'])\n",
    "\n",
    "    def test_orden_topologico_pila_con_ciclo(self):\n",
    "        self.grafo.agregar_arista('C', 'A')\n",
    "        with self.assertRaises(Exception):\n",
    "            orden_topologico_pila(self.grafo)"
   ]
  },
  {
   "cell_type": "markdown",
   "id": "38fdba27-5004-4431-a00e-8305318b531a",
   "metadata": {
    "editable": true,
    "slideshow": {
     "slide_type": ""
    },
    "tags": []
   },
   "source": [
    "**Diferencias entre usar pila o cola:**\n"
   ]
  },
  {
   "attachments": {},
   "cell_type": "markdown",
   "id": "28070546-ffda-4931-ae69-0b1bbfb39ad8",
   "metadata": {
    "editable": false,
    "slideshow": {
     "slide_type": ""
    },
    "tags": []
   },
   "source": [
    "**Ej 6**: Dado un grafo dirigido $G$, implementar una función `revertir` que calcule $G^T$, donde $G^T$ es el grafo que se obtiene con los mismos vértices de $G$ y revirtiendo las aristas, por ejemplo si en $G$ hay una arista con origen en $A$ y destino $B$, en $G^T$ esa arista tiene origen en $B$ y destino $A$. Implementar sobre la clase `Grafo` del primer ejercicio.\n",
    "\n",
    "```plaintext\n",
    "    G:\n",
    "        A → B → D\n",
    "        ↓   ↓\n",
    "        C → E → F\n",
    "\n",
    "    G^T:\n",
    "        A ← B ← D\n",
    "        ↑   ↑\n",
    "        C ← E ← F\n",
    "```"
   ]
  },
  {
   "cell_type": "code",
   "execution_count": null,
   "id": "e1fce9bc-c8c5-4ca2-acf4-edcdddffab4f",
   "metadata": {
    "editable": true,
    "slideshow": {
     "slide_type": ""
    },
    "tags": []
   },
   "outputs": [],
   "source": [
    "def revertir(grafo):\n",
    "    pass\n"
   ]
  },
  {
   "cell_type": "code",
   "execution_count": null,
   "id": "31cc8f45-6814-436c-83f0-75b9c308e787",
   "metadata": {
    "editable": true,
    "slideshow": {
     "slide_type": ""
    },
    "tags": []
   },
   "outputs": [],
   "source": [
    "# Tests para revertir (transponer) un grafo\n",
    "g4 = Grafo(dirigido=True)\n",
    "g4.agregar_nodo('A')\n",
    "g4.agregar_nodo('B')\n",
    "g4.agregar_nodo('C')\n",
    "g4.agregar_nodo('D')\n",
    "g4.agregar_nodo('E')\n",
    "g4.agregar_nodo('F')\n",
    "g4.agregar_arista('A', 'B')\n",
    "g4.agregar_arista('A', 'C')\n",
    "g4.agregar_arista('B', 'D')\n",
    "g4.agregar_arista('C', 'D')\n",
    "g4.agregar_arista('C', 'E')\n",
    "g4.agregar_arista('E', 'F')\n",
    "print('Matriz original:')\n",
    "g4.mostrar_matriz()\n",
    "g4t = revertir(g4)\n",
    "print('Matriz transpuesta:')\n",
    "g4t.mostrar_matriz()\n"
   ]
  },
  {
   "cell_type": "code",
   "execution_count": 26,
   "id": "dcd482c1",
   "metadata": {},
   "outputs": [],
   "source": [
    "from unittest import TestCase, main\n",
    "\n",
    "class TestRevertir(TestCase):\n",
    "    def setUp(self):\n",
    "        self.grafo = Grafo(dirigido=True)\n",
    "        self.grafo.agregar_nodo('A')\n",
    "        self.grafo.agregar_nodo('B')\n",
    "        self.grafo.agregar_arista('A', 'B')\n",
    "\n",
    "    def test_revertir(self):\n",
    "        gt = revertir(self.grafo)\n",
    "        self.assertIn('A', gt.nodos)\n",
    "        self.assertIn('B', gt.nodos)\n",
    "        i, j = gt.nodos.index('B'), gt.nodos.index('A')\n",
    "        self.assertEqual(gt.matriz[i][j], 1)\n",
    "        self.assertEqual(gt.matriz[j][i], 0)\n",
    "\n",
    "    def test_revertir_no_dirigido(self):\n",
    "        g_no_dirigido = Grafo(dirigido=False)\n",
    "        g_no_dirigido.agregar_nodo('A')\n",
    "        g_no_dirigido.agregar_nodo('B')\n",
    "        g_no_dirigido.agregar_arista('A', 'B')\n",
    "        with self.assertRaises(Exception):\n",
    "            revertir(g_no_dirigido)"
   ]
  }
 ],
 "metadata": {
  "kernelspec": {
   "display_name": "Python 3 (ipykernel)",
   "language": "python",
   "name": "python3"
  },
  "language_info": {
   "codemirror_mode": {
    "name": "ipython",
    "version": 3
   },
   "file_extension": ".py",
   "mimetype": "text/x-python",
   "name": "python",
   "nbconvert_exporter": "python",
   "pygments_lexer": "ipython3",
   "version": "3.13.7"
  },
  "rise": {
   "start_slideshow_at": "beginning"
  }
 },
 "nbformat": 4,
 "nbformat_minor": 5
}
