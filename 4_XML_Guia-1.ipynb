{
 "cells": [
  {
   "cell_type": "markdown",
   "id": "860e6460-0c22-48d3-a342-9b594d05f207",
   "metadata": {},
   "source": [
    "<p style=\"text-align: center\">\n",
    "    <img src=\"data:image/svg+xml,%3Csvg%20version%3D%221.2%22%20baseProfile%3D%22tiny%22%20xmlns%3D%22http%3A%2F%2Fwww.w3.org%2F2000%2Fsvg%22%20viewBox%3D%220%200%20136.5%2058%22%20height%3D%2250%22%20overflow%3D%22visible%22%20xml%3Aspace%3D%22preserve%22%3E%3Cg%20fill%3D%22%23141819%22%3E%3Cpath%20d%3D%22M0%2033.4h1v6.3c0%201.1.5%201.7%201.7%201.7s1.7-.5%201.7-1.7v-6.3h1v6.3c0%201.8-1%202.5-2.7%202.5-1.7.1-2.7-.7-2.7-2.5v-6.3zM8.1%2042.2v-8.8h1.3l3.2%207h.1v-7h1v8.8h-1.3l-3.3-7.3H9v7.3zM16.5%2033.4h1v8.7h-1zM24.4%2033.4h1l-2.3%208.8h-1.4l-2.3-8.8h1.1l1.9%207.5h.1zM27.4%2042.2v-8.8h4.7v.9h-3.7v2.9h3.2v.9h-3.2v3.2h3.9v.9zM35.3%2037.6h1.8c1.1%200%201.6-.5%201.6-1.6s-.5-1.6-1.6-1.6h-1.8v3.2zm0%204.6h-1v-8.7h3c1.6%200%202.5.9%202.5%202.5%200%201.3-.6%202-1.2%202.3l1.3%203.9h-1.1l-1.2-3.6h-2.3v3.6zM46.7%2035.6c-.1-1-.6-1.4-1.7-1.4-1%200-1.7.4-1.7%201.4%200%201%20.8%201.2%201.9%201.6%201.4.4%202.7.9%202.7%202.6%200%201.7-1.1%202.5-2.8%202.5-1.8%200-2.8-.8-2.9-2.5l1-.1c.1%201.2.7%201.7%201.9%201.7%201.1%200%201.8-.5%201.8-1.5s-.6-1.3-1.9-1.7c-1.4-.4-2.6-.8-2.6-2.5s1.1-2.4%202.8-2.4c1.6%200%202.6.6%202.8%202.2l-1.3.1zM50.2%2033.4h1v8.7h-1zM55%2041.3h1.9c1%200%201.7-.5%201.7-1.5v-4c0-1-.6-1.5-1.7-1.5H55v7zm-1-7.9h2.8c1.8%200%202.8.7%202.8%202.5v3.7c0%201.8-1%202.5-2.8%202.5H54v-8.7zM63.2%2039.1H66l-1.3-4.6h-.1l-1.4%204.6zm-.8%203.1h-1.1l2.6-8.7h1.5l2.6%208.7h-1.1l-.6-2.2H63l-.6%202.2zM70.9%2041.3h1.9c1%200%201.7-.5%201.7-1.5v-4c0-1-.6-1.5-1.7-1.5h-1.9v7zm-1.1-7.9h2.8c1.8%200%202.8.7%202.8%202.5v3.7c0%201.8-1%202.5-2.8%202.5h-2.8v-8.7zM81.3%2042.2v-8.8h1.3l3.2%207h.1v-7h1v8.8h-1.3l-3.3-7.3h-.1v7.3zM90.7%2039.1h2.8l-1.3-4.6H92l-1.3%204.6zm-.9%203.1h-1.1l2.6-8.7h1.5l2.6%208.7h-1.1l-.6-2.2h-3.3l-.6%202.2zM101.2%2036.1v-.4c0-1.1-.5-1.5-1.7-1.5-1.1%200-1.8.4-1.8%201.5v4.1c0%201.1.6%201.5%201.8%201.5%201.1%200%201.7-.5%201.7-1.5v-.4l1%20.1v.1c0%201.8-.9%202.6-2.7%202.6-1.8%200-2.8-.7-2.8-2.5v-4c0-1.8%201-2.5%202.8-2.5%201.8%200%202.7.7%202.7%202.6v.2l-1%20.1zM104.7%2033.4h1v8.7h-1zM109.3%2039.9c0%201.1.7%201.5%201.8%201.5s1.8-.4%201.8-1.5v-4.1c0-1.1-.7-1.5-1.8-1.5s-1.8.4-1.8%201.5v4.1zm-1-4.1c0-1.9%201-2.5%202.8-2.5%201.8%200%202.8.7%202.8%202.5v3.9c0%201.9-1%202.5-2.8%202.5-1.8%200-2.8-.7-2.8-2.5v-3.9zM116.5%2042.2v-8.8h1.3l3.2%207h.1v-7h.9v8.8h-1.2l-3.3-7.3h-.1v7.3zM125.9%2039.1h2.8l-1.3-4.6h-.1l-1.4%204.6zm-.9%203.1h-1.1l2.6-8.7h1.5l2.6%208.7h-1.1l-.6-2.1h-3.3l-.6%202.1zM132.5%2042.2v-8.8h1v7.9h3v.9zM1.2%2057h1.9c1%200%201.7-.5%201.7-1.5v-4c0-1-.6-1.5-1.7-1.5H1.2v7zM.1%2049.1H3c1.8%200%202.8.7%202.8%202.5v3.7c0%201.8-1%202.5-2.8%202.5H.1v-8.7zM8.3%2057.9v-8.8H13v.9H9.3v2.9h3.3v.9H9.3V57h3.9v.9zM19.7%2050.1h-2.1v-1h5.1v1h-2v7.8h-1zM25.6%2053.3h1.8c1.1%200%201.6-.5%201.6-1.6s-.5-1.6-1.6-1.6h-1.8v3.2zm0%204.6h-1v-8.7h3c1.6%200%202.5.9%202.5%202.5%200%201.3-.6%202-1.2%202.3l1.3%203.9h-1.1l-1.2-3.6h-2.3v3.6zM32.8%2057.9v-8.8h4.7v.9h-3.7v2.9H37v.9h-3.2V57h3.9v.9zM44%2051.3c-.1-1-.6-1.4-1.7-1.4-1%200-1.7.4-1.7%201.4%200%201%20.8%201.2%201.9%201.6%201.4.4%202.7.9%202.7%202.6%200%201.7-1.1%202.5-2.8%202.5-1.8%200-2.8-.8-2.9-2.5l1-.1c.1%201.2.7%201.7%201.9%201.7%201.1%200%201.8-.5%201.8-1.5s-.6-1.3-1.9-1.7c-1.4-.4-2.6-.8-2.6-2.5s1.1-2.4%202.8-2.4c1.6%200%202.6.6%202.8%202.2l-1.3.1zM51.8%2057h1.9c1.1%200%201.7-.5%201.7-1.5v-4c0-1-.6-1.5-1.7-1.5h-1.9v7zm-1-7.9h2.8c1.8%200%202.8.7%202.8%202.5v3.7c0%201.8-1%202.5-2.8%202.5h-2.8v-8.7zM58.9%2057.9v-8.8h4.7v.9h-3.7v2.9h3.3v.9h-3.3V57h3.9v.9zM69.2%2057.9v-8.8h4.4v.9h-3.4v2.9h3v.9h-3v4.1zM75.6%2057.9v-8.8h4.7v.9h-3.7v2.9h3.2v.9h-3.2V57h3.9v.9zM83.5%2057h2.1c1.1%200%201.7-.6%201.7-1.6%200-1.1-.6-1.6-1.7-1.6h-2V57zm0-4.1h2c1%200%201.5-.5%201.5-1.4%200-1-.5-1.4-1.5-1.4h-2v2.8zm-1-3.8h3.3c1.6%200%202.3.7%202.3%202.2%200%201-.3%201.6-1%201.9v.1c.6.2%201.2.9%201.2%202.1%200%201.5-.7%202.4-2.4%202.4h-3.4v-8.7zM91.9%2053.3h1.8c1.1%200%201.6-.5%201.6-1.6s-.5-1.6-1.6-1.6h-1.8v3.2zm0%204.6h-1v-8.7h3c1.6%200%202.5.9%202.5%202.5%200%201.3-.6%202-1.2%202.3l1.3%203.9h-1.1l-1.2-3.6h-2.3v3.6zM99%2057.9v-8.8h4.7v.9H100v2.9h3.3v.9H100V57h3.9v.9zM107%2053.3h1.8c1.1%200%201.6-.5%201.6-1.6s-.5-1.6-1.6-1.6H107v3.2zm0%204.6h-1v-8.7h3c1.6%200%202.5.9%202.5%202.5%200%201.3-.6%202-1.2%202.3l1.3%203.9h-1.1l-1.2-3.6H107v3.6zM114.9%2055.6c0%201.1.7%201.5%201.8%201.5s1.8-.4%201.8-1.5v-4.1c0-1.1-.7-1.5-1.8-1.5s-1.8.4-1.8%201.5v4.1zm-1-4.1c0-1.9%201-2.5%202.8-2.5%201.8%200%202.8.7%202.8%202.5v3.9c0%201.9-1%202.5-2.8%202.5-1.8%200-2.8-.7-2.8-2.5v-3.9zM0%2023.7h96.4v3.6H0zM69.1%2017.5V0h11.5v2.9h-8V7h7.3v2.9h-7.3v4.7H81v2.9H69.1zm16.2%200V0h11v2.9h-7.6V7h6.9v2.9h-6.9v7.6h-3.4zm-30.8%200H51V0h7.2C62.1%200%2064%201.8%2064%205.3c0%202.8-1.4%204.1-2.7%204.6l2.9%207.6h-3.8l-2.4-7h-3.5v7zm0-9.8h2.9c2%200%203-.6%203-2.5s-1-2.5-3-2.5h-2.9v5zM39.9%202.9h-4.4V0h12.4v2.9h-4.4v14.6H40V2.9zM18.8%2017.5V0h4.1l5.8%2011.7h.2V0h3.4v17.5h-4L22.2%205.3H22v12.2h-3.2zM.1%200h3.5v12.1c0%202%201%202.8%203%202.8s3-.8%203-2.8V0h3.5v12.1c0%203.8-2.3%205.7-6.5%205.7S.1%2015.9.1%2012.1V0z%22%2F%3E%3C%2Fg%3E%3C%2Fsvg%3E\" />\n",
    "</p>\n",
    "\n",
    "<h2 style=\"text-align: center\">Estructura de Datos</h2>\n",
    "<h3 style=\"text-align: center\">XML y XPath</h3>\n",
    "<h3 style=\"text-align: center\">Guía de Ejercicios</h3>"
   ]
  },
  {
   "cell_type": "markdown",
   "id": "ecf0b48a",
   "metadata": {},
   "source": [
    "Para resolver los ejercicios de esta guía vamos a usar `lxml` para procesar archivos xml y `gdown` para descargar los archivos XML desde Google Drive.\n",
    "\n",
    "Ejecuta la siguiente celda para instalar las librerías si no las tienes ya instaladas."
   ]
  },
  {
   "cell_type": "code",
   "execution_count": 1,
   "id": "644088e7",
   "metadata": {},
   "outputs": [
    {
     "name": "stdout",
     "output_type": "stream",
     "text": [
      "Collecting lxml\n",
      "  Downloading lxml-6.0.2-cp313-cp313-win_amd64.whl.metadata (3.7 kB)\n",
      "Collecting gdown\n",
      "  Downloading gdown-5.2.0-py3-none-any.whl.metadata (5.8 kB)\n",
      "Requirement already satisfied: beautifulsoup4 in c:\\users\\nicolas\\appdata\\local\\programs\\python\\python313\\lib\\site-packages (from gdown) (4.13.4)\n",
      "Collecting filelock (from gdown)\n",
      "  Downloading filelock-3.19.1-py3-none-any.whl.metadata (2.1 kB)\n",
      "Requirement already satisfied: requests[socks] in c:\\users\\nicolas\\appdata\\local\\programs\\python\\python313\\lib\\site-packages (from gdown) (2.32.5)\n",
      "Collecting tqdm (from gdown)\n",
      "  Downloading tqdm-4.67.1-py3-none-any.whl.metadata (57 kB)\n",
      "Requirement already satisfied: soupsieve>1.2 in c:\\users\\nicolas\\appdata\\local\\programs\\python\\python313\\lib\\site-packages (from beautifulsoup4->gdown) (2.7)\n",
      "Requirement already satisfied: typing-extensions>=4.0.0 in c:\\users\\nicolas\\appdata\\local\\programs\\python\\python313\\lib\\site-packages (from beautifulsoup4->gdown) (4.14.1)\n",
      "Requirement already satisfied: charset_normalizer<4,>=2 in c:\\users\\nicolas\\appdata\\local\\programs\\python\\python313\\lib\\site-packages (from requests[socks]->gdown) (3.4.3)\n",
      "Requirement already satisfied: idna<4,>=2.5 in c:\\users\\nicolas\\appdata\\local\\programs\\python\\python313\\lib\\site-packages (from requests[socks]->gdown) (3.10)\n",
      "Requirement already satisfied: urllib3<3,>=1.21.1 in c:\\users\\nicolas\\appdata\\local\\programs\\python\\python313\\lib\\site-packages (from requests[socks]->gdown) (2.5.0)\n",
      "Requirement already satisfied: certifi>=2017.4.17 in c:\\users\\nicolas\\appdata\\local\\programs\\python\\python313\\lib\\site-packages (from requests[socks]->gdown) (2025.8.3)\n",
      "Collecting PySocks!=1.5.7,>=1.5.6 (from requests[socks]->gdown)\n",
      "  Downloading PySocks-1.7.1-py3-none-any.whl.metadata (13 kB)\n",
      "Requirement already satisfied: colorama in c:\\users\\nicolas\\appdata\\local\\programs\\python\\python313\\lib\\site-packages (from tqdm->gdown) (0.4.6)\n",
      "Downloading lxml-6.0.2-cp313-cp313-win_amd64.whl (4.0 MB)\n",
      "   ---------------------------------------- 0.0/4.0 MB ? eta -:--:--\n",
      "   -------------------- ------------------- 2.1/4.0 MB 11.3 MB/s eta 0:00:01\n",
      "   ---------------------------------------- 4.0/4.0 MB 10.9 MB/s  0:00:00\n",
      "Downloading gdown-5.2.0-py3-none-any.whl (18 kB)\n",
      "Downloading filelock-3.19.1-py3-none-any.whl (15 kB)\n",
      "Downloading PySocks-1.7.1-py3-none-any.whl (16 kB)\n",
      "Downloading tqdm-4.67.1-py3-none-any.whl (78 kB)\n",
      "Installing collected packages: tqdm, PySocks, lxml, filelock, gdown\n",
      "\n",
      "   ---------------------------------------- 0/5 [tqdm]\n",
      "   ---------------------------------------- 0/5 [tqdm]\n",
      "   ---------------- ----------------------- 2/5 [lxml]\n",
      "   ---------------- ----------------------- 2/5 [lxml]\n",
      "   ------------------------ --------------- 3/5 [filelock]\n",
      "   -------------------------------- ------- 4/5 [gdown]\n",
      "   ---------------------------------------- 5/5 [gdown]\n",
      "\n",
      "Successfully installed PySocks-1.7.1 filelock-3.19.1 gdown-5.2.0 lxml-6.0.2 tqdm-4.67.1\n",
      "Note: you may need to restart the kernel to use updated packages.\n"
     ]
    }
   ],
   "source": [
    "%pip install lxml gdown"
   ]
  },
  {
   "cell_type": "markdown",
   "id": "d1508ee8",
   "metadata": {},
   "source": [
    "Luego de instalar las librerías, reinicia el kernel para que los cambios tengan efecto."
   ]
  },
  {
   "cell_type": "markdown",
   "id": "e9960008-44af-4e4c-9c10-9fa3f2e4f1fe",
   "metadata": {},
   "source": [
    "**Ej 1:** Dado el siguiente archivo con datos de rascacielos y sus ubicaciones, escribir escribir un programa en Python que devuelva. \n",
    "1. Altura de los edificios construidos hasta 2010.\n",
    "2. Años en los que se completaron rascacielos de más de 500 metros y menos de 110 pisos.\n",
    "3. Nombre de todos los edificios que se encuentran en Asia.\n",
    "\n",
    "[datos](https://drive.google.com/file/d/1xWVCOkJrgEAl4XowKN_Mtk19ah_9BwXx/view?usp=sharing)"
   ]
  },
  {
   "cell_type": "code",
   "execution_count": 2,
   "id": "4a072dde",
   "metadata": {},
   "outputs": [
    {
     "name": "stderr",
     "output_type": "stream",
     "text": [
      "Downloading...\n",
      "From (original): https://drive.google.com/uc?export=download&id=1xWVCOkJrgEAl4XowKN_Mtk19ah_9BwXx\n",
      "From (redirected): https://drive.google.com/uc?export=download&id=1xWVCOkJrgEAl4XowKN_Mtk19ah_9BwXx&confirm=t&uuid=ddfcb269-5811-44c6-aa9b-91f2cee759ec\n",
      "To: E:\\Facultad Programacion\\Estructura-De-Datos-env\\rascacielos.xml\n",
      "100%|██████████| 2.68k/2.68k [00:00<00:00, 14.1MB/s]\n"
     ]
    },
    {
     "data": {
      "text/plain": [
       "'rascacielos.xml'"
      ]
     },
     "execution_count": 2,
     "metadata": {},
     "output_type": "execute_result"
    }
   ],
   "source": [
    "# Descargar rascacielos.xml desde Google Drive\n",
    "import gdown\n",
    "\n",
    "# ID del archivo de Google Drive\n",
    "file_id = \"1xWVCOkJrgEAl4XowKN_Mtk19ah_9BwXx\"\n",
    "url = f\"https://drive.google.com/uc?export=download&id={file_id}\"\n",
    "\n",
    "# Nombre local para guardarlo\n",
    "output = \"rascacielos.xml\"\n",
    "gdown.download(url, output, quiet=False)\n"
   ]
  },
  {
   "cell_type": "code",
   "execution_count": 23,
   "id": "7719e0d9",
   "metadata": {},
   "outputs": [],
   "source": [
    "from lxml import etree\n",
    "\n",
    "tree = etree.parse(\"rascacielos.xml\")"
   ]
  },
  {
   "cell_type": "code",
   "execution_count": 24,
   "id": "8480c911-51dd-4a72-968b-2c0fe5ec9e27",
   "metadata": {},
   "outputs": [
    {
     "data": {
      "text/plain": [
       "['Burj Khalifa', 'Taipéi 101', 'Sears Towers', 'Trump Tower']"
      ]
     },
     "execution_count": 24,
     "metadata": {},
     "output_type": "execute_result"
    }
   ],
   "source": [
    "# 1. Altura de los edificios construidos hasta 2010.\n",
    "\n",
    "tree.xpath(\"//edificio[datos[completado<=2010]]/nombre/text()\")"
   ]
  },
  {
   "cell_type": "code",
   "execution_count": 4,
   "id": "6df27864-7073-477a-b7b4-d595aef588b5",
   "metadata": {},
   "outputs": [
    {
     "data": {
      "text/plain": [
       "['Shanghái World Financial Center',\n",
       " 'Sears Towers',\n",
       " '432 Park Avenue',\n",
       " 'Trump Tower']"
      ]
     },
     "execution_count": 4,
     "metadata": {},
     "output_type": "execute_result"
    }
   ],
   "source": [
    "# 2. Años en los que se completaron rascacielos de más de 500 metros y menos de 110 pisos.\n",
    "\n",
    "tree.xpath(\"//edificio[datos [altura < 500 and pisos<110]]/nombre/text()\")"
   ]
  },
  {
   "cell_type": "code",
   "execution_count": 5,
   "id": "a8d86125-4c9e-41b3-a6fb-c7374a50d93a",
   "metadata": {},
   "outputs": [
    {
     "data": {
      "text/plain": [
       "['Burj Khalifa',\n",
       " 'Shanghái Tower',\n",
       " 'CTF Finance Centre',\n",
       " 'Taipéi 101',\n",
       " 'Shanghái World Financial Center']"
      ]
     },
     "execution_count": 5,
     "metadata": {},
     "output_type": "execute_result"
    }
   ],
   "source": [
    "# 3. Nombre de todos los edificios que se encuentran en Asia.\n",
    "\n",
    "tree.xpath(\"//edificio[ciudad = /rascacielos/ciudades/continente[@nombre='Asia']/pais/ciudad ]/nombre/text()\")"
   ]
  },
  {
   "cell_type": "markdown",
   "id": "640a05c8-3d7b-4dea-8e49-7690e775b5e6",
   "metadata": {},
   "source": [
    "**Ej 2:** Dado el siguiente archivo con de músicos y bandas argentinas escribir un programa en Python que devuelva:\n",
    "1. Todos los músicos nacidos en Argentina antes de 1960.\n",
    "2. Todos los músicos vivos (que no tienen fecha de muerte)\n",
    "3. Todos los músicos (datos completos: nombre, fecha y país) que integran actualmente alguna banda (banda sin fecha de disolución)\n",
    "\n",
    "[datos](https://drive.google.com/file/d/1TevIBYF1HIw1TOykEt6WTfv0xWL_0iKz/view?usp=sharing)"
   ]
  },
  {
   "cell_type": "code",
   "execution_count": 6,
   "id": "98607ca3",
   "metadata": {},
   "outputs": [
    {
     "name": "stderr",
     "output_type": "stream",
     "text": [
      "Downloading...\n",
      "From (original): https://drive.google.com/uc?export=download&id=1TevIBYF1HIw1TOykEt6WTfv0xWL_0iKz\n",
      "From (redirected): https://drive.google.com/uc?export=download&id=1TevIBYF1HIw1TOykEt6WTfv0xWL_0iKz&confirm=t&uuid=ce6a3399-dfc6-483d-ab90-07bbd78d0520\n",
      "To: E:\\Facultad Programacion\\Estructura-De-Datos\\musica.xml\n",
      "100%|██████████| 1.26k/1.26k [00:00<00:00, 7.51MB/s]\n"
     ]
    },
    {
     "data": {
      "text/plain": [
       "'musica.xml'"
      ]
     },
     "execution_count": 6,
     "metadata": {},
     "output_type": "execute_result"
    }
   ],
   "source": [
    "# Descargar musica.xml desde Google Drive\n",
    "import gdown\n",
    "\n",
    "# ID del archivo de Google Drive\n",
    "file_id = \"1TevIBYF1HIw1TOykEt6WTfv0xWL_0iKz\"\n",
    "url = f\"https://drive.google.com/uc?export=download&id={file_id}\"\n",
    "\n",
    "# Nombre local para guardarlo\n",
    "output = \"musica.xml\"\n",
    "gdown.download(url, output, quiet=False)"
   ]
  },
  {
   "cell_type": "code",
   "execution_count": 6,
   "id": "678d4f61-ccb2-4afc-8a83-f159168811fc",
   "metadata": {},
   "outputs": [],
   "source": [
    "from lxml import etree\n",
    "\n",
    "tree = etree.parse(\"musica.xml\")"
   ]
  },
  {
   "cell_type": "code",
   "execution_count": 29,
   "id": "9ce2232d-7729-4e24-80ab-be4f4a59a770",
   "metadata": {},
   "outputs": [
    {
     "data": {
      "text/plain": [
       "['Charly Garcia', 'Ricardo Jorge Mollo', 'Diego Arnedo']"
      ]
     },
     "execution_count": 29,
     "metadata": {},
     "output_type": "execute_result"
    }
   ],
   "source": [
    "# 1. Todos los músicos nacidos en Argentina antes de 1960.\n",
    "\n",
    "tree.xpath(\"/musica/musicos/musico[fechas/@nacimiento < 1960 and pais = 'Argentina'] /nombre/text()\")"
   ]
  },
  {
   "cell_type": "code",
   "execution_count": 7,
   "id": "0a309767-3c13-4269-89fb-c98d86338553",
   "metadata": {},
   "outputs": [
    {
     "data": {
      "text/plain": [
       "[{'nombre': 'Charly Garcia', 'fechas': None, 'pais': 'Argentina'},\n",
       " {'nombre': 'Roberto Pettinato', 'fechas': None, 'pais': 'Ecuador'},\n",
       " {'nombre': 'Ricardo Jorge Mollo', 'fechas': None, 'pais': 'Argentina'},\n",
       " {'nombre': 'Diego Arnedo', 'fechas': None, 'pais': 'Argentina'}]"
      ]
     },
     "execution_count": 7,
     "metadata": {},
     "output_type": "execute_result"
    }
   ],
   "source": [
    "# 2. Todos los músicos vivos (que no tienen fecha de muerte)\n",
    "\n",
    "tree.xpath(\"/musica/musicos/musico[not(fechas/@muerte)]/nombre/text()\")\n",
    "\n",
    "musicos_vivos = tree.xpath(\"//musico[not(fechas/@muerte)]\")\n",
    "[{attr.tag: attr.text for attr in musico } for musico in musicos_vivos]"
   ]
  },
  {
   "cell_type": "code",
   "execution_count": 3,
   "id": "7a20ca79-a399-4def-b0dd-d1ee3e540ad5",
   "metadata": {},
   "outputs": [
    {
     "data": {
      "text/plain": [
       "[{'nombre': 'Roberto Pettinato', 'fechas': None, 'pais': 'Ecuador'},\n",
       " {'nombre': 'Luca Prodan', 'fechas': None, 'pais': 'Italia'},\n",
       " {'nombre': 'Ricardo Jorge Mollo', 'fechas': None, 'pais': 'Argentina'},\n",
       " {'nombre': 'Diego Arnedo', 'fechas': None, 'pais': 'Argentina'}]"
      ]
     },
     "execution_count": 3,
     "metadata": {},
     "output_type": "execute_result"
    }
   ],
   "source": [
    "# 3. Todos los músicos (datos completos: nombre, fecha y país) que integran actualmente alguna banda (banda sin fecha de disolución)\n",
    "\n",
    "tree.xpath(\"/musica/musicos/musico[@id = /musica/bandas/banda[not(disolucion)]/integrantes/integrante/@id]\")\n",
    "\n"
   ]
  },
  {
   "cell_type": "markdown",
   "id": "9a94a3a3-b245-4e2d-8e6a-bf387ef37094",
   "metadata": {},
   "source": [
    "**Ej 3:** Dado el siguiente archivo xml con datos de distribuciones Linux, escribir un programa en Python que devuelva: \n",
    "1. Versiones que se publicaron después de mayo de 2018.\n",
    "2. Distribuciones publicadas con kérneles de 2017.\n",
    "3. Escritorios utilizado por distribuciones derivadas de Ubuntu\n",
    "\n",
    "[datos](https://drive.google.com/file/d/1rVR9kNaOvvNFLiBLz_VSChfeUs_1TnlO/view?usp=sharing)"
   ]
  },
  {
   "cell_type": "code",
   "execution_count": 27,
   "id": "dab01d05",
   "metadata": {},
   "outputs": [
    {
     "name": "stderr",
     "output_type": "stream",
     "text": [
      "Downloading...\n",
      "From (original): https://drive.google.com/uc?export=download&id=1rVR9kNaOvvNFLiBLz_VSChfeUs_1TnlO\n",
      "From (redirected): https://drive.google.com/uc?export=download&id=1rVR9kNaOvvNFLiBLz_VSChfeUs_1TnlO&confirm=t&uuid=5c2ed475-c816-42c1-be6d-388b57b08717\n",
      "To: E:\\Facultad Programacion\\Estructura-De-Datos\\software-libre.xml\n",
      "100%|██████████| 2.57k/2.57k [00:00<00:00, 6.66MB/s]\n"
     ]
    },
    {
     "data": {
      "text/plain": [
       "'software-libre.xml'"
      ]
     },
     "execution_count": 27,
     "metadata": {},
     "output_type": "execute_result"
    }
   ],
   "source": [
    "# Descargar software-libre.xml desde Google Drive\n",
    "import gdown\n",
    "\n",
    "# ID del archivo de Google Drive\n",
    "file_id = \"1rVR9kNaOvvNFLiBLz_VSChfeUs_1TnlO\"\n",
    "url = f\"https://drive.google.com/uc?export=download&id={file_id}\"\n",
    "\n",
    "# Nombre local para guardarlo\n",
    "output = \"software-libre.xml\"\n",
    "gdown.download(url, output, quiet=False)"
   ]
  },
  {
   "cell_type": "code",
   "execution_count": 2,
   "id": "11e0c631-0a03-4f98-915a-2dd2aabd328d",
   "metadata": {},
   "outputs": [],
   "source": [
    "from lxml import etree\n",
    "\n",
    "tree = etree.parse(\"software-libre.xml\")"
   ]
  },
  {
   "cell_type": "code",
   "execution_count": 12,
   "id": "fe56f81f-14a7-4a5d-910b-9ac9856d92d1",
   "metadata": {},
   "outputs": [
    {
     "data": {
      "text/plain": [
       "[<Element kernel at 0x1adb5b90240>]"
      ]
     },
     "execution_count": 12,
     "metadata": {},
     "output_type": "execute_result"
    }
   ],
   "source": [
    "#1. Versiones que se publicaron después de mayo de 2018.\n",
    "\n",
    "tree.xpath(\"/software-libre/kernels/kernel[@id = /software-libre/lanzamientos/lanzamiento[(@año=2018 and @mes>5) or @año>=2019]/@kernel]\")"
   ]
  },
  {
   "cell_type": "code",
   "execution_count": 3,
   "id": "e221003b-5971-4e3f-914f-781e863289f1",
   "metadata": {},
   "outputs": [
    {
     "data": {
      "text/plain": [
       "['Manjaro Linux', 'Linux Mint', 'Ubuntu', 'Debian GNU/Linux']"
      ]
     },
     "execution_count": 3,
     "metadata": {},
     "output_type": "execute_result"
    }
   ],
   "source": [
    "# 2. Distribuciones publicadas con kérneles de 2017.\n",
    "\n",
    "tree.xpath(\"/software-libre/distribuciones/distribucion[@id = /software-libre/lanzamientos/lanzamiento[@año = 2017]/@distribucion]/nombre/text()\")"
   ]
  },
  {
   "cell_type": "code",
   "execution_count": null,
   "id": "293c33d0-7e20-4fce-bd31-ff13b6e95f28",
   "metadata": {},
   "outputs": [],
   "source": [
    "# 3. Escritorios utilizado por distribuciones derivadas de Ubuntu\n",
    "\n",
    "pass"
   ]
  },
  {
   "cell_type": "markdown",
   "id": "66a79514-65ef-4bd6-afb4-36524cd1034b",
   "metadata": {},
   "source": [
    "**Ej 4:** Dado el siguiente archivo xml con datos de coches europeos, escribir un programa en Python que devuelva:\n",
    "1. Marca de los coches del año.\n",
    "2. Tamaño de los coches que se dejaron de fabricar en 2005.\n",
    "3. Marcas de los coches de tamaño subcompact\n",
    "\n",
    "[datos](https://drive.google.com/file/d/155AVxvWNAuJRGZRdyQkdgLItU5ek5Q6f/view?usp=sharing)"
   ]
  },
  {
   "cell_type": "code",
   "execution_count": null,
   "id": "419dd8ba",
   "metadata": {},
   "outputs": [],
   "source": [
    "# Descargar vehiculos.xml desde Google Drive\n",
    "import gdown\n",
    "\n",
    "# ID del archivo de Google Drive\n",
    "file_id = \"155AVxvWNAuJRGZRdyQkdgLItU5ek5Q6f\"\n",
    "url = f\"https://drive.google.com/uc?export=download&id={file_id}\"\n",
    "\n",
    "# Nombre local para guardarlo\n",
    "output = \"vehiculos.xml\"\n",
    "gdown.download(url, output, quiet=False)"
   ]
  },
  {
   "cell_type": "code",
   "execution_count": null,
   "id": "a094a8b9-fa3e-4e3d-93a6-e74c38534ef0",
   "metadata": {},
   "outputs": [],
   "source": [
    "from lxml import etree\n",
    "\n",
    "tree = etree.parse(\"Guia 7-XMLs/vehiculos.xml\")"
   ]
  },
  {
   "cell_type": "code",
   "execution_count": null,
   "id": "c70fd3d0-17fc-4501-987f-dd0243f97183",
   "metadata": {},
   "outputs": [],
   "source": [
    "# 1. Marca de los coches del año.\n",
    "\n",
    "pass"
   ]
  },
  {
   "cell_type": "code",
   "execution_count": null,
   "id": "3d546752-cd5d-4341-acd7-265b871b8cac",
   "metadata": {
    "jupyter": {
     "source_hidden": true
    }
   },
   "outputs": [],
   "source": [
    "# 2. Tamaño de los coches que se dejaron de fabricar en 2005.\n",
    "\n",
    "pass"
   ]
  },
  {
   "cell_type": "code",
   "execution_count": null,
   "id": "5c56ee1f-6815-4368-b337-4773604d948c",
   "metadata": {
    "jupyter": {
     "source_hidden": true
    }
   },
   "outputs": [],
   "source": [
    "#3. Marcas de los coches de tamaño subcompact\n",
    "\n",
    "pass"
   ]
  },
  {
   "cell_type": "markdown",
   "id": "58216bd6-0afa-4d15-97fb-872548cba783",
   "metadata": {},
   "source": [
    "**Ej 5:** Escribir un programa en Python que tome un archivo XML con un formato arbitrario y devuelva un archivo JSON donde cada una de las etiquetas del XML se convierte en una clave en JSON. Las etiquetas XML pueden tener atributos en ese caso debe preceder el nombre de la clave con @ en el archivo json. Como las etiquetas se pueden repetir se debe usar una lista para almacenar el texto de las etiquetas. Ver el siguiente ejemplo:\n",
    "\n",
    "**XML**\n",
    "\n",
    "```xml\n",
    "<biblioteca sede=\"Caseros\">\n",
    "  <libro id=\"1\" precio=300>\n",
    "    <titulo>El Quijote</titulo>\n",
    "    <autor>Cervantes</autor>\n",
    "    <anio>1605</anio>\n",
    "  </libro>\n",
    "  <libro id=\"2\">\n",
    "    <titulo>XML from Scratch</titulo>\n",
    "    <autor>Rojo</autor>\n",
    "    <autor>Becker</autor>\n",
    "    <anio>1949</anio>\n",
    "  </libro>\n",
    "</biblioteca>\n",
    "```\n",
    "\n",
    "**JSON**\n",
    "\n",
    "```json\n",
    "{\n",
    "  \"biblioteca\": {\n",
    "    \"@sede\": \"Caseros\",\n",
    "    \"children\": [\n",
    "      {\n",
    "        \"libro\": {\n",
    "          \"@id\": \"1\",\n",
    "          \"@precio\": \"300\",\n",
    "          \"children\": [\n",
    "            { \"titulo\": { \"text\": \"El Quijote\" } },\n",
    "            { \"autor\": { \"text\": \"Cervantes\" } },\n",
    "            { \"anio\": { \"text\": \"1605\" } }\n",
    "          ]\n",
    "        }\n",
    "      },\n",
    "      {\n",
    "        \"libro\": {\n",
    "          \"@id\": \"2\",\n",
    "          \"children\": [\n",
    "            { \"titulo\": { \"text\": \"XML from Scratch\" } },\n",
    "            { \"autor\": { \"text\": \"Rojo\" } },\n",
    "            { \"autor\": { \"text\": \"Becker\" } },\n",
    "            { \"anio\": { \"text\": \"1949\" } }\n",
    "          ]\n",
    "        }\n",
    "      }\n",
    "    ]\n",
    "  }\n",
    "}\n",
    "```"
   ]
  },
  {
   "cell_type": "code",
   "execution_count": 4,
   "id": "ef5684e6-e72b-4cf1-9a51-77b2e7c3c8c2",
   "metadata": {},
   "outputs": [
    {
     "ename": "FileNotFoundError",
     "evalue": "[Errno 2] No such file or directory: 'rascacielos.json'",
     "output_type": "error",
     "traceback": [
      "\u001b[31m---------------------------------------------------------------------------\u001b[39m",
      "\u001b[31mFileNotFoundError\u001b[39m                         Traceback (most recent call last)",
      "\u001b[36mCell\u001b[39m\u001b[36m \u001b[39m\u001b[32mIn[4]\u001b[39m\u001b[32m, line 10\u001b[39m\n\u001b[32m      6\u001b[39m     \u001b[38;5;28;01mpass\u001b[39;00m\n\u001b[32m      8\u001b[39m xml2json(\u001b[33m\"\u001b[39m\u001b[33mrascacielos.xml\u001b[39m\u001b[33m\"\u001b[39m)\n\u001b[32m---> \u001b[39m\u001b[32m10\u001b[39m \u001b[38;5;28;01mwith\u001b[39;00m \u001b[38;5;28;43mopen\u001b[39;49m\u001b[43m(\u001b[49m\u001b[33;43m\"\u001b[39;49m\u001b[33;43mrascacielos.json\u001b[39;49m\u001b[33;43m\"\u001b[39;49m\u001b[43m,\u001b[49m\u001b[43m \u001b[49m\u001b[33;43m\"\u001b[39;49m\u001b[33;43mr\u001b[39;49m\u001b[33;43m\"\u001b[39;49m\u001b[43m,\u001b[49m\u001b[43m \u001b[49m\u001b[43mencoding\u001b[49m\u001b[43m=\u001b[49m\u001b[33;43m\"\u001b[39;49m\u001b[33;43mutf-8\u001b[39;49m\u001b[33;43m\"\u001b[39;49m\u001b[43m)\u001b[49m \u001b[38;5;28;01mas\u001b[39;00m f:\n\u001b[32m     11\u001b[39m     \u001b[38;5;28mprint\u001b[39m(f.read())\n",
      "\u001b[36mFile \u001b[39m\u001b[32m~\\AppData\\Local\\Programs\\Python\\Python313\\Lib\\site-packages\\IPython\\core\\interactiveshell.py:343\u001b[39m, in \u001b[36m_modified_open\u001b[39m\u001b[34m(file, *args, **kwargs)\u001b[39m\n\u001b[32m    336\u001b[39m \u001b[38;5;28;01mif\u001b[39;00m file \u001b[38;5;129;01min\u001b[39;00m {\u001b[32m0\u001b[39m, \u001b[32m1\u001b[39m, \u001b[32m2\u001b[39m}:\n\u001b[32m    337\u001b[39m     \u001b[38;5;28;01mraise\u001b[39;00m \u001b[38;5;167;01mValueError\u001b[39;00m(\n\u001b[32m    338\u001b[39m         \u001b[33mf\u001b[39m\u001b[33m\"\u001b[39m\u001b[33mIPython won\u001b[39m\u001b[33m'\u001b[39m\u001b[33mt let you open fd=\u001b[39m\u001b[38;5;132;01m{\u001b[39;00mfile\u001b[38;5;132;01m}\u001b[39;00m\u001b[33m by default \u001b[39m\u001b[33m\"\u001b[39m\n\u001b[32m    339\u001b[39m         \u001b[33m\"\u001b[39m\u001b[33mas it is likely to crash IPython. If you know what you are doing, \u001b[39m\u001b[33m\"\u001b[39m\n\u001b[32m    340\u001b[39m         \u001b[33m\"\u001b[39m\u001b[33myou can use builtins\u001b[39m\u001b[33m'\u001b[39m\u001b[33m open.\u001b[39m\u001b[33m\"\u001b[39m\n\u001b[32m    341\u001b[39m     )\n\u001b[32m--> \u001b[39m\u001b[32m343\u001b[39m \u001b[38;5;28;01mreturn\u001b[39;00m \u001b[43mio_open\u001b[49m\u001b[43m(\u001b[49m\u001b[43mfile\u001b[49m\u001b[43m,\u001b[49m\u001b[43m \u001b[49m\u001b[43m*\u001b[49m\u001b[43margs\u001b[49m\u001b[43m,\u001b[49m\u001b[43m \u001b[49m\u001b[43m*\u001b[49m\u001b[43m*\u001b[49m\u001b[43mkwargs\u001b[49m\u001b[43m)\u001b[49m\n",
      "\u001b[31mFileNotFoundError\u001b[39m: [Errno 2] No such file or directory: 'rascacielos.json'"
     ]
    }
   ],
   "source": [
    "import json\n",
    "\n",
    "from lxml import etree\n",
    "\n",
    "def xml2json(xml_path):\n",
    "    pass\n",
    "\n",
    "xml2json(\"rascacielos.xml\")\n",
    "\n",
    "with open(\"rascacielos.json\", \"r\", encoding=\"utf-8\") as f:\n",
    "    print(f.read())"
   ]
  },
  {
   "cell_type": "markdown",
   "id": "81cdcc9a",
   "metadata": {},
   "source": [
    "**Ej 6:** Consultar las últimas noticias del diario \"El País\" de España y escribir un programa en Python que devuelva\n",
    "1. Cantidad de artículos que hablan de política (buscar en `category` política, políticas, político, políticos)\n",
    "2. Cantidad de artículos que hablan de deportes (buscar en `category` deportes, deportivo, deportivos, fútbol, tenis, básquet, rugby)\n",
    "3. Cantidad de artículos que hablan de economía (buscar en `category` economía, economista, económicos)\n",
    "\n",
    "Feed RSS: https://feeds.elpais.com/mrss-s/pages/ep/site/elpais.com/section/ultimas-noticias/portada\n",
    "\n",
    "> Pista: usar `lxml` directamente sobre el string del feed para recorrerlo con `xpath`."
   ]
  },
  {
   "cell_type": "code",
   "execution_count": 19,
   "id": "5ad64311",
   "metadata": {},
   "outputs": [
    {
     "name": "stdout",
     "output_type": "stream",
     "text": [
      "cantidad de articulos que hablan de politica: 6\n"
     ]
    }
   ],
   "source": [
    "import requests\n",
    "from lxml import etree\n",
    "\n",
    "rss_url = \"https://feeds.elpais.com/mrss-s/pages/ep/site/elpais.com/section/ultimas-noticias/portada\"\n",
    "xml = requests.get(rss_url).content\n",
    "root = etree.fromstring(xml)\n",
    "\n",
    "politica=root.xpath(\"//item[category= 'Política' or category= 'Político' or category= 'Políticos']/title/text()\")\n",
    "\n",
    "print(f\"cantidad de articulos que hablan de politica: {len(politica)}\")\n",
    "\n"
   ]
  },
  {
   "cell_type": "code",
   "execution_count": 20,
   "id": "484cce68-7467-4d32-b8d8-90724802e685",
   "metadata": {},
   "outputs": [
    {
     "name": "stdout",
     "output_type": "stream",
     "text": [
      "cantidad de articulos que hablan de Deportes: 3\n"
     ]
    }
   ],
   "source": [
    "deportes=root.xpath(\"//item[category= 'Deportes' or category= 'Deportivo' or category='Deportivos' or category='Fútbol' or category='Tenis' or category='básquet'or category='Rugby' ]/title/text()\")\n",
    "\n",
    "print(f\"cantidad de articulos que hablan de Deportes: {len(deportes)}\")"
   ]
  },
  {
   "cell_type": "code",
   "execution_count": 21,
   "id": "8dbb28d5-d44e-435e-af99-974bfb7e061a",
   "metadata": {},
   "outputs": [
    {
     "name": "stdout",
     "output_type": "stream",
     "text": [
      "cantidad de articulos que hablan de Deportes: 3\n"
     ]
    }
   ],
   "source": [
    "economia=root.xpath(\"//item[category= 'Economía' or category= 'Economista' or category= 'Económicos']/title/text()\")\n",
    "\n",
    "print(f\"cantidad de articulos que hablan de Deportes: {len(economia)}\")"
   ]
  },
  {
   "cell_type": "code",
   "execution_count": null,
   "id": "6872c360-f367-47e5-8f7b-192c946b39c5",
   "metadata": {},
   "outputs": [],
   "source": []
  }
 ],
 "metadata": {
  "kernelspec": {
   "display_name": "Python 3 (ipykernel)",
   "language": "python",
   "name": "python3"
  },
  "language_info": {
   "codemirror_mode": {
    "name": "ipython",
    "version": 3
   },
   "file_extension": ".py",
   "mimetype": "text/x-python",
   "name": "python",
   "nbconvert_exporter": "python",
   "pygments_lexer": "ipython3",
   "version": "3.13.7"
  }
 },
 "nbformat": 4,
 "nbformat_minor": 5
}
