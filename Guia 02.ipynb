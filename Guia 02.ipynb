{
 "cells": [
  {
   "cell_type": "markdown",
   "id": "f05b7e77-8842-4ff5-bf9f-7433e68ccb68",
   "metadata": {
    "editable": false,
    "id": "f05b7e77-8842-4ff5-bf9f-7433e68ccb68",
    "tags": []
   },
   "source": [
    "<p style=\"text-align: center\">\n",
    "    <img src=\"data:image/svg+xml,%3Csvg%20version%3D%221.2%22%20baseProfile%3D%22tiny%22%20id%3D%22Capa_1%22%20xmlns%3D%22http%3A%2F%2Fwww.w3.org%2F2000%2Fsvg%22%20xmlns%3Axlink%3D%22http%3A%2F%2Fwww.w3.org%2F1999%2Fxlink%22%20x%3D%220px%22%20y%3D%220px%22%20viewBox%3D%220%200%20136.5%2058%22%20overflow%3D%22visible%22%20xml%3Aspace%3D%22preserve%22%3E%3Cstyle%20type%3D%22text%2Fcss%22%3Epath%2Cpolygon%2Crect%7Bfill%3A%231e1f1d%21important%7D%40media%20%28prefers-color-scheme%3Adark%29%7Bpath%2Cpolygon%2Crect%7Bfill%3A%23e1e0e2%21important%7D%7D%3C%2Fstyle%3E%3Cg%3E%3Cpath%20d%3D%22M0%2C33.4h1v6.3c0%2C1.1%2C0.5%2C1.7%2C1.7%2C1.7s1.7-0.5%2C1.7-1.7v-6.3h1v6.3c0%2C1.8-1%2C2.5-2.7%2C2.5C1%2C42.3%2C0%2C41.5%2C0%2C39.7%20V33.4z%22%3E%3C%2Fpath%3E%3Cpolygon%20points%3D%228.1%2C42.2%208.1%2C33.4%209.4%2C33.4%2012.6%2C40.4%2012.7%2C40.4%2012.7%2C33.4%2013.7%2C33.4%2013.7%2C42.2%2012.4%2C42.2%209.1%2C34.9%209%2C34.9%209%2C42.2%22%3E%3C%2Fpolygon%3E%3Crect%20x%3D%2216.5%22%20width%3D%221%22%20y%3D%2233.4%22%20height%3D%228.7%22%3E%3C%2Frect%3E%3Cpolygon%20points%3D%2224.4%2C33.4%2025.4%2C33.4%2023.1%2C42.2%2021.7%2C42.2%2019.4%2C33.4%2020.5%2C33.4%2022.4%2C40.9%2022.5%2C40.9%22%3E%3C%2Fpolygon%3E%3Cpolygon%20points%3D%2227.4%2C42.2%2027.4%2C33.4%2032.1%2C33.4%2032.1%2C34.3%2028.4%2C34.3%2028.4%2C37.2%2031.6%2C37.2%2031.6%2C38.1%2028.4%2C38.1%2028.4%2C41.3%2032.3%2C41.3%2032.3%2C42.2%22%3E%3C%2Fpolygon%3E%3Cpath%20d%3D%22M35.3%2C37.6h1.8c1.1%2C0%2C1.6-0.5%2C1.6-1.6c0-1.1-0.5-1.6-1.6-1.6h-1.8V37.6z%20M35.3%2C42.2h-1v-8.7h3%20c1.6%2C0%2C2.5%2C0.9%2C2.5%2C2.5c0%2C1.3-0.6%2C2-1.2%2C2.3l1.3%2C3.9h-1.1l-1.2-3.6h-2.3V42.2z%22%3E%3C%2Fpath%3E%3Cpath%20d%3D%22M46.7%2C35.6c-0.1-1-0.6-1.4-1.7-1.4c-1%2C0-1.7%2C0.4-1.7%2C1.4c0%2C1%2C0.8%2C1.2%2C1.9%2C1.6c1.4%2C0.4%2C2.7%2C0.9%2C2.7%2C2.6%20c0%2C1.7-1.1%2C2.5-2.8%2C2.5c-1.8%2C0-2.8-0.8-2.9-2.5l1-0.1c0.1%2C1.2%2C0.7%2C1.7%2C1.9%2C1.7c1.1%2C0%2C1.8-0.5%2C1.8-1.5c0-1-0.6-1.3-1.9-1.7%20c-1.4-0.4-2.6-0.8-2.6-2.5c0-1.7%2C1.1-2.4%2C2.8-2.4c1.6%2C0%2C2.6%2C0.6%2C2.8%2C2.2L46.7%2C35.6z%22%3E%3C%2Fpath%3E%3Crect%20x%3D%2250.2%22%20width%3D%221%22%20y%3D%2233.4%22%20height%3D%228.7%22%3E%3C%2Frect%3E%3Cpath%20d%3D%22M55%2C41.3h1.9c1%2C0%2C1.7-0.5%2C1.7-1.5v-4c0-1-0.6-1.5-1.7-1.5H55V41.3z%20M54%2C33.4h2.8c1.8%2C0%2C2.8%2C0.7%2C2.8%2C2.5v3.7%20c0%2C1.8-1%2C2.5-2.8%2C2.5H54V33.4z%22%3E%3C%2Fpath%3E%3Cpath%20d%3D%22M63.2%2C39.1H66l-1.3-4.6h-0.1L63.2%2C39.1z%20M62.4%2C42.2h-1.1l2.6-8.7h1.5l2.6%2C8.7h-1.1L66.3%2C40H63L62.4%2C42.2z%22%3E%3C%2Fpath%3E%3Cpath%20d%3D%22M70.9%2C41.3h1.9c1%2C0%2C1.7-0.5%2C1.7-1.5v-4c0-1-0.6-1.5-1.7-1.5h-1.9V41.3z%20M69.8%2C33.4h2.8%20c1.8%2C0%2C2.8%2C0.7%2C2.8%2C2.5v3.7c0%2C1.8-1%2C2.5-2.8%2C2.5h-2.8V33.4z%22%3E%3C%2Fpath%3E%3Cpolygon%20points%3D%2281.3%2C42.2%2081.3%2C33.4%2082.6%2C33.4%2085.8%2C40.4%2085.9%2C40.4%2085.9%2C33.4%2086.9%2C33.4%2086.9%2C42.2%2085.6%2C42.2%2082.3%2C34.9%2082.2%2C34.9%2082.2%2C42.2%22%3E%3C%2Fpolygon%3E%3Cpath%20d%3D%22M90.7%2C39.1h2.8l-1.3-4.6H92L90.7%2C39.1z%20M89.8%2C42.2h-1.1l2.6-8.7h1.5l2.6%2C8.7h-1.1L93.7%2C40h-3.3L89.8%2C42.2z%22%3E%3C%2Fpath%3E%3Cpath%20d%3D%22M101.2%2C36.1v-0.4c0-1.1-0.5-1.5-1.7-1.5c-1.1%2C0-1.8%2C0.4-1.8%2C1.5v4.1c0%2C1.1%2C0.6%2C1.5%2C1.8%2C1.5%20c1.1%2C0%2C1.7-0.5%2C1.7-1.5v-0.4l1%2C0.1v0.1c0%2C1.8-0.9%2C2.6-2.7%2C2.6c-1.8%2C0-2.8-0.7-2.8-2.5v-4c0-1.8%2C1-2.5%2C2.8-2.5%20c1.8%2C0%2C2.7%2C0.7%2C2.7%2C2.6V36L101.2%2C36.1z%22%3E%3C%2Fpath%3E%3Crect%20x%3D%22104.7%22%20width%3D%221%22%20y%3D%2233.4%22%20height%3D%228.7%22%3E%3C%2Frect%3E%3Cpath%20d%3D%22M109.3%2C39.9c0%2C1.1%2C0.7%2C1.5%2C1.8%2C1.5c1.1%2C0%2C1.8-0.4%2C1.8-1.5v-4.1c0-1.1-0.7-1.5-1.8-1.5%20c-1.1%2C0-1.8%2C0.4-1.8%2C1.5V39.9z%20M108.3%2C35.8c0-1.9%2C1-2.5%2C2.8-2.5c1.8%2C0%2C2.8%2C0.7%2C2.8%2C2.5v3.9c0%2C1.9-1%2C2.5-2.8%2C2.5%20c-1.8%2C0-2.8-0.7-2.8-2.5V35.8z%22%3E%3C%2Fpath%3E%3Cpolygon%20points%3D%22116.5%2C42.2%20116.5%2C33.4%20117.8%2C33.4%20121%2C40.4%20121.1%2C40.4%20121.1%2C33.4%20122%2C33.4%20122%2C42.2%20120.8%2C42.2%20117.5%2C34.9%20117.4%2C34.9%20117.4%2C42.2%22%3E%3C%2Fpolygon%3E%3Cpath%20d%3D%22M125.9%2C39.1h2.8l-1.3-4.6h-0.1L125.9%2C39.1z%20M125%2C42.2h-1.1l2.6-8.7h1.5l2.6%2C8.7h-1.1l-0.6-2.1h-3.3%20L125%2C42.2z%22%3E%3C%2Fpath%3E%3Cpolygon%20points%3D%22132.5%2C42.2%20132.5%2C33.4%20133.5%2C33.4%20133.5%2C41.3%20136.5%2C41.3%20136.5%2C42.2%22%3E%3C%2Fpolygon%3E%3Cpath%20d%3D%22M1.2%2C57h1.9c1%2C0%2C1.7-0.5%2C1.7-1.5v-4c0-1-0.6-1.5-1.7-1.5H1.2V57z%20M0.1%2C49.1H3c1.8%2C0%2C2.8%2C0.7%2C2.8%2C2.5v3.7%20c0%2C1.8-1%2C2.5-2.8%2C2.5H0.1V49.1z%22%3E%3C%2Fpath%3E%3Cpolygon%20points%3D%228.3%2C57.9%208.3%2C49.1%2013%2C49.1%2013%2C50%209.3%2C50%209.3%2C52.9%2012.6%2C52.9%2012.6%2C53.8%209.3%2C53.8%209.3%2C57%2013.2%2C57%2013.2%2C57.9%22%3E%3C%2Fpolygon%3E%3Cpolygon%20points%3D%2219.7%2C50.1%2017.6%2C50.1%2017.6%2C49.1%2022.7%2C49.1%2022.7%2C50.1%2020.7%2C50.1%2020.7%2C57.9%2019.7%2C57.9%22%3E%3C%2Fpolygon%3E%3Cpath%20d%3D%22M25.6%2C53.3h1.8c1.1%2C0%2C1.6-0.5%2C1.6-1.6c0-1.1-0.5-1.6-1.6-1.6h-1.8V53.3z%20M25.6%2C57.9h-1v-8.7h3%20c1.6%2C0%2C2.5%2C0.9%2C2.5%2C2.5c0%2C1.3-0.6%2C2-1.2%2C2.3l1.3%2C3.9h-1.1l-1.2-3.6h-2.3V57.9z%22%3E%3C%2Fpath%3E%3Cpolygon%20points%3D%2232.8%2C57.9%2032.8%2C49.1%2037.5%2C49.1%2037.5%2C50%2033.8%2C50%2033.8%2C52.9%2037%2C52.9%2037%2C53.8%2033.8%2C53.8%2033.8%2C57%2037.7%2C57%2037.7%2C57.9%22%3E%3C%2Fpolygon%3E%3Cpath%20d%3D%22M44%2C51.3c-0.1-1-0.6-1.4-1.7-1.4c-1%2C0-1.7%2C0.4-1.7%2C1.4c0%2C1%2C0.8%2C1.2%2C1.9%2C1.6c1.4%2C0.4%2C2.7%2C0.9%2C2.7%2C2.6%20c0%2C1.7-1.1%2C2.5-2.8%2C2.5c-1.8%2C0-2.8-0.8-2.9-2.5l1-0.1c0.1%2C1.2%2C0.7%2C1.7%2C1.9%2C1.7c1.1%2C0%2C1.8-0.5%2C1.8-1.5c0-1-0.6-1.3-1.9-1.7%20c-1.4-0.4-2.6-0.8-2.6-2.5c0-1.7%2C1.1-2.4%2C2.8-2.4c1.6%2C0%2C2.6%2C0.6%2C2.8%2C2.2L44%2C51.3z%22%3E%3C%2Fpath%3E%3Cpath%20d%3D%22M51.8%2C57h1.9c1.1%2C0%2C1.7-0.5%2C1.7-1.5v-4c0-1-0.6-1.5-1.7-1.5h-1.9V57z%20M50.8%2C49.1h2.8c1.8%2C0%2C2.8%2C0.7%2C2.8%2C2.5%20v3.7c0%2C1.8-1%2C2.5-2.8%2C2.5h-2.8V49.1z%22%3E%3C%2Fpath%3E%3Cpolygon%20points%3D%2258.9%2C57.9%2058.9%2C49.1%2063.6%2C49.1%2063.6%2C50%2059.9%2C50%2059.9%2C52.9%2063.2%2C52.9%2063.2%2C53.8%2059.9%2C53.8%2059.9%2C57%2063.8%2C57%2063.8%2C57.9%22%3E%3C%2Fpolygon%3E%3Cpolygon%20points%3D%2269.2%2C57.9%2069.2%2C49.1%2073.6%2C49.1%2073.6%2C50%2070.2%2C50%2070.2%2C52.9%2073.2%2C52.9%2073.2%2C53.8%2070.2%2C53.8%2070.2%2C57.9%22%3E%3C%2Fpolygon%3E%3Cpolygon%20points%3D%2275.6%2C57.9%2075.6%2C49.1%2080.3%2C49.1%2080.3%2C50%2076.6%2C50%2076.6%2C52.9%2079.8%2C52.9%2079.8%2C53.8%2076.6%2C53.8%2076.6%2C57%2080.5%2C57%2080.5%2C57.9%22%3E%3C%2Fpolygon%3E%3Cpath%20d%3D%22M83.5%2C57h2.1c1.1%2C0%2C1.7-0.6%2C1.7-1.6c0-1.1-0.6-1.6-1.7-1.6h-2V57z%20M83.5%2C52.9h2c1%2C0%2C1.5-0.5%2C1.5-1.4%20c0-1-0.5-1.4-1.5-1.4h-2V52.9z%20M82.5%2C49.1h3.3c1.6%2C0%2C2.3%2C0.7%2C2.3%2C2.2c0%2C1-0.3%2C1.6-1%2C1.9v0.1c0.6%2C0.2%2C1.2%2C0.9%2C1.2%2C2.1%20c0%2C1.5-0.7%2C2.4-2.4%2C2.4h-3.4V49.1z%22%3E%3C%2Fpath%3E%3Cpath%20d%3D%22M91.9%2C53.3h1.8c1.1%2C0%2C1.6-0.5%2C1.6-1.6c0-1.1-0.5-1.6-1.6-1.6h-1.8V53.3z%20M91.9%2C57.9h-1v-8.7h3%20c1.6%2C0%2C2.5%2C0.9%2C2.5%2C2.5c0%2C1.3-0.6%2C2-1.2%2C2.3l1.3%2C3.9h-1.1l-1.2-3.6h-2.3V57.9z%22%3E%3C%2Fpath%3E%3Cpolygon%20points%3D%2299%2C57.9%2099%2C49.1%20103.7%2C49.1%20103.7%2C50%20100%2C50%20100%2C52.9%20103.3%2C52.9%20103.3%2C53.8%20100%2C53.8%20100%2C57%20103.9%2C57%20103.9%2C57.9%22%3E%3C%2Fpolygon%3E%3Cpath%20d%3D%22M107%2C53.3h1.8c1.1%2C0%2C1.6-0.5%2C1.6-1.6c0-1.1-0.5-1.6-1.6-1.6H107V53.3z%20M107%2C57.9h-1v-8.7h3%20c1.6%2C0%2C2.5%2C0.9%2C2.5%2C2.5c0%2C1.3-0.6%2C2-1.2%2C2.3l1.3%2C3.9h-1.1l-1.2-3.6H107V57.9z%22%3E%3C%2Fpath%3E%3Cpath%20d%3D%22M114.9%2C55.6c0%2C1.1%2C0.7%2C1.5%2C1.8%2C1.5c1.1%2C0%2C1.8-0.4%2C1.8-1.5v-4.1c0-1.1-0.7-1.5-1.8-1.5%20c-1.1%2C0-1.8%2C0.4-1.8%2C1.5V55.6z%20M113.9%2C51.5c0-1.9%2C1-2.5%2C2.8-2.5c1.8%2C0%2C2.8%2C0.7%2C2.8%2C2.5v3.9c0%2C1.9-1%2C2.5-2.8%2C2.5%20c-1.8%2C0-2.8-0.7-2.8-2.5V51.5z%22%3E%3C%2Fpath%3E%3Crect%20y%3D%2223.7%22%20width%3D%2296.4%22%20height%3D%223.6%22%3E%3C%2Frect%3E%3Cpath%20d%3D%22M69.1%2C17.5V0h11.5v2.9h-8V7h7.3v2.9h-7.3v4.7H81v2.9H69.1z%20M85.3%2C17.5V0h11v2.9h-7.6V7h6.9v2.9h-6.9v7.6%20H85.3z%20M54.5%2C17.5H51V0h7.2C62.1%2C0%2C64%2C1.8%2C64%2C5.3c0%2C2.8-1.4%2C4.1-2.7%2C4.6l2.9%2C7.6h-3.8L58%2C10.5h-3.5V17.5z%20M54.5%2C7.7h2.9%20c2%2C0%2C3-0.6%2C3-2.5c0-1.9-1-2.5-3-2.5h-2.9V7.7z%20M39.9%2C2.9h-4.4V0h12.4v2.9h-4.4v14.6h-3.5V2.9z%20M18.8%2C17.5V0h4.1l5.8%2C11.7h0.2V0h3.4%20v17.5h-4L22.2%2C5.3h-0.2v12.2H18.8z%20M0.1%2C0h3.5v12.1c0%2C2%2C1%2C2.8%2C3%2C2.8c2%2C0%2C3-0.8%2C3-2.8V0h3.5v12.1c0%2C3.8-2.3%2C5.7-6.5%2C5.7%20c-4.2%2C0-6.5-1.9-6.5-5.7V0z%22%3E%3C%2Fpath%3E%3C%2Fg%3E%3C%2Fsvg%3E\" style=\"height: 50px;\" />\n",
    "</p>\n",
    "\n",
    "<h3 style=\"text-align: center\">Estructura de Datos</h3>\n",
    "\n",
    "<h2 style=\"text-align: center\">Guía 2: Introducción a Python</h3>"
   ]
  },
  {
   "cell_type": "markdown",
   "id": "28070546-ffda-4931-ae69-0b1bbfb39ad8",
   "metadata": {
    "editable": false,
    "id": "28070546-ffda-4931-ae69-0b1bbfb39ad8",
    "tags": []
   },
   "source": [
    "**Ej 1:** Escribir una función sumar que reciba una lista de elementos y devuelva la suma de sus elementos, para lo cual debe tratar de convertir cada elemento a un número. Si hay algún elemento que no lo puede convertir a número lo debe ignorar. Escribir los casos de prueba."
   ]
  },
  {
   "cell_type": "code",
   "execution_count": 5,
   "id": "6c7b5f54-5ce4-477a-b100-6e3dec55ae20",
   "metadata": {
    "editable": true,
    "id": "6c7b5f54-5ce4-477a-b100-6e3dec55ae20",
    "tags": []
   },
   "outputs": [],
   "source": [
    "def suma_lista(lista):\n",
    "\n",
    "    suma=0\n",
    "    for elemento in lista:\n",
    "        try:\n",
    "            suma+=int(float(elemento))\n",
    "        except ValueError:\n",
    "            continue\n",
    "\n",
    "    return suma\n",
    "        \n",
    "        \n",
    "        \n",
    "        "
   ]
  },
  {
   "cell_type": "code",
   "execution_count": 7,
   "id": "243cc9b3-1e75-44be-9d62-ae2a355d6b49",
   "metadata": {
    "editable": true,
    "id": "243cc9b3-1e75-44be-9d62-ae2a355d6b49",
    "tags": []
   },
   "outputs": [
    {
     "data": {
      "text/plain": [
       "5"
      ]
     },
     "execution_count": 7,
     "metadata": {},
     "output_type": "execute_result"
    }
   ],
   "source": [
    "suma_lista([\"1\",\"1.4\",\"hola\",3])"
   ]
  },
  {
   "cell_type": "markdown",
   "id": "8d3583ec-a3b5-4da4-ac28-4af0c312f4ab",
   "metadata": {
    "editable": false,
    "id": "8d3583ec-a3b5-4da4-ac28-4af0c312f4ab",
    "tags": []
   },
   "source": [
    "**Ej 2:** Dado el siguiente fragmento de código, escribir casos de prueba y justificar si `f1` y `f2` tienen o no el mismo comportamiento. ¿Cuál es la mejor forma de definir la función `f1` o `f2`? ¿Es buena idea atrapar todas las excepciones posibles?"
   ]
  },
  {
   "cell_type": "code",
   "execution_count": 1,
   "id": "a681987c-f227-4aef-9f77-425d28d246af",
   "metadata": {
    "editable": true,
    "id": "a681987c-f227-4aef-9f77-425d28d246af",
    "tags": []
   },
   "outputs": [
    {
     "name": "stdout",
     "output_type": "stream",
     "text": [
      "El cociente entre a y b es:  0.8571428571428571\n",
      "División por cero\n",
      "El cociente entre a y b es:  0.8571428571428571\n"
     ]
    },
    {
     "ename": "TypeError",
     "evalue": "unsupported operand type(s) for /: 'str' and 'str'",
     "output_type": "error",
     "traceback": [
      "\u001b[31m---------------------------------------------------------------------------\u001b[39m",
      "\u001b[31mTypeError\u001b[39m                                 Traceback (most recent call last)",
      "\u001b[36mCell\u001b[39m\u001b[36m \u001b[39m\u001b[32mIn[1]\u001b[39m\u001b[32m, line 23\u001b[39m\n\u001b[32m     21\u001b[39m \u001b[38;5;250m\u001b[39m\u001b[33;03m\"\"\"Escribir casos de pruebas para chequear si f1 y f2 se comportan iguales\"\"\"\u001b[39;00m\n\u001b[32m     22\u001b[39m f1(\u001b[32m6\u001b[39m, \u001b[32m7\u001b[39m)\n\u001b[32m---> \u001b[39m\u001b[32m23\u001b[39m \u001b[43mf2\u001b[49m\u001b[43m(\u001b[49m\u001b[32;43m6\u001b[39;49m\u001b[43m,\u001b[49m\u001b[43m \u001b[49m\u001b[32;43m7\u001b[39;49m\u001b[43m)\u001b[49m\n",
      "\u001b[36mCell\u001b[39m\u001b[36m \u001b[39m\u001b[32mIn[1]\u001b[39m\u001b[32m, line 17\u001b[39m, in \u001b[36mf2\u001b[39m\u001b[34m(a, b)\u001b[39m\n\u001b[32m     15\u001b[39m \u001b[38;5;28;01melse\u001b[39;00m:\n\u001b[32m     16\u001b[39m     \u001b[38;5;28mprint\u001b[39m(\u001b[33m\"\u001b[39m\u001b[33mEl cociente entre a y b es: \u001b[39m\u001b[33m\"\u001b[39m, c)\n\u001b[32m---> \u001b[39m\u001b[32m17\u001b[39m     \u001b[38;5;28mprint\u001b[39m(\u001b[33;43m\"\u001b[39;49m\u001b[33;43m1\u001b[39;49m\u001b[33;43m\"\u001b[39;49m\u001b[43m \u001b[49m\u001b[43m/\u001b[49m\u001b[43m \u001b[49m\u001b[33;43m\"\u001b[39;49m\u001b[33;43m2\u001b[39;49m\u001b[33;43m\"\u001b[39;49m)\n",
      "\u001b[31mTypeError\u001b[39m: unsupported operand type(s) for /: 'str' and 'str'"
     ]
    }
   ],
   "source": [
    "def f1(a, b):\n",
    "    try:\n",
    "        c = a / b\n",
    "        print(\"El cociente entre a y b es: \", c)\n",
    "        print(\"1\" / \"2\")\n",
    "    except:\n",
    "        print(\"División por cero\")\n",
    "\n",
    "\n",
    "def f2(a, b):\n",
    "    try:\n",
    "        c = a / b\n",
    "    except:\n",
    "        print(\"División por cero\")\n",
    "    else:\n",
    "        print(\"El cociente entre a y b es: \", c)\n",
    "        print(\"1\" / \"2\")\n",
    "\n",
    "\n",
    "if __name__ == \"__main__\":\n",
    "    \"\"\"Escribir casos de pruebas para chequear si f1 y f2 se comportan iguales\"\"\"\n",
    "    f1(6, 7)\n",
    "    f2(6, 7)"
   ]
  },
  {
   "cell_type": "code",
   "execution_count": null,
   "id": "4f7bd572-a51e-4961-9401-696407c68ebd",
   "metadata": {
    "editable": true,
    "id": "4f7bd572-a51e-4961-9401-696407c68ebd",
    "tags": []
   },
   "outputs": [],
   "source": [
    "# Casos de Prueba"
   ]
  },
  {
   "cell_type": "markdown",
   "id": "7515b230-b96a-447a-b69c-7adad18cdd28",
   "metadata": {
    "editable": false,
    "id": "7515b230-b96a-447a-b69c-7adad18cdd28",
    "tags": []
   },
   "source": [
    "**Ej 3:**  Crear una calculadora que permita al usuario realizar operaciones básicas (suma, resta, multiplicación y división) con dos números. Implementar un manejo de excepciones robusto para los siguientes casos:\n",
    "\n",
    "- **División por cero**: Muestra un mensaje de error amigable.\n",
    "- **Operaciones inválidas**: Si el usuario ingresa una operación no soportada.\n",
    "- **Valores no numéricos**: Si el usuario ingresa algo que no sea un número.\n",
    "\n",
    "Escribir los casos de pruebas"
   ]
  },
  {
   "cell_type": "code",
   "execution_count": 4,
   "id": "ca44109e-029d-4bf8-b1fc-cdbec0bb102a",
   "metadata": {
    "editable": true,
    "id": "ca44109e-029d-4bf8-b1fc-cdbec0bb102a",
    "tags": []
   },
   "outputs": [],
   "source": [
    "\n",
    "\n",
    "class Calculadora:\n",
    "    def __init__(self):\n",
    "        self.operaciones={\n",
    "            \"+\":self.add,\n",
    "            \"/\":self.truediv,\n",
    "            \"*\":self.mul,\n",
    "            \"-\":self.sub\n",
    "        }\n",
    "        \n",
    "    def usar(self,a,b,op):\n",
    "        try:\n",
    "            self.operaciones[op](a,b)\n",
    "        except ZeroDivisionError as e:\n",
    "            print(f\"Error: {e}\")\n",
    "        except TypeError as e:\n",
    "            print(f\"Error: {e}\")\n",
    "        except ValueError as e:\n",
    "            print(f\"Error: {e}\")\n",
    "            \n",
    "\n",
    "    "
   ]
  },
  {
   "cell_type": "code",
   "execution_count": 5,
   "id": "a3e97f81-1df7-4101-ab79-32f629998134",
   "metadata": {
    "editable": true,
    "id": "a3e97f81-1df7-4101-ab79-32f629998134",
    "tags": []
   },
   "outputs": [],
   "source": [
    "# Casos de Prueba"
   ]
  },
  {
   "cell_type": "markdown",
   "id": "637df139-4321-4f8f-ac14-9de1bf4e9b26",
   "metadata": {
    "editable": false,
    "id": "637df139-4321-4f8f-ac14-9de1bf4e9b26",
    "tags": []
   },
   "source": [
    "**Ej 4:** Crear un programa que copie el contenido de un archivo a otro. El programa debe solicitar al usuario los nombres de ambos archivos. Implementar el manejo de excepciones para los siguientes casos:\n",
    "\n",
    "- **Archivo de origen no encontrado**: Si el archivo original no existe.\n",
    "- **Errores de permisos**: Si el programa no tiene permisos para leer o escribir en los archivos.\n",
    "- **Otros errores de E/S**: Cualquier otro error que pueda ocurrir durante la operación de copia."
   ]
  },
  {
   "cell_type": "code",
   "execution_count": 7,
   "id": "7a36f67a-3258-48df-82b6-49353b159420",
   "metadata": {
    "editable": true,
    "id": "7a36f67a-3258-48df-82b6-49353b159420",
    "tags": []
   },
   "outputs": [],
   "source": [
    "def Copiar(original,copia):\n",
    "    try:\n",
    "        with open(original, \"r\") as archivo_original, open(copia,\"w\") as archivo_copia:\n",
    "            for linea in archivo_original:\n",
    "                archivo_copia.write(linea)\n",
    "    except FileNotFoundError as e:\n",
    "        print(f\"No se encontro el archivo: {original}\")\n",
    "    except PermissionError as e:\n",
    "        print(f\"Error de Permisos: {e}\")\n",
    "    except OSError as e:\n",
    "        print(f\"Error: {e}\")\n",
    "    except Exception as e:\n",
    "        print(f\"Error: {e}\")\n"
   ]
  },
  {
   "cell_type": "code",
   "execution_count": 11,
   "id": "f30d8184-2b9e-4c8a-a898-90c3045b633d",
   "metadata": {
    "editable": true,
    "id": "f30d8184-2b9e-4c8a-a898-90c3045b633d",
    "tags": []
   },
   "outputs": [],
   "source": [
    "# Casos de Prueba\n",
    "Copiar(\"original.txt\", \"destino.txt\")"
   ]
  },
  {
   "cell_type": "markdown",
   "id": "5b33b963-7c99-4797-bea2-f5e45d149e0d",
   "metadata": {
    "editable": false,
    "id": "5b33b963-7c99-4797-bea2-f5e45d149e0d",
    "tags": []
   },
   "source": [
    "**Ej 5:** Escribir un programa que cuente el número de palabras de un archivo de texto. El programa debe solicitar el nombre del archivo al usuario. Implementar el manejo de excepciones para los casos en los que el archivo no existe o si hay problemas al leer el archivo."
   ]
  },
  {
   "cell_type": "code",
   "execution_count": 26,
   "id": "68c14cb7-18be-412c-8531-88f1c0790efa",
   "metadata": {
    "editable": true,
    "id": "68c14cb7-18be-412c-8531-88f1c0790efa",
    "tags": []
   },
   "outputs": [],
   "source": [
    "def ContarPalabras(archivo):\n",
    "    contador=0\n",
    "    try:\n",
    "        with open(archivo,\"r\") as r_archivo:\n",
    "            return len(r_archivo.read().split())\n",
    "    except FileNotFoundError as e:\n",
    "        print(f\"No se encontro el archivo: {original}\")\n",
    "    except PermissionError as e:\n",
    "        print(f\"Error de Permisos: {e}\")\n",
    "    except OSError as e:\n",
    "        print(f\"Error: {e}\")\n",
    "    except Exception as e:\n",
    "        print(f\"Error: {e}\")  \n",
    "    \n",
    "            "
   ]
  },
  {
   "cell_type": "code",
   "execution_count": 31,
   "id": "2dbf5303-6891-4ed9-a85e-3580e7499f3b",
   "metadata": {
    "editable": true,
    "id": "2dbf5303-6891-4ed9-a85e-3580e7499f3b",
    "tags": []
   },
   "outputs": [],
   "source": [
    "# Casos de Prueba\n",
    "assert ContarPalabras(\"original.txt\")==3"
   ]
  },
  {
   "cell_type": "markdown",
   "id": "052d4acc-d606-4d31-b2ec-f77fceb85270",
   "metadata": {
    "editable": false,
    "id": "052d4acc-d606-4d31-b2ec-f77fceb85270",
    "tags": []
   },
   "source": [
    "**Ej 6:** Crear un programa que busque una palabra específica dentro de un archivo de texto (no debe distinguir entre mayúsculas y minúsculas). El programa debe solicitar al usuario el nombre del archivo y la palabra a buscar. Si la palabra se encuentra, debe indicar en qué línea aparece (si aparece en varias líneas debe indicar todas las líneas). Implementar el manejo de excepciones para los siguientes casos:\n",
    "\n",
    "- **Archivo no encontrado**: Si el archivo no existe.\n",
    "- **Errores de lectura**: Si ocurre algún problema al leer el archivo.\n",
    "- **Palabra no encontrada**: Si la palabra buscada no está en el archivo."
   ]
  },
  {
   "cell_type": "code",
   "execution_count": 37,
   "id": "f98fde7e-1139-475c-b169-9451d380198f",
   "metadata": {
    "editable": true,
    "id": "f98fde7e-1139-475c-b169-9451d380198f",
    "tags": []
   },
   "outputs": [],
   "source": [
    "def BuscarPalabra(archivo,palabra):\n",
    "    try:\n",
    "        with open(archivo,\"r\") as r_archivo:\n",
    "            contenido=r_archivo.read().lower()\n",
    "            posicion= contenido.find(palabra)\n",
    "            if posicion!=-1:\n",
    "                return posicion\n",
    "            else:\n",
    "                print(\"No se encontro la palabra\")\n",
    "    except TypeError:\n",
    "        print(\"Error: el valor a buscar no es una cadena\")\n",
    "    except FileNotFoundError as e:\n",
    "        print(f\"No se encontro el archivo: {original}\")\n",
    "    except PermissionError as e:\n",
    "        print(f\"Error de Permisos: {e}\")\n",
    "    except OSError as e:\n",
    "        print(f\"Error: {e}\")"
   ]
  },
  {
   "cell_type": "code",
   "execution_count": null,
   "id": "a2ff3b3b-8a8a-40fa-bd6b-d9af56f3ae26",
   "metadata": {
    "id": "a2ff3b3b-8a8a-40fa-bd6b-d9af56f3ae26",
    "tags": []
   },
   "outputs": [],
   "source": [
    "# Casos de Prueba"
   ]
  },
  {
   "cell_type": "markdown",
   "id": "e6d5b243-4481-41fb-8ce1-0a50a0bc671a",
   "metadata": {
    "editable": false,
    "id": "e6d5b243-4481-41fb-8ce1-0a50a0bc671a",
    "tags": []
   },
   "source": [
    "**Ej 7:**  Crear una clase que represente a una persona con atributos nombre, edad y una lista de hobbies. Crear un objeto de esta clase y serializarlo tanto con pickle como con dill. Deserializar los archivos resultantes y verificar que los objetos recuperados sean idénticos al original."
   ]
  },
  {
   "cell_type": "code",
   "execution_count": 52,
   "id": "dace7ea9-d779-49b1-802b-edc99aac3221",
   "metadata": {
    "editable": true,
    "id": "dace7ea9-d779-49b1-802b-edc99aac3221",
    "tags": []
   },
   "outputs": [],
   "source": [
    "import pickle\n",
    "\n",
    "class Persona:\n",
    "    def __init__(self,nombre,edad,hobbies=None):\n",
    "        self.nombre=nombre\n",
    "        self.edad=edad\n",
    "        self.hobbies=hobbies\n",
    "    def guardarPickle(self,archivo):\n",
    "        with open(archivo, \"wb\") as contenedor:\n",
    "            pickle.dump(self,contenedor)\n",
    "    def comparador(self,archivo):\n",
    "        try:\n",
    "            with open(archivo, \"rb\") as contenedor:\n",
    "                obj=pickle.load(contenedor)\n",
    "                return (self.nombre,self.edad, self.hobbies) == (obj.nombre, obj.edad, obj.hobbies)\n",
    "        except FileNotFoundError as e:\n",
    "            print(f\"No encontro archivo: {e}\")\n",
    "             \n",
    "if __name__ == \"__main__\":\n",
    "    nico= Persona(\"Nicolas\",\"28\",[\"leer\",\"andar en bici\"])\n",
    "    mati= Persona(\"Mati\",\"20\",[\"programar\",\"ver anime\"])\n",
    "    mica= Persona(\"Mica\",\"12\")\n",
    "    \n",
    "    nico.guardarPickle(\"persona1.p\")\n",
    "    mati.guardarPickle(\"persona2.p\")\n",
    "    mica.guardarPickle(\"persona3.p\")\n",
    "    \n",
    "    assert nico.comparador(\"persona1.p\")\n",
    "    assert mati.comparador(\"persona2.p\")\n",
    "    assert mica.comparador(\"persona3.p\")\n",
    "    \n",
    "        "
   ]
  },
  {
   "cell_type": "code",
   "execution_count": 50,
   "id": "bd81524d-2166-4e02-853f-2e733ee2b27c",
   "metadata": {
    "editable": true,
    "id": "bd81524d-2166-4e02-853f-2e733ee2b27c",
    "tags": []
   },
   "outputs": [],
   "source": [
    "# Casos de Prueba"
   ]
  },
  {
   "cell_type": "markdown",
   "id": "2959545d-536f-457d-aaaa-a45dd8bb4f5b",
   "metadata": {
    "editable": false,
    "id": "2959545d-536f-457d-aaaa-a45dd8bb4f5b",
    "tags": []
   },
   "source": [
    "**Ej 8:** Crear un diccionario que represente a un producto con atributos nombre, precio, descripción y una lista de características. Serializar este diccionario a un archivo JSON. Implementar un menu que permita cargar el diccionario desde memoria, guardar un diccionario y agregar características a un producto existente. Manejar cualquier excepción que pueda surgir."
   ]
  },
  {
   "cell_type": "code",
   "execution_count": 61,
   "id": "ed6fbab6-815f-4d97-b63a-b2bf011f3753",
   "metadata": {
    "editable": true,
    "id": "ed6fbab6-815f-4d97-b63a-b2bf011f3753",
    "tags": []
   },
   "outputs": [
    {
     "ename": "TypeError",
     "evalue": "Object of type Producto is not JSON serializable",
     "output_type": "error",
     "traceback": [
      "\u001b[31m---------------------------------------------------------------------------\u001b[39m",
      "\u001b[31mTypeError\u001b[39m                                 Traceback (most recent call last)",
      "\u001b[36mCell\u001b[39m\u001b[36m \u001b[39m\u001b[32mIn[61]\u001b[39m\u001b[32m, line 15\u001b[39m\n\u001b[32m     12\u001b[39m diccionario={\u001b[33m\"\u001b[39m\u001b[33mcoca\u001b[39m\u001b[33m\"\u001b[39m:Producto(\u001b[33m\"\u001b[39m\u001b[33mcoca\u001b[39m\u001b[33m\"\u001b[39m,\u001b[33m\"\u001b[39m\u001b[33m10\u001b[39m\u001b[33m\"\u001b[39m,\u001b[33m\"\u001b[39m\u001b[33mbebida\u001b[39m\u001b[33m\"\u001b[39m),\u001b[33m\"\u001b[39m\u001b[33mpapas\u001b[39m\u001b[33m\"\u001b[39m:Producto(\u001b[33m\"\u001b[39m\u001b[33mpapas\u001b[39m\u001b[33m\"\u001b[39m,\u001b[33m\"\u001b[39m\u001b[33m30\u001b[39m\u001b[33m\"\u001b[39m,\u001b[33m\"\u001b[39m\u001b[33mcomida\u001b[39m\u001b[33m\"\u001b[39m)}\n\u001b[32m     14\u001b[39m \u001b[38;5;28;01mwith\u001b[39;00m \u001b[38;5;28mopen\u001b[39m(\u001b[33m\"\u001b[39m\u001b[33mprueba.json\u001b[39m\u001b[33m\"\u001b[39m,\u001b[33m\"\u001b[39m\u001b[33mw\u001b[39m\u001b[33m\"\u001b[39m) \u001b[38;5;28;01mas\u001b[39;00m contain:\n\u001b[32m---> \u001b[39m\u001b[32m15\u001b[39m     \u001b[43mjson\u001b[49m\u001b[43m.\u001b[49m\u001b[43mdump\u001b[49m\u001b[43m(\u001b[49m\u001b[43mdiccionario\u001b[49m\u001b[43m,\u001b[49m\u001b[43m \u001b[49m\u001b[43mcontain\u001b[49m\u001b[43m)\u001b[49m\n",
      "\u001b[36mFile \u001b[39m\u001b[32m~\\AppData\\Local\\Programs\\Python\\Python313\\Lib\\json\\__init__.py:179\u001b[39m, in \u001b[36mdump\u001b[39m\u001b[34m(obj, fp, skipkeys, ensure_ascii, check_circular, allow_nan, cls, indent, separators, default, sort_keys, **kw)\u001b[39m\n\u001b[32m    173\u001b[39m     iterable = \u001b[38;5;28mcls\u001b[39m(skipkeys=skipkeys, ensure_ascii=ensure_ascii,\n\u001b[32m    174\u001b[39m         check_circular=check_circular, allow_nan=allow_nan, indent=indent,\n\u001b[32m    175\u001b[39m         separators=separators,\n\u001b[32m    176\u001b[39m         default=default, sort_keys=sort_keys, **kw).iterencode(obj)\n\u001b[32m    177\u001b[39m \u001b[38;5;66;03m# could accelerate with writelines in some versions of Python, at\u001b[39;00m\n\u001b[32m    178\u001b[39m \u001b[38;5;66;03m# a debuggability cost\u001b[39;00m\n\u001b[32m--> \u001b[39m\u001b[32m179\u001b[39m \u001b[43m\u001b[49m\u001b[38;5;28;43;01mfor\u001b[39;49;00m\u001b[43m \u001b[49m\u001b[43mchunk\u001b[49m\u001b[43m \u001b[49m\u001b[38;5;129;43;01min\u001b[39;49;00m\u001b[43m \u001b[49m\u001b[43miterable\u001b[49m\u001b[43m:\u001b[49m\n\u001b[32m    180\u001b[39m \u001b[43m    \u001b[49m\u001b[43mfp\u001b[49m\u001b[43m.\u001b[49m\u001b[43mwrite\u001b[49m\u001b[43m(\u001b[49m\u001b[43mchunk\u001b[49m\u001b[43m)\u001b[49m\n",
      "\u001b[36mFile \u001b[39m\u001b[32m~\\AppData\\Local\\Programs\\Python\\Python313\\Lib\\json\\encoder.py:433\u001b[39m, in \u001b[36m_make_iterencode.<locals>._iterencode\u001b[39m\u001b[34m(o, _current_indent_level)\u001b[39m\n\u001b[32m    431\u001b[39m     \u001b[38;5;28;01myield from\u001b[39;00m _iterencode_list(o, _current_indent_level)\n\u001b[32m    432\u001b[39m \u001b[38;5;28;01melif\u001b[39;00m \u001b[38;5;28misinstance\u001b[39m(o, \u001b[38;5;28mdict\u001b[39m):\n\u001b[32m--> \u001b[39m\u001b[32m433\u001b[39m     \u001b[38;5;28;01myield from\u001b[39;00m _iterencode_dict(o, _current_indent_level)\n\u001b[32m    434\u001b[39m \u001b[38;5;28;01melse\u001b[39;00m:\n\u001b[32m    435\u001b[39m     \u001b[38;5;28;01mif\u001b[39;00m markers \u001b[38;5;129;01mis\u001b[39;00m \u001b[38;5;129;01mnot\u001b[39;00m \u001b[38;5;28;01mNone\u001b[39;00m:\n",
      "\u001b[36mFile \u001b[39m\u001b[32m~\\AppData\\Local\\Programs\\Python\\Python313\\Lib\\json\\encoder.py:407\u001b[39m, in \u001b[36m_make_iterencode.<locals>._iterencode_dict\u001b[39m\u001b[34m(dct, _current_indent_level)\u001b[39m\n\u001b[32m    405\u001b[39m         \u001b[38;5;28;01melse\u001b[39;00m:\n\u001b[32m    406\u001b[39m             chunks = _iterencode(value, _current_indent_level)\n\u001b[32m--> \u001b[39m\u001b[32m407\u001b[39m         \u001b[38;5;28;01myield from\u001b[39;00m chunks\n\u001b[32m    408\u001b[39m \u001b[38;5;28;01mif\u001b[39;00m \u001b[38;5;129;01mnot\u001b[39;00m first \u001b[38;5;129;01mand\u001b[39;00m newline_indent \u001b[38;5;129;01mis\u001b[39;00m \u001b[38;5;129;01mnot\u001b[39;00m \u001b[38;5;28;01mNone\u001b[39;00m:\n\u001b[32m    409\u001b[39m     _current_indent_level -= \u001b[32m1\u001b[39m\n",
      "\u001b[36mFile \u001b[39m\u001b[32m~\\AppData\\Local\\Programs\\Python\\Python313\\Lib\\json\\encoder.py:440\u001b[39m, in \u001b[36m_make_iterencode.<locals>._iterencode\u001b[39m\u001b[34m(o, _current_indent_level)\u001b[39m\n\u001b[32m    438\u001b[39m         \u001b[38;5;28;01mraise\u001b[39;00m \u001b[38;5;167;01mValueError\u001b[39;00m(\u001b[33m\"\u001b[39m\u001b[33mCircular reference detected\u001b[39m\u001b[33m\"\u001b[39m)\n\u001b[32m    439\u001b[39m     markers[markerid] = o\n\u001b[32m--> \u001b[39m\u001b[32m440\u001b[39m o = \u001b[43m_default\u001b[49m\u001b[43m(\u001b[49m\u001b[43mo\u001b[49m\u001b[43m)\u001b[49m\n\u001b[32m    441\u001b[39m \u001b[38;5;28;01myield from\u001b[39;00m _iterencode(o, _current_indent_level)\n\u001b[32m    442\u001b[39m \u001b[38;5;28;01mif\u001b[39;00m markers \u001b[38;5;129;01mis\u001b[39;00m \u001b[38;5;129;01mnot\u001b[39;00m \u001b[38;5;28;01mNone\u001b[39;00m:\n",
      "\u001b[36mFile \u001b[39m\u001b[32m~\\AppData\\Local\\Programs\\Python\\Python313\\Lib\\json\\encoder.py:180\u001b[39m, in \u001b[36mJSONEncoder.default\u001b[39m\u001b[34m(self, o)\u001b[39m\n\u001b[32m    161\u001b[39m \u001b[38;5;28;01mdef\u001b[39;00m\u001b[38;5;250m \u001b[39m\u001b[34mdefault\u001b[39m(\u001b[38;5;28mself\u001b[39m, o):\n\u001b[32m    162\u001b[39m \u001b[38;5;250m    \u001b[39m\u001b[33;03m\"\"\"Implement this method in a subclass such that it returns\u001b[39;00m\n\u001b[32m    163\u001b[39m \u001b[33;03m    a serializable object for ``o``, or calls the base implementation\u001b[39;00m\n\u001b[32m    164\u001b[39m \u001b[33;03m    (to raise a ``TypeError``).\u001b[39;00m\n\u001b[32m   (...)\u001b[39m\u001b[32m    178\u001b[39m \n\u001b[32m    179\u001b[39m \u001b[33;03m    \"\"\"\u001b[39;00m\n\u001b[32m--> \u001b[39m\u001b[32m180\u001b[39m     \u001b[38;5;28;01mraise\u001b[39;00m \u001b[38;5;167;01mTypeError\u001b[39;00m(\u001b[33mf\u001b[39m\u001b[33m'\u001b[39m\u001b[33mObject of type \u001b[39m\u001b[38;5;132;01m{\u001b[39;00mo.\u001b[34m__class__\u001b[39m.\u001b[34m__name__\u001b[39m\u001b[38;5;132;01m}\u001b[39;00m\u001b[33m \u001b[39m\u001b[33m'\u001b[39m\n\u001b[32m    181\u001b[39m                     \u001b[33mf\u001b[39m\u001b[33m'\u001b[39m\u001b[33mis not JSON serializable\u001b[39m\u001b[33m'\u001b[39m)\n",
      "\u001b[31mTypeError\u001b[39m: Object of type Producto is not JSON serializable"
     ]
    }
   ],
   "source": [
    "import json\n",
    "\n",
    "class Producto:\n",
    "    def __init__(self,nombre,precio,descripcion):\n",
    "        self.nombre=nombre\n",
    "        self.precio=precio\n",
    "        self.descripcion=descripcion\n",
    "    def __str__(self):\n",
    "        return f\"nombre:{self.nombre} - precio:{self.precio} - descripcion:{self.descripcion}\"\n",
    "    def conv_lista(self):\n",
    "        return {\"nombre\":self.nombre,\"precio\":self.precio,\"descripcion\":self.descripcion}\n",
    "        \n",
    "producto1,producto2=Producto(\"coca\",\"10\",\"bebida\"),Producto(\"papas\",\"30\",\"comida\")}\n",
    "diccionario={producto1.nombre,\n",
    "with open(\"prueba.json\",\"w\") as contain:\n",
    "    json.dump(diccionario, contain)\n"
   ]
  },
  {
   "cell_type": "code",
   "execution_count": null,
   "id": "9d3d4a03-cad4-4ce5-9849-1c3e53f6c43a",
   "metadata": {
    "id": "9d3d4a03-cad4-4ce5-9849-1c3e53f6c43a",
    "tags": []
   },
   "outputs": [],
   "source": [
    "# Casos de Prueba"
   ]
  },
  {
   "cell_type": "markdown",
   "id": "26b644b4-e884-4a11-bc95-07f93649ce7c",
   "metadata": {
    "editable": false,
    "id": "26b644b4-e884-4a11-bc95-07f93649ce7c",
    "tags": []
   },
   "source": [
    "**Ej 9:** Crear una base de datos simple utilizando shelve para almacenar información de contactos. Cada contacto debe tener un nombre, un número de teléfono y una dirección de correo electrónico. Implementar funciones para agregar nuevos contactos, buscar contactos por nombre y eliminar contactos. Manejar cualquier excepción que pueda ocurrir. Los contactos se indexan por el nombre."
   ]
  },
  {
   "cell_type": "code",
   "execution_count": null,
   "id": "d41a7adf-017a-4174-a646-60638e015c6e",
   "metadata": {
    "editable": true,
    "id": "d41a7adf-017a-4174-a646-60638e015c6e",
    "tags": []
   },
   "outputs": [],
   "source": []
  },
  {
   "cell_type": "code",
   "execution_count": null,
   "id": "90fb5a84-90cb-4d1d-a841-ce163e59f6a3",
   "metadata": {
    "editable": true,
    "id": "90fb5a84-90cb-4d1d-a841-ce163e59f6a3",
    "tags": []
   },
   "outputs": [],
   "source": [
    "# Casos de Prueba"
   ]
  },
  {
   "cell_type": "markdown",
   "id": "1188981b-d1e9-4002-b49b-95616b4ec8ea",
   "metadata": {
    "editable": false,
    "id": "1188981b-d1e9-4002-b49b-95616b4ec8ea",
    "tags": []
   },
   "source": [
    "**Ej 10:** Crear una base de datos utilizando dbm para almacenar pares clave-valor. Las claves serán cadenas de texto y los valores serán números enteros. Implementar funciones para agregar nuevos pares, buscar valores por clave y eliminar pares. Investigar y comparar el rendimiento de dbm con shelve para almacenar grandes cantidades de datos."
   ]
  },
  {
   "cell_type": "code",
   "execution_count": null,
   "id": "ac46be21-2445-4f10-a388-243ee18f3fca",
   "metadata": {
    "editable": true,
    "id": "ac46be21-2445-4f10-a388-243ee18f3fca",
    "tags": []
   },
   "outputs": [],
   "source": []
  },
  {
   "cell_type": "code",
   "execution_count": null,
   "id": "e820f383-e7c2-4919-b089-cc97ca26fdaf",
   "metadata": {
    "editable": true,
    "id": "e820f383-e7c2-4919-b089-cc97ca26fdaf",
    "tags": []
   },
   "outputs": [],
   "source": [
    "# Casos de Prueba"
   ]
  },
  {
   "cell_type": "markdown",
   "id": "3ac2fb42-a959-47a4-9a77-2d501d41e4c1",
   "metadata": {
    "editable": false,
    "id": "3ac2fb42-a959-47a4-9a77-2d501d41e4c1",
    "tags": []
   },
   "source": [
    "##### Comparación entre Shelve y dbm"
   ]
  },
  {
   "cell_type": "markdown",
   "id": "4b2d756c-cef9-4039-8222-e968269fb4f2",
   "metadata": {
    "editable": true,
    "id": "4b2d756c-cef9-4039-8222-e968269fb4f2",
    "tags": []
   },
   "source": []
  }
 ],
 "metadata": {
  "colab": {
   "collapsed_sections": [
    "3ac2fb42-a959-47a4-9a77-2d501d41e4c1"
   ],
   "provenance": []
  },
  "kernelspec": {
   "display_name": "Python 3 (ipykernel)",
   "language": "python",
   "name": "python3"
  },
  "language_info": {
   "codemirror_mode": {
    "name": "ipython",
    "version": 3
   },
   "file_extension": ".py",
   "mimetype": "text/x-python",
   "name": "python",
   "nbconvert_exporter": "python",
   "pygments_lexer": "ipython3",
   "version": "3.13.7"
  },
  "rise": {
   "start_slideshow_at": "beginning"
  }
 },
 "nbformat": 4,
 "nbformat_minor": 5
}
