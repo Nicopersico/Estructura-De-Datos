{
 "cells": [
  {
   "cell_type": "markdown",
   "id": "d6d22675",
   "metadata": {
    "editable": true,
    "slideshow": {
     "slide_type": ""
    },
    "tags": []
   },
   "source": [
    "<p style=\"text-align: center\">\n",
    "    <img src=\"data:image/svg+xml,%3Csvg%20version%3D%221.2%22%20baseProfile%3D%22tiny%22%20xmlns%3D%22http%3A%2F%2Fwww.w3.org%2F2000%2Fsvg%22%20viewBox%3D%220%200%20136.5%2058%22%20height%3D%2250%22%20overflow%3D%22visible%22%20xml%3Aspace%3D%22preserve%22%3E%3Cg%20fill%3D%22%23141819%22%3E%3Cpath%20d%3D%22M0%2033.4h1v6.3c0%201.1.5%201.7%201.7%201.7s1.7-.5%201.7-1.7v-6.3h1v6.3c0%201.8-1%202.5-2.7%202.5-1.7.1-2.7-.7-2.7-2.5v-6.3zM8.1%2042.2v-8.8h1.3l3.2%207h.1v-7h1v8.8h-1.3l-3.3-7.3H9v7.3zM16.5%2033.4h1v8.7h-1zM24.4%2033.4h1l-2.3%208.8h-1.4l-2.3-8.8h1.1l1.9%207.5h.1zM27.4%2042.2v-8.8h4.7v.9h-3.7v2.9h3.2v.9h-3.2v3.2h3.9v.9zM35.3%2037.6h1.8c1.1%200%201.6-.5%201.6-1.6s-.5-1.6-1.6-1.6h-1.8v3.2zm0%204.6h-1v-8.7h3c1.6%200%202.5.9%202.5%202.5%200%201.3-.6%202-1.2%202.3l1.3%203.9h-1.1l-1.2-3.6h-2.3v3.6zM46.7%2035.6c-.1-1-.6-1.4-1.7-1.4-1%200-1.7.4-1.7%201.4%200%201%20.8%201.2%201.9%201.6%201.4.4%202.7.9%202.7%202.6%200%201.7-1.1%202.5-2.8%202.5-1.8%200-2.8-.8-2.9-2.5l1-.1c.1%201.2.7%201.7%201.9%201.7%201.1%200%201.8-.5%201.8-1.5s-.6-1.3-1.9-1.7c-1.4-.4-2.6-.8-2.6-2.5s1.1-2.4%202.8-2.4c1.6%200%202.6.6%202.8%202.2l-1.3.1zM50.2%2033.4h1v8.7h-1zM55%2041.3h1.9c1%200%201.7-.5%201.7-1.5v-4c0-1-.6-1.5-1.7-1.5H55v7zm-1-7.9h2.8c1.8%200%202.8.7%202.8%202.5v3.7c0%201.8-1%202.5-2.8%202.5H54v-8.7zM63.2%2039.1H66l-1.3-4.6h-.1l-1.4%204.6zm-.8%203.1h-1.1l2.6-8.7h1.5l2.6%208.7h-1.1l-.6-2.2H63l-.6%202.2zM70.9%2041.3h1.9c1%200%201.7-.5%201.7-1.5v-4c0-1-.6-1.5-1.7-1.5h-1.9v7zm-1.1-7.9h2.8c1.8%200%202.8.7%202.8%202.5v3.7c0%201.8-1%202.5-2.8%202.5h-2.8v-8.7zM81.3%2042.2v-8.8h1.3l3.2%207h.1v-7h1v8.8h-1.3l-3.3-7.3h-.1v7.3zM90.7%2039.1h2.8l-1.3-4.6H92l-1.3%204.6zm-.9%203.1h-1.1l2.6-8.7h1.5l2.6%208.7h-1.1l-.6-2.2h-3.3l-.6%202.2zM101.2%2036.1v-.4c0-1.1-.5-1.5-1.7-1.5-1.1%200-1.8.4-1.8%201.5v4.1c0%201.1.6%201.5%201.8%201.5%201.1%200%201.7-.5%201.7-1.5v-.4l1%20.1v.1c0%201.8-.9%202.6-2.7%202.6-1.8%200-2.8-.7-2.8-2.5v-4c0-1.8%201-2.5%202.8-2.5%201.8%200%202.7.7%202.7%202.6v.2l-1%20.1zM104.7%2033.4h1v8.7h-1zM109.3%2039.9c0%201.1.7%201.5%201.8%201.5s1.8-.4%201.8-1.5v-4.1c0-1.1-.7-1.5-1.8-1.5s-1.8.4-1.8%201.5v4.1zm-1-4.1c0-1.9%201-2.5%202.8-2.5%201.8%200%202.8.7%202.8%202.5v3.9c0%201.9-1%202.5-2.8%202.5-1.8%200-2.8-.7-2.8-2.5v-3.9zM116.5%2042.2v-8.8h1.3l3.2%207h.1v-7h.9v8.8h-1.2l-3.3-7.3h-.1v7.3zM125.9%2039.1h2.8l-1.3-4.6h-.1l-1.4%204.6zm-.9%203.1h-1.1l2.6-8.7h1.5l2.6%208.7h-1.1l-.6-2.1h-3.3l-.6%202.1zM132.5%2042.2v-8.8h1v7.9h3v.9zM1.2%2057h1.9c1%200%201.7-.5%201.7-1.5v-4c0-1-.6-1.5-1.7-1.5H1.2v7zM.1%2049.1H3c1.8%200%202.8.7%202.8%202.5v3.7c0%201.8-1%202.5-2.8%202.5H.1v-8.7zM8.3%2057.9v-8.8H13v.9H9.3v2.9h3.3v.9H9.3V57h3.9v.9zM19.7%2050.1h-2.1v-1h5.1v1h-2v7.8h-1zM25.6%2053.3h1.8c1.1%200%201.6-.5%201.6-1.6s-.5-1.6-1.6-1.6h-1.8v3.2zm0%204.6h-1v-8.7h3c1.6%200%202.5.9%202.5%202.5%200%201.3-.6%202-1.2%202.3l1.3%203.9h-1.1l-1.2-3.6h-2.3v3.6zM32.8%2057.9v-8.8h4.7v.9h-3.7v2.9H37v.9h-3.2V57h3.9v.9zM44%2051.3c-.1-1-.6-1.4-1.7-1.4-1%200-1.7.4-1.7%201.4%200%201%20.8%201.2%201.9%201.6%201.4.4%202.7.9%202.7%202.6%200%201.7-1.1%202.5-2.8%202.5-1.8%200-2.8-.8-2.9-2.5l1-.1c.1%201.2.7%201.7%201.9%201.7%201.1%200%201.8-.5%201.8-1.5s-.6-1.3-1.9-1.7c-1.4-.4-2.6-.8-2.6-2.5s1.1-2.4%202.8-2.4c1.6%200%202.6.6%202.8%202.2l-1.3.1zM51.8%2057h1.9c1.1%200%201.7-.5%201.7-1.5v-4c0-1-.6-1.5-1.7-1.5h-1.9v7zm-1-7.9h2.8c1.8%200%202.8.7%202.8%202.5v3.7c0%201.8-1%202.5-2.8%202.5h-2.8v-8.7zM58.9%2057.9v-8.8h4.7v.9h-3.7v2.9h3.3v.9h-3.3V57h3.9v.9zM69.2%2057.9v-8.8h4.4v.9h-3.4v2.9h3v.9h-3v4.1zM75.6%2057.9v-8.8h4.7v.9h-3.7v2.9h3.2v.9h-3.2V57h3.9v.9zM83.5%2057h2.1c1.1%200%201.7-.6%201.7-1.6%200-1.1-.6-1.6-1.7-1.6h-2V57zm0-4.1h2c1%200%201.5-.5%201.5-1.4%200-1-.5-1.4-1.5-1.4h-2v2.8zm-1-3.8h3.3c1.6%200%202.3.7%202.3%202.2%200%201-.3%201.6-1%201.9v.1c.6.2%201.2.9%201.2%202.1%200%201.5-.7%202.4-2.4%202.4h-3.4v-8.7zM91.9%2053.3h1.8c1.1%200%201.6-.5%201.6-1.6s-.5-1.6-1.6-1.6h-1.8v3.2zm0%204.6h-1v-8.7h3c1.6%200%202.5.9%202.5%202.5%200%201.3-.6%202-1.2%202.3l1.3%203.9h-1.1l-1.2-3.6h-2.3v3.6zM99%2057.9v-8.8h4.7v.9H100v2.9h3.3v.9H100V57h3.9v.9zM107%2053.3h1.8c1.1%200%201.6-.5%201.6-1.6s-.5-1.6-1.6-1.6H107v3.2zm0%204.6h-1v-8.7h3c1.6%200%202.5.9%202.5%202.5%200%201.3-.6%202-1.2%202.3l1.3%203.9h-1.1l-1.2-3.6H107v3.6zM114.9%2055.6c0%201.1.7%201.5%201.8%201.5s1.8-.4%201.8-1.5v-4.1c0-1.1-.7-1.5-1.8-1.5s-1.8.4-1.8%201.5v4.1zm-1-4.1c0-1.9%201-2.5%202.8-2.5%201.8%200%202.8.7%202.8%202.5v3.9c0%201.9-1%202.5-2.8%202.5-1.8%200-2.8-.7-2.8-2.5v-3.9zM0%2023.7h96.4v3.6H0zM69.1%2017.5V0h11.5v2.9h-8V7h7.3v2.9h-7.3v4.7H81v2.9H69.1zm16.2%200V0h11v2.9h-7.6V7h6.9v2.9h-6.9v7.6h-3.4zm-30.8%200H51V0h7.2C62.1%200%2064%201.8%2064%205.3c0%202.8-1.4%204.1-2.7%204.6l2.9%207.6h-3.8l-2.4-7h-3.5v7zm0-9.8h2.9c2%200%203-.6%203-2.5s-1-2.5-3-2.5h-2.9v5zM39.9%202.9h-4.4V0h12.4v2.9h-4.4v14.6H40V2.9zM18.8%2017.5V0h4.1l5.8%2011.7h.2V0h3.4v17.5h-4L22.2%205.3H22v12.2h-3.2zM.1%200h3.5v12.1c0%202%201%202.8%203%202.8s3-.8%203-2.8V0h3.5v12.1c0%203.8-2.3%205.7-6.5%205.7S.1%2015.9.1%2012.1V0z%22%2F%3E%3C%2Fg%3E%3C%2Fsvg%3E\" />\n",
    "</p>\n",
    "\n",
    "<h2 style=\"text-align: center\">Estructura de Datos</h2>\n",
    "<h3 style=\"text-align: center\">APIs Web</h3>\n",
    "<h3 style=\"text-align: center\">Guía de Ejercicios</h3>"
   ]
  },
  {
   "cell_type": "markdown",
   "id": "ea37c6b2",
   "metadata": {},
   "source": [
    "#### Ejercicio 1:\n",
    "\n",
    "Usando la API de [JSONPlaceholder](https://jsonplaceholder.typicode.com/), realiza una solicitud GET para obtener una lista de usuarios y muestra sus nombres y correos electrónicos en la consola.\n",
    "\n",
    "La documentación de la API está disponible en: [https://jsonplaceholder.typicode.com/guide/](https://jsonplaceholder.typicode.com/guide/)"
   ]
  },
  {
   "cell_type": "code",
   "execution_count": null,
   "id": "7ecb2f06",
   "metadata": {},
   "outputs": [],
   "source": [
    "# Resolución Ejercicio 1\n",
    "\n",
    "import requests\n",
    "\n",
    "\n",
    "def obtener_nombres_correos_usuarios():\n",
    "    \"\"\"\n",
    "    Realiza una solicitud GET a la API de JSONPlaceholder para obtener una lista de usuarios.\n",
    "    Devuelve una lista de tuplas con el nombre y correo electrónico de cada usuario.\n",
    "    Si ocurre un error en la solicitud, devuelve una lista vacía.\n",
    "    \"\"\"\n",
    "    respuesta=requests.get('https://jsonplaceholder.typicode.com/users')\n",
    "    "
   ]
  },
  {
   "cell_type": "code",
   "execution_count": null,
   "id": "ecccebf9",
   "metadata": {
    "editable": true,
    "slideshow": {
     "slide_type": ""
    },
    "tags": []
   },
   "outputs": [],
   "source": [
    "# Ejemplo de uso\n",
    "\n",
    "nombres_correos = obtener_nombres_correos_usuarios()\n",
    "\n",
    "for nombre, correo in nombres_correos:\n",
    "    print(f\"Nombre: {nombre}, Correo: {correo}\")"
   ]
  },
  {
   "cell_type": "markdown",
   "id": "26cc50e3",
   "metadata": {},
   "source": [
    "#### Ejercicio 2:\n",
    "\n",
    "Escribir una función que consulte la [PokeAPI](https://pokeapi.co/) y devuelva la cadena de evolución completa de un Pokémon específico.\n",
    "\n",
    "Por ejemplo, si el Pokémon es charmander, la función debería devolver `['charmander', 'charmeleon', 'charizard']`.\n",
    "\n",
    "***Pista:*** La PokeAPI tiene un endpoint específico para las cadenas de evolución. Ver [Evolution Chain](https://pokeapi.co/docs/v2#evolution-section).\n"
   ]
  },
  {
   "cell_type": "code",
   "execution_count": 21,
   "id": "f5d89eb9",
   "metadata": {},
   "outputs": [],
   "source": [
    "import requests\n",
    "\n",
    "\n",
    "def obtener_cadena_evolución(nombre_pokemon):\n",
    "    \"\"\"\n",
    "    Obtiene y devuelve la cadena de evolución completa de un Pokémon.\n",
    "\n",
    "    Argumentos:\n",
    "        nombre_pokemon (str): El nombre del Pokémon a buscar.\n",
    "\n",
    "    Retorna :\n",
    "              Una lista de strings con los nombres de los Pokémon en la cadena de evolución.\n",
    "              Devuelve una lista vacía si el Pokémon no se encuentra o no tiene evolución.\n",
    "    \"\"\"\n",
    "    respuesta= requests.get(f'https://pokeapi.co/api/v2/pokemon-species/{nombre_pokemon}/')\n",
    "    lista=[]\n",
    "    \n",
    "    if respuesta.status_code!=200:\n",
    "        return lista\n",
    "    url=respuesta.json()[\"evolution_chain\"][\"url\"]\n",
    "    \n",
    "    respuesta= requests.get(url)\n",
    "\n",
    "    if respuesta.status_code!=200:\n",
    "        return lista\n",
    "\n",
    "    cola=[respuesta.json()[\"chain\"]]\n",
    "    \n",
    "    while cola:\n",
    "\n",
    "        chain_link = cola[0]\n",
    "        cola=cola[1:]\n",
    "\n",
    "        lista.append(chain_link[\"species\"][\"name\"])\n",
    "        \n",
    "        cola+=chain_link[\"evolves_to\"]\n",
    "\n",
    "    \n",
    "    return lista"
   ]
  },
  {
   "cell_type": "code",
   "execution_count": 27,
   "id": "a0dc6daf",
   "metadata": {},
   "outputs": [
    {
     "name": "stdout",
     "output_type": "stream",
     "text": [
      "Cadena de evolución: eevee -> vaporeon -> jolteon -> flareon -> espeon -> umbreon -> leafeon -> glaceon -> sylveon\n"
     ]
    }
   ],
   "source": [
    "# Ejemplo de uso:\n",
    "cadena = obtener_cadena_evolución(\"eevee\")\n",
    "\n",
    "print(\"Cadena de evolución:\", \" -> \".join(cadena) if cadena else \"Pokémon no encontrado\")"
   ]
  },
  {
   "cell_type": "code",
   "execution_count": 26,
   "id": "a13da4e8",
   "metadata": {},
   "outputs": [
    {
     "name": "stderr",
     "output_type": "stream",
     "text": [
      "test_cadena_bulbasaur (__main__.TestCadenaEvolucion.test_cadena_bulbasaur) ... ok\n",
      "test_cadena_charmander (__main__.TestCadenaEvolucion.test_cadena_charmander) ... ok\n",
      "test_cadena_pikachu (__main__.TestCadenaEvolucion.test_cadena_pikachu) ... ok\n",
      "test_cadena_sceptile (__main__.TestCadenaEvolucion.test_cadena_sceptile) ... ok\n",
      "test_pokemon_inexistente (__main__.TestCadenaEvolucion.test_pokemon_inexistente) ... ok\n",
      "test_pokemon_mayusculas (__main__.TestCadenaEvolucion.test_pokemon_mayusculas) ... ok\n",
      "test_pokemon_sin_evolucion (__main__.TestCadenaEvolucion.test_pokemon_sin_evolucion) ... ok\n",
      "\n",
      "----------------------------------------------------------------------\n",
      "Ran 7 tests in 11.126s\n",
      "\n",
      "OK\n"
     ]
    },
    {
     "data": {
      "text/plain": [
       "True"
      ]
     },
     "execution_count": 26,
     "metadata": {},
     "output_type": "execute_result"
    }
   ],
   "source": [
    "from unittest import TestCase, main\n",
    "\n",
    "\n",
    "class TestCadenaEvolucion(TestCase):\n",
    "    def test_cadena_charmander(self):\n",
    "        self.assertEqual(obtener_cadena_evolución(\"charmander\"), [\"charmander\", \"charmeleon\", \"charizard\"])\n",
    "\n",
    "    def test_cadena_bulbasaur(self):\n",
    "        self.assertEqual(obtener_cadena_evolución(\"bulbasaur\"), [\"bulbasaur\", \"ivysaur\", \"venusaur\"])\n",
    "\n",
    "    def test_cadena_pikachu(self):\n",
    "        self.assertEqual(obtener_cadena_evolución(\"pikachu\"), [\"pichu\", \"pikachu\", \"raichu\"])\n",
    "\n",
    "    def test_cadena_sceptile(self):\n",
    "        self.assertEqual(obtener_cadena_evolución(\"sceptile\"), [\"treecko\", \"grovyle\", \"sceptile\"])\n",
    "\n",
    "    def test_pokemon_sin_evolucion(self):\n",
    "        self.assertEqual(obtener_cadena_evolución(\"ditto\"), [\"ditto\"])\n",
    "\n",
    "    def test_pokemon_mayusculas(self):\n",
    "        self.assertEqual(obtener_cadena_evolución(\"BARBARACLE\"), [\"binacle\", \"barbaracle\"])\n",
    "\n",
    "    def test_pokemon_inexistente(self):\n",
    "        self.assertEqual(obtener_cadena_evolución(\"noexiste\"), [])\n",
    "\n",
    "\n",
    "test = main(argv=[\"\"], defaultTest=\"TestCadenaEvolucion\", verbosity=2, exit=False)\n",
    "len(test.result.failures) == 0"
   ]
  },
  {
   "cell_type": "markdown",
   "id": "39c4c82f",
   "metadata": {},
   "source": [
    "#### Ejercicio 3:\n",
    "\n",
    "Crear una **Pokedex** que permita buscar un pokemon por nombre o ID y devuelva un diccionario con el id, nombre, descripción de la pokedex, habilidades y estadísticas. Si el Pokémon no existe, debe manejar el error adecuadamente y devolver None. Debe devolver toda la información en español, consultando los endpoints necesarios de la PokeAPI. Si no encuentra la traducción, debe devolver la información en inglés."
   ]
  },
  {
   "cell_type": "code",
   "execution_count": null,
   "id": "112488cb",
   "metadata": {},
   "outputs": [],
   "source": [
    "# Resolución Ejercicio 3\n",
    "def buscar_pokemon(pokemon):\n",
    "    \"\"\"\n",
    "    Consulta la PokeAPI y devuelve un diccionario con el id, nombre, descripción de la pokedex, tipos, habilidades y estadísticas.\n",
    "    La información se devuelve en español si está disponible, o en inglés si no.\n",
    "\n",
    "    Argumentos:\n",
    "        pokemon (str o int): Nombre o ID del Pokémon a buscar.\n",
    "\n",
    "    Retorna:\n",
    "        dict: Diccionario con la información del Pokémon, o None si no se encuentra.\n",
    "    \"\"\"\n",
    "    pass"
   ]
  },
  {
   "cell_type": "code",
   "execution_count": null,
   "id": "08a59cfb",
   "metadata": {
    "editable": true,
    "slideshow": {
     "slide_type": ""
    },
    "tags": []
   },
   "outputs": [],
   "source": [
    "# Ejemplo de uso:\n",
    "\n",
    "\n",
    "def print_dict(d, indent=0):\n",
    "    for key, value in d.items():\n",
    "        if isinstance(value, dict):\n",
    "            print(\" \" * indent + f\"{key.capitalize()}:\")\n",
    "            print_dict(value, indent + 2)\n",
    "        elif isinstance(value, list):\n",
    "            print(\" \" * indent + f\"{key.capitalize()}: {', '.join(map(str, value))}\")\n",
    "        else:\n",
    "            print(\" \" * indent + f\"{key.capitalize()}: {value}\")\n",
    "\n",
    "\n",
    "pokemon_info = buscar_pokemon(\"spinda\")\n",
    "if pokemon_info:\n",
    "    print_dict(pokemon_info)\n",
    "else:\n",
    "    print(\"Pokémon no encontrado.\")"
   ]
  },
  {
   "cell_type": "markdown",
   "id": "c53787e9",
   "metadata": {},
   "source": [
    "#### Ejercicio 4\n",
    "\n",
    "Escribir una función que consuma la API de [OpenWeatherMap](https://openweathermap.org/api) para obtener el clima actual de una ciudad argentina que reciba por parámetro. Debe devolver un diccionario con la temperatura, la descripción del clima y la humedad. La función debe manejar errores, como una ciudad no encontrada o problemas de conexión y devolver el error correspondiente. Las unidades de temperatura deben estar en grados Celsius. Además, la función debe devolver las coordenadas geográficas (latitud y longitud) de la ciudad, todo en español.\n",
    "\n",
    "***Pista:*** Necesitarás registrarte en OpenWeatherMap para obtener una clave API gratuita. Ver [Current Weather Data](https://openweathermap.org/current) para más detalles sobre cómo hacer solicitudes a la API. Una vez registrado, puede haber una demora de hasta 2 horas antes de que la clave API esté efectivamente activa. Revisa el correo electrónico de confirmación que te envían."
   ]
  },
  {
   "cell_type": "code",
   "execution_count": null,
   "id": "1587c3be",
   "metadata": {},
   "outputs": [],
   "source": [
    "import requests\n",
    "\n",
    "\n",
    "def obtener_clima_ciudad(api_key, ciudad):\n",
    "    \"\"\"\n",
    "    Consulta el clima actual de una ciudad argentina usando la API de OpenWeatherMap.\n",
    "\n",
    "    Argumentos:\n",
    "        api_key (str): Clave de API de OpenWeatherMap.\n",
    "        ciudad (str): Nombre de la ciudad argentina a consultar.\n",
    "\n",
    "    Retorna:\n",
    "        dict: Diccionario con temperatura, descripción, humedad y coordenadas, o None si hay error.\n",
    "    \"\"\"\n",
    "    pass"
   ]
  },
  {
   "cell_type": "code",
   "execution_count": null,
   "id": "5759266a",
   "metadata": {},
   "outputs": [],
   "source": [
    "# Ejemplo de uso:\n",
    "# Reemplaza 'TU_API_KEY' por tu clave personal de OpenWeatherMap\n",
    "api_key = \"TU_API_KEY\"\n",
    "ciudad = \"Caseros, Tres de Febrero\"\n",
    "clima = obtener_clima_ciudad(api_key, ciudad)\n",
    "if clima:\n",
    "    print(f\"Clima en {clima['ciudad']}:\")\n",
    "    print(f\"Temperatura: {clima['temperatura']}°C\")\n",
    "    print(f\"Descripción: {clima['descripcion']}\")\n",
    "    print(f\"Humedad: {clima['humedad']}%\")"
   ]
  },
  {
   "cell_type": "markdown",
   "id": "7517fca0",
   "metadata": {},
   "source": [
    "#### Ejercicio 5:\n",
    "\n",
    "Escribir una función que tome el diccionario devuelto por el ejercicio anterior y una ciudad, y abra un mapa interactivo (con folium) que muestre la temperatura, la descripción del clima y la humedad en un marcador en la ubicación de la ciudad."
   ]
  },
  {
   "cell_type": "code",
   "execution_count": null,
   "id": "211856f2",
   "metadata": {
    "editable": true,
    "slideshow": {
     "slide_type": ""
    },
    "tags": []
   },
   "outputs": [],
   "source": [
    "import folium\n",
    "\n",
    "\n",
    "def mostrar_mapa_clima(clima, ciudad):\n",
    "    \"\"\"\n",
    "    Muestra un mapa interactivo con la información del clima usando folium.\n",
    "\n",
    "    Argumentos:\n",
    "        clima (dict): Diccionario con los datos del clima.\n",
    "        ciudad (str): Nombre de la ciudad.\n",
    "\n",
    "    Retorna:\n",
    "        folium.Map: Mapa interactivo con marcador de clima.\n",
    "    \"\"\"\n",
    "    pass"
   ]
  },
  {
   "cell_type": "code",
   "execution_count": null,
   "id": "f778b090",
   "metadata": {},
   "outputs": [],
   "source": [
    "# Ejemplo de uso:\n",
    "# Reemplaza 'TU_API_KEY' por tu clave personal de OpenWeatherMap\n",
    "api_key = \"TU_API_KEY\"\n",
    "ciudad = \"Bariloche, Rio Negro\"\n",
    "\n",
    "clima = obtener_clima_ciudad(api_key, ciudad)\n",
    "if clima:\n",
    "    mapa = mostrar_mapa_clima(clima, ciudad)\n",
    "    display(mapa)  # Usar display en Jupyter para mostrar el mapa"
   ]
  }
 ],
 "metadata": {
  "kernelspec": {
   "display_name": "Python 3 (ipykernel)",
   "language": "python",
   "name": "python3"
  },
  "language_info": {
   "codemirror_mode": {
    "name": "ipython",
    "version": 3
   },
   "file_extension": ".py",
   "mimetype": "text/x-python",
   "name": "python",
   "nbconvert_exporter": "python",
   "pygments_lexer": "ipython3",
   "version": "3.13.7"
  }
 },
 "nbformat": 4,
 "nbformat_minor": 5
}
